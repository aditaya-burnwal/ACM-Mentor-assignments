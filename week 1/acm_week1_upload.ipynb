{
  "nbformat": 4,
  "nbformat_minor": 0,
  "metadata": {
    "colab": {
      "name": "acm week1",
      "provenance": [],
      "collapsed_sections": [],
      "toc_visible": true
    },
    "kernelspec": {
      "name": "python3",
      "display_name": "Python 3"
    }
  },
  "cells": [
    {
      "cell_type": "code",
      "metadata": {
        "id": "mYm5XAtpAXwt",
        "colab_type": "code",
        "colab": {
          "base_uri": "https://localhost:8080/",
          "height": 70
        },
        "outputId": "dfa91aad-ee0a-41e2-9365-311ef900e673"
      },
      "source": [
        "#importing libraries\n",
        "import numpy as np\n",
        "import pandas as pd\n",
        "import seaborn as sns\n",
        "from IPython.display import display\n",
        "import matplotlib.pyplot as plt\n",
        "import plotly.express as px\n",
        "import plotly.graph_objects as go\n",
        "from plotly.subplots import make_subplots\n",
        "from plotly.offline import init_notebook_mode, iplot\n",
        "%matplotlib inline"
      ],
      "execution_count": null,
      "outputs": [
        {
          "output_type": "stream",
          "text": [
            "/usr/local/lib/python3.6/dist-packages/statsmodels/tools/_testing.py:19: FutureWarning: pandas.util.testing is deprecated. Use the functions in the public API at pandas.testing instead.\n",
            "  import pandas.util.testing as tm\n"
          ],
          "name": "stderr"
        }
      ]
    },
    {
      "cell_type": "code",
      "metadata": {
        "id": "CrBJ0vehBJEF",
        "colab_type": "code",
        "colab": {
          "resources": {
            "http://localhost:8080/nbextensions/google.colab/files.js": {
              "data": "Ly8gQ29weXJpZ2h0IDIwMTcgR29vZ2xlIExMQwovLwovLyBMaWNlbnNlZCB1bmRlciB0aGUgQXBhY2hlIExpY2Vuc2UsIFZlcnNpb24gMi4wICh0aGUgIkxpY2Vuc2UiKTsKLy8geW91IG1heSBub3QgdXNlIHRoaXMgZmlsZSBleGNlcHQgaW4gY29tcGxpYW5jZSB3aXRoIHRoZSBMaWNlbnNlLgovLyBZb3UgbWF5IG9idGFpbiBhIGNvcHkgb2YgdGhlIExpY2Vuc2UgYXQKLy8KLy8gICAgICBodHRwOi8vd3d3LmFwYWNoZS5vcmcvbGljZW5zZXMvTElDRU5TRS0yLjAKLy8KLy8gVW5sZXNzIHJlcXVpcmVkIGJ5IGFwcGxpY2FibGUgbGF3IG9yIGFncmVlZCB0byBpbiB3cml0aW5nLCBzb2Z0d2FyZQovLyBkaXN0cmlidXRlZCB1bmRlciB0aGUgTGljZW5zZSBpcyBkaXN0cmlidXRlZCBvbiBhbiAiQVMgSVMiIEJBU0lTLAovLyBXSVRIT1VUIFdBUlJBTlRJRVMgT1IgQ09ORElUSU9OUyBPRiBBTlkgS0lORCwgZWl0aGVyIGV4cHJlc3Mgb3IgaW1wbGllZC4KLy8gU2VlIHRoZSBMaWNlbnNlIGZvciB0aGUgc3BlY2lmaWMgbGFuZ3VhZ2UgZ292ZXJuaW5nIHBlcm1pc3Npb25zIGFuZAovLyBsaW1pdGF0aW9ucyB1bmRlciB0aGUgTGljZW5zZS4KCi8qKgogKiBAZmlsZW92ZXJ2aWV3IEhlbHBlcnMgZm9yIGdvb2dsZS5jb2xhYiBQeXRob24gbW9kdWxlLgogKi8KKGZ1bmN0aW9uKHNjb3BlKSB7CmZ1bmN0aW9uIHNwYW4odGV4dCwgc3R5bGVBdHRyaWJ1dGVzID0ge30pIHsKICBjb25zdCBlbGVtZW50ID0gZG9jdW1lbnQuY3JlYXRlRWxlbWVudCgnc3BhbicpOwogIGVsZW1lbnQudGV4dENvbnRlbnQgPSB0ZXh0OwogIGZvciAoY29uc3Qga2V5IG9mIE9iamVjdC5rZXlzKHN0eWxlQXR0cmlidXRlcykpIHsKICAgIGVsZW1lbnQuc3R5bGVba2V5XSA9IHN0eWxlQXR0cmlidXRlc1trZXldOwogIH0KICByZXR1cm4gZWxlbWVudDsKfQoKLy8gTWF4IG51bWJlciBvZiBieXRlcyB3aGljaCB3aWxsIGJlIHVwbG9hZGVkIGF0IGEgdGltZS4KY29uc3QgTUFYX1BBWUxPQURfU0laRSA9IDEwMCAqIDEwMjQ7CgpmdW5jdGlvbiBfdXBsb2FkRmlsZXMoaW5wdXRJZCwgb3V0cHV0SWQpIHsKICBjb25zdCBzdGVwcyA9IHVwbG9hZEZpbGVzU3RlcChpbnB1dElkLCBvdXRwdXRJZCk7CiAgY29uc3Qgb3V0cHV0RWxlbWVudCA9IGRvY3VtZW50LmdldEVsZW1lbnRCeUlkKG91dHB1dElkKTsKICAvLyBDYWNoZSBzdGVwcyBvbiB0aGUgb3V0cHV0RWxlbWVudCB0byBtYWtlIGl0IGF2YWlsYWJsZSBmb3IgdGhlIG5leHQgY2FsbAogIC8vIHRvIHVwbG9hZEZpbGVzQ29udGludWUgZnJvbSBQeXRob24uCiAgb3V0cHV0RWxlbWVudC5zdGVwcyA9IHN0ZXBzOwoKICByZXR1cm4gX3VwbG9hZEZpbGVzQ29udGludWUob3V0cHV0SWQpOwp9CgovLyBUaGlzIGlzIHJvdWdobHkgYW4gYXN5bmMgZ2VuZXJhdG9yIChub3Qgc3VwcG9ydGVkIGluIHRoZSBicm93c2VyIHlldCksCi8vIHdoZXJlIHRoZXJlIGFyZSBtdWx0aXBsZSBhc3luY2hyb25vdXMgc3RlcHMgYW5kIHRoZSBQeXRob24gc2lkZSBpcyBnb2luZwovLyB0byBwb2xsIGZvciBjb21wbGV0aW9uIG9mIGVhY2ggc3RlcC4KLy8gVGhpcyB1c2VzIGEgUHJvbWlzZSB0byBibG9jayB0aGUgcHl0aG9uIHNpZGUgb24gY29tcGxldGlvbiBvZiBlYWNoIHN0ZXAsCi8vIHRoZW4gcGFzc2VzIHRoZSByZXN1bHQgb2YgdGhlIHByZXZpb3VzIHN0ZXAgYXMgdGhlIGlucHV0IHRvIHRoZSBuZXh0IHN0ZXAuCmZ1bmN0aW9uIF91cGxvYWRGaWxlc0NvbnRpbnVlKG91dHB1dElkKSB7CiAgY29uc3Qgb3V0cHV0RWxlbWVudCA9IGRvY3VtZW50LmdldEVsZW1lbnRCeUlkKG91dHB1dElkKTsKICBjb25zdCBzdGVwcyA9IG91dHB1dEVsZW1lbnQuc3RlcHM7CgogIGNvbnN0IG5leHQgPSBzdGVwcy5uZXh0KG91dHB1dEVsZW1lbnQubGFzdFByb21pc2VWYWx1ZSk7CiAgcmV0dXJuIFByb21pc2UucmVzb2x2ZShuZXh0LnZhbHVlLnByb21pc2UpLnRoZW4oKHZhbHVlKSA9PiB7CiAgICAvLyBDYWNoZSB0aGUgbGFzdCBwcm9taXNlIHZhbHVlIHRvIG1ha2UgaXQgYXZhaWxhYmxlIHRvIHRoZSBuZXh0CiAgICAvLyBzdGVwIG9mIHRoZSBnZW5lcmF0b3IuCiAgICBvdXRwdXRFbGVtZW50Lmxhc3RQcm9taXNlVmFsdWUgPSB2YWx1ZTsKICAgIHJldHVybiBuZXh0LnZhbHVlLnJlc3BvbnNlOwogIH0pOwp9CgovKioKICogR2VuZXJhdG9yIGZ1bmN0aW9uIHdoaWNoIGlzIGNhbGxlZCBiZXR3ZWVuIGVhY2ggYXN5bmMgc3RlcCBvZiB0aGUgdXBsb2FkCiAqIHByb2Nlc3MuCiAqIEBwYXJhbSB7c3RyaW5nfSBpbnB1dElkIEVsZW1lbnQgSUQgb2YgdGhlIGlucHV0IGZpbGUgcGlja2VyIGVsZW1lbnQuCiAqIEBwYXJhbSB7c3RyaW5nfSBvdXRwdXRJZCBFbGVtZW50IElEIG9mIHRoZSBvdXRwdXQgZGlzcGxheS4KICogQHJldHVybiB7IUl0ZXJhYmxlPCFPYmplY3Q+fSBJdGVyYWJsZSBvZiBuZXh0IHN0ZXBzLgogKi8KZnVuY3Rpb24qIHVwbG9hZEZpbGVzU3RlcChpbnB1dElkLCBvdXRwdXRJZCkgewogIGNvbnN0IGlucHV0RWxlbWVudCA9IGRvY3VtZW50LmdldEVsZW1lbnRCeUlkKGlucHV0SWQpOwogIGlucHV0RWxlbWVudC5kaXNhYmxlZCA9IGZhbHNlOwoKICBjb25zdCBvdXRwdXRFbGVtZW50ID0gZG9jdW1lbnQuZ2V0RWxlbWVudEJ5SWQob3V0cHV0SWQpOwogIG91dHB1dEVsZW1lbnQuaW5uZXJIVE1MID0gJyc7CgogIGNvbnN0IHBpY2tlZFByb21pc2UgPSBuZXcgUHJvbWlzZSgocmVzb2x2ZSkgPT4gewogICAgaW5wdXRFbGVtZW50LmFkZEV2ZW50TGlzdGVuZXIoJ2NoYW5nZScsIChlKSA9PiB7CiAgICAgIHJlc29sdmUoZS50YXJnZXQuZmlsZXMpOwogICAgfSk7CiAgfSk7CgogIGNvbnN0IGNhbmNlbCA9IGRvY3VtZW50LmNyZWF0ZUVsZW1lbnQoJ2J1dHRvbicpOwogIGlucHV0RWxlbWVudC5wYXJlbnRFbGVtZW50LmFwcGVuZENoaWxkKGNhbmNlbCk7CiAgY2FuY2VsLnRleHRDb250ZW50ID0gJ0NhbmNlbCB1cGxvYWQnOwogIGNvbnN0IGNhbmNlbFByb21pc2UgPSBuZXcgUHJvbWlzZSgocmVzb2x2ZSkgPT4gewogICAgY2FuY2VsLm9uY2xpY2sgPSAoKSA9PiB7CiAgICAgIHJlc29sdmUobnVsbCk7CiAgICB9OwogIH0pOwoKICAvLyBXYWl0IGZvciB0aGUgdXNlciB0byBwaWNrIHRoZSBmaWxlcy4KICBjb25zdCBmaWxlcyA9IHlpZWxkIHsKICAgIHByb21pc2U6IFByb21pc2UucmFjZShbcGlja2VkUHJvbWlzZSwgY2FuY2VsUHJvbWlzZV0pLAogICAgcmVzcG9uc2U6IHsKICAgICAgYWN0aW9uOiAnc3RhcnRpbmcnLAogICAgfQogIH07CgogIGNhbmNlbC5yZW1vdmUoKTsKCiAgLy8gRGlzYWJsZSB0aGUgaW5wdXQgZWxlbWVudCBzaW5jZSBmdXJ0aGVyIHBpY2tzIGFyZSBub3QgYWxsb3dlZC4KICBpbnB1dEVsZW1lbnQuZGlzYWJsZWQgPSB0cnVlOwoKICBpZiAoIWZpbGVzKSB7CiAgICByZXR1cm4gewogICAgICByZXNwb25zZTogewogICAgICAgIGFjdGlvbjogJ2NvbXBsZXRlJywKICAgICAgfQogICAgfTsKICB9CgogIGZvciAoY29uc3QgZmlsZSBvZiBmaWxlcykgewogICAgY29uc3QgbGkgPSBkb2N1bWVudC5jcmVhdGVFbGVtZW50KCdsaScpOwogICAgbGkuYXBwZW5kKHNwYW4oZmlsZS5uYW1lLCB7Zm9udFdlaWdodDogJ2JvbGQnfSkpOwogICAgbGkuYXBwZW5kKHNwYW4oCiAgICAgICAgYCgke2ZpbGUudHlwZSB8fCAnbi9hJ30pIC0gJHtmaWxlLnNpemV9IGJ5dGVzLCBgICsKICAgICAgICBgbGFzdCBtb2RpZmllZDogJHsKICAgICAgICAgICAgZmlsZS5sYXN0TW9kaWZpZWREYXRlID8gZmlsZS5sYXN0TW9kaWZpZWREYXRlLnRvTG9jYWxlRGF0ZVN0cmluZygpIDoKICAgICAgICAgICAgICAgICAgICAgICAgICAgICAgICAgICAgJ24vYSd9IC0gYCkpOwogICAgY29uc3QgcGVyY2VudCA9IHNwYW4oJzAlIGRvbmUnKTsKICAgIGxpLmFwcGVuZENoaWxkKHBlcmNlbnQpOwoKICAgIG91dHB1dEVsZW1lbnQuYXBwZW5kQ2hpbGQobGkpOwoKICAgIGNvbnN0IGZpbGVEYXRhUHJvbWlzZSA9IG5ldyBQcm9taXNlKChyZXNvbHZlKSA9PiB7CiAgICAgIGNvbnN0IHJlYWRlciA9IG5ldyBGaWxlUmVhZGVyKCk7CiAgICAgIHJlYWRlci5vbmxvYWQgPSAoZSkgPT4gewogICAgICAgIHJlc29sdmUoZS50YXJnZXQucmVzdWx0KTsKICAgICAgfTsKICAgICAgcmVhZGVyLnJlYWRBc0FycmF5QnVmZmVyKGZpbGUpOwogICAgfSk7CiAgICAvLyBXYWl0IGZvciB0aGUgZGF0YSB0byBiZSByZWFkeS4KICAgIGxldCBmaWxlRGF0YSA9IHlpZWxkIHsKICAgICAgcHJvbWlzZTogZmlsZURhdGFQcm9taXNlLAogICAgICByZXNwb25zZTogewogICAgICAgIGFjdGlvbjogJ2NvbnRpbnVlJywKICAgICAgfQogICAgfTsKCiAgICAvLyBVc2UgYSBjaHVua2VkIHNlbmRpbmcgdG8gYXZvaWQgbWVzc2FnZSBzaXplIGxpbWl0cy4gU2VlIGIvNjIxMTU2NjAuCiAgICBsZXQgcG9zaXRpb24gPSAwOwogICAgd2hpbGUgKHBvc2l0aW9uIDwgZmlsZURhdGEuYnl0ZUxlbmd0aCkgewogICAgICBjb25zdCBsZW5ndGggPSBNYXRoLm1pbihmaWxlRGF0YS5ieXRlTGVuZ3RoIC0gcG9zaXRpb24sIE1BWF9QQVlMT0FEX1NJWkUpOwogICAgICBjb25zdCBjaHVuayA9IG5ldyBVaW50OEFycmF5KGZpbGVEYXRhLCBwb3NpdGlvbiwgbGVuZ3RoKTsKICAgICAgcG9zaXRpb24gKz0gbGVuZ3RoOwoKICAgICAgY29uc3QgYmFzZTY0ID0gYnRvYShTdHJpbmcuZnJvbUNoYXJDb2RlLmFwcGx5KG51bGwsIGNodW5rKSk7CiAgICAgIHlpZWxkIHsKICAgICAgICByZXNwb25zZTogewogICAgICAgICAgYWN0aW9uOiAnYXBwZW5kJywKICAgICAgICAgIGZpbGU6IGZpbGUubmFtZSwKICAgICAgICAgIGRhdGE6IGJhc2U2NCwKICAgICAgICB9LAogICAgICB9OwogICAgICBwZXJjZW50LnRleHRDb250ZW50ID0KICAgICAgICAgIGAke01hdGgucm91bmQoKHBvc2l0aW9uIC8gZmlsZURhdGEuYnl0ZUxlbmd0aCkgKiAxMDApfSUgZG9uZWA7CiAgICB9CiAgfQoKICAvLyBBbGwgZG9uZS4KICB5aWVsZCB7CiAgICByZXNwb25zZTogewogICAgICBhY3Rpb246ICdjb21wbGV0ZScsCiAgICB9CiAgfTsKfQoKc2NvcGUuZ29vZ2xlID0gc2NvcGUuZ29vZ2xlIHx8IHt9OwpzY29wZS5nb29nbGUuY29sYWIgPSBzY29wZS5nb29nbGUuY29sYWIgfHwge307CnNjb3BlLmdvb2dsZS5jb2xhYi5fZmlsZXMgPSB7CiAgX3VwbG9hZEZpbGVzLAogIF91cGxvYWRGaWxlc0NvbnRpbnVlLAp9Owp9KShzZWxmKTsK",
              "ok": true,
              "headers": [
                [
                  "content-type",
                  "application/javascript"
                ]
              ],
              "status": 200,
              "status_text": ""
            }
          },
          "base_uri": "https://localhost:8080/",
          "height": 138
        },
        "outputId": "6408bf25-93f0-46af-ab9e-11108f4bb234"
      },
      "source": [
        "#uploading data files\n",
        "from google.colab import files\n",
        "upload = files.upload()"
      ],
      "execution_count": null,
      "outputs": [
        {
          "output_type": "display_data",
          "data": {
            "text/html": [
              "\n",
              "     <input type=\"file\" id=\"files-a4f8a0c8-20b3-4903-b89d-a7b19f272566\" name=\"files[]\" multiple disabled\n",
              "        style=\"border:none\" />\n",
              "     <output id=\"result-a4f8a0c8-20b3-4903-b89d-a7b19f272566\">\n",
              "      Upload widget is only available when the cell has been executed in the\n",
              "      current browser session. Please rerun this cell to enable.\n",
              "      </output>\n",
              "      <script src=\"/nbextensions/google.colab/files.js\"></script> "
            ],
            "text/plain": [
              "<IPython.core.display.HTML object>"
            ]
          },
          "metadata": {
            "tags": []
          }
        },
        {
          "output_type": "stream",
          "text": [
            "Saving 2012 Stack Overflow Survey Results.csv to 2012 Stack Overflow Survey Results.csv\n",
            "Saving LinkedInTopSkillscsv.csv to LinkedInTopSkillscsv.csv\n",
            "Saving udemy_courses.csv to udemy_courses.csv\n"
          ],
          "name": "stdout"
        }
      ]
    },
    {
      "cell_type": "code",
      "metadata": {
        "id": "UkRngD3jBKrx",
        "colab_type": "code",
        "colab": {
          "base_uri": "https://localhost:8080/",
          "height": 484
        },
        "outputId": "690e03d3-56bf-46de-ddbd-b712875a420f"
      },
      "source": [
        "#reading data file using padas\n",
        "df = pd.read_csv(\"udemy_courses.csv\")\n",
        "df.head(5)"
      ],
      "execution_count": null,
      "outputs": [
        {
          "output_type": "execute_result",
          "data": {
            "text/html": [
              "<div>\n",
              "<style scoped>\n",
              "    .dataframe tbody tr th:only-of-type {\n",
              "        vertical-align: middle;\n",
              "    }\n",
              "\n",
              "    .dataframe tbody tr th {\n",
              "        vertical-align: top;\n",
              "    }\n",
              "\n",
              "    .dataframe thead th {\n",
              "        text-align: right;\n",
              "    }\n",
              "</style>\n",
              "<table border=\"1\" class=\"dataframe\">\n",
              "  <thead>\n",
              "    <tr style=\"text-align: right;\">\n",
              "      <th></th>\n",
              "      <th>course_id</th>\n",
              "      <th>course_title</th>\n",
              "      <th>url</th>\n",
              "      <th>is_paid</th>\n",
              "      <th>price</th>\n",
              "      <th>num_subscribers</th>\n",
              "      <th>num_reviews</th>\n",
              "      <th>num_lectures</th>\n",
              "      <th>level</th>\n",
              "      <th>content_duration</th>\n",
              "      <th>published_timestamp</th>\n",
              "      <th>subject</th>\n",
              "    </tr>\n",
              "  </thead>\n",
              "  <tbody>\n",
              "    <tr>\n",
              "      <th>0</th>\n",
              "      <td>1070968</td>\n",
              "      <td>Ultimate Investment Banking Course</td>\n",
              "      <td>https://www.udemy.com/ultimate-investment-bank...</td>\n",
              "      <td>True</td>\n",
              "      <td>200</td>\n",
              "      <td>2147</td>\n",
              "      <td>23</td>\n",
              "      <td>51</td>\n",
              "      <td>All Levels</td>\n",
              "      <td>1.5</td>\n",
              "      <td>2017-01-18T20:58:58Z</td>\n",
              "      <td>Business Finance</td>\n",
              "    </tr>\n",
              "    <tr>\n",
              "      <th>1</th>\n",
              "      <td>1113822</td>\n",
              "      <td>Complete GST Course &amp; Certification - Grow You...</td>\n",
              "      <td>https://www.udemy.com/goods-and-services-tax/</td>\n",
              "      <td>True</td>\n",
              "      <td>75</td>\n",
              "      <td>2792</td>\n",
              "      <td>923</td>\n",
              "      <td>274</td>\n",
              "      <td>All Levels</td>\n",
              "      <td>39.0</td>\n",
              "      <td>2017-03-09T16:34:20Z</td>\n",
              "      <td>Business Finance</td>\n",
              "    </tr>\n",
              "    <tr>\n",
              "      <th>2</th>\n",
              "      <td>1006314</td>\n",
              "      <td>Financial Modeling for Business Analysts and C...</td>\n",
              "      <td>https://www.udemy.com/financial-modeling-for-b...</td>\n",
              "      <td>True</td>\n",
              "      <td>45</td>\n",
              "      <td>2174</td>\n",
              "      <td>74</td>\n",
              "      <td>51</td>\n",
              "      <td>Intermediate Level</td>\n",
              "      <td>2.5</td>\n",
              "      <td>2016-12-19T19:26:30Z</td>\n",
              "      <td>Business Finance</td>\n",
              "    </tr>\n",
              "    <tr>\n",
              "      <th>3</th>\n",
              "      <td>1210588</td>\n",
              "      <td>Beginner to Pro - Financial Analysis in Excel ...</td>\n",
              "      <td>https://www.udemy.com/complete-excel-finance-c...</td>\n",
              "      <td>True</td>\n",
              "      <td>95</td>\n",
              "      <td>2451</td>\n",
              "      <td>11</td>\n",
              "      <td>36</td>\n",
              "      <td>All Levels</td>\n",
              "      <td>3.0</td>\n",
              "      <td>2017-05-30T20:07:24Z</td>\n",
              "      <td>Business Finance</td>\n",
              "    </tr>\n",
              "    <tr>\n",
              "      <th>4</th>\n",
              "      <td>1011058</td>\n",
              "      <td>How To Maximize Your Profits Trading Options</td>\n",
              "      <td>https://www.udemy.com/how-to-maximize-your-pro...</td>\n",
              "      <td>True</td>\n",
              "      <td>200</td>\n",
              "      <td>1276</td>\n",
              "      <td>45</td>\n",
              "      <td>26</td>\n",
              "      <td>Intermediate Level</td>\n",
              "      <td>2.0</td>\n",
              "      <td>2016-12-13T14:57:18Z</td>\n",
              "      <td>Business Finance</td>\n",
              "    </tr>\n",
              "  </tbody>\n",
              "</table>\n",
              "</div>"
            ],
            "text/plain": [
              "   course_id  ...           subject\n",
              "0    1070968  ...  Business Finance\n",
              "1    1113822  ...  Business Finance\n",
              "2    1006314  ...  Business Finance\n",
              "3    1210588  ...  Business Finance\n",
              "4    1011058  ...  Business Finance\n",
              "\n",
              "[5 rows x 12 columns]"
            ]
          },
          "metadata": {
            "tags": []
          },
          "execution_count": 3
        }
      ]
    },
    {
      "cell_type": "code",
      "metadata": {
        "id": "D9nTV225UNve",
        "colab_type": "code",
        "colab": {
          "base_uri": "https://localhost:8080/",
          "height": 100
        },
        "outputId": "1546c2b1-9a2e-474f-a6e4-69648763e69f"
      },
      "source": [
        "print(df.columns)\n",
        "print(df.shape)"
      ],
      "execution_count": null,
      "outputs": [
        {
          "output_type": "stream",
          "text": [
            "Index(['course_id', 'course_title', 'url', 'is_paid', 'price',\n",
            "       'num_subscribers', 'num_reviews', 'num_lectures', 'level',\n",
            "       'content_duration', 'published_timestamp', 'subject'],\n",
            "      dtype='object')\n",
            "(3678, 12)\n"
          ],
          "name": "stdout"
        }
      ]
    },
    {
      "cell_type": "code",
      "metadata": {
        "id": "KaAQ0KJAT3Ax",
        "colab_type": "code",
        "colab": {
          "base_uri": "https://localhost:8080/",
          "height": 233
        },
        "outputId": "131897a7-3b3c-44a1-af22-c85ad563d51b"
      },
      "source": [
        "print(f\"Dataframe shape : {df.shape}\")\n",
        "for column in df.columns:\n",
        "    print(f\"{column} : {len(df[column].value_counts())}\")\n",
        "#number of unique values in each column"
      ],
      "execution_count": null,
      "outputs": [
        {
          "output_type": "stream",
          "text": [
            "Dataframe shape : (3678, 12)\n",
            "course_id : 3672\n",
            "course_title : 3663\n",
            "url : 3672\n",
            "is_paid : 2\n",
            "price : 38\n",
            "num_subscribers : 2197\n",
            "num_reviews : 511\n",
            "num_lectures : 229\n",
            "level : 4\n",
            "content_duration : 105\n",
            "published_timestamp : 3672\n",
            "subject : 4\n"
          ],
          "name": "stdout"
        }
      ]
    },
    {
      "cell_type": "markdown",
      "metadata": {
        "id": "f_fA99MxYBVM",
        "colab_type": "text"
      },
      "source": [
        "The shape of Dataframe is (3678,10) but the number of course id's are 3672 so there must be some duplicate rows in the dataframe"
      ]
    },
    {
      "cell_type": "code",
      "metadata": {
        "id": "4qNYmedUUCAM",
        "colab_type": "code",
        "colab": {
          "base_uri": "https://localhost:8080/",
          "height": 33
        },
        "outputId": "78c63506-c89b-4e77-fb4e-b1e0170671cf"
      },
      "source": [
        "df = df.drop_duplicates() #removing duplicates\n",
        "print(df.shape) "
      ],
      "execution_count": null,
      "outputs": [
        {
          "output_type": "stream",
          "text": [
            "(3672, 12)\n"
          ],
          "name": "stdout"
        }
      ]
    },
    {
      "cell_type": "markdown",
      "metadata": {
        "id": "4Nu0hkpFYtYy",
        "colab_type": "text"
      },
      "source": [
        "duplicate rows are removed"
      ]
    },
    {
      "cell_type": "code",
      "metadata": {
        "id": "2tqj1t3UZB_K",
        "colab_type": "code",
        "colab": {
          "base_uri": "https://localhost:8080/",
          "height": 233
        },
        "outputId": "927e35b5-6b5b-4ff6-926f-7e70048ebc31"
      },
      "source": [
        "df.isnull().sum() #check if there are any null values"
      ],
      "execution_count": null,
      "outputs": [
        {
          "output_type": "execute_result",
          "data": {
            "text/plain": [
              "course_id              0\n",
              "course_title           0\n",
              "url                    0\n",
              "is_paid                0\n",
              "price                  0\n",
              "num_subscribers        0\n",
              "num_reviews            0\n",
              "num_lectures           0\n",
              "level                  0\n",
              "content_duration       0\n",
              "published_timestamp    0\n",
              "subject                0\n",
              "dtype: int64"
            ]
          },
          "metadata": {
            "tags": []
          },
          "execution_count": 7
        }
      ]
    },
    {
      "cell_type": "markdown",
      "metadata": {
        "id": "6xIaDraVZD_u",
        "colab_type": "text"
      },
      "source": [
        "There are no null values in the dataframe"
      ]
    },
    {
      "cell_type": "code",
      "metadata": {
        "id": "X9-SdlpGBvSZ",
        "colab_type": "code",
        "colab": {
          "base_uri": "https://localhost:8080/",
          "height": 287
        },
        "outputId": "8f18b334-a2ad-4df9-f487-33e0358d841f"
      },
      "source": [
        "#analyse all numeric columns using describe()\n",
        "df.describe()"
      ],
      "execution_count": null,
      "outputs": [
        {
          "output_type": "execute_result",
          "data": {
            "text/html": [
              "<div>\n",
              "<style scoped>\n",
              "    .dataframe tbody tr th:only-of-type {\n",
              "        vertical-align: middle;\n",
              "    }\n",
              "\n",
              "    .dataframe tbody tr th {\n",
              "        vertical-align: top;\n",
              "    }\n",
              "\n",
              "    .dataframe thead th {\n",
              "        text-align: right;\n",
              "    }\n",
              "</style>\n",
              "<table border=\"1\" class=\"dataframe\">\n",
              "  <thead>\n",
              "    <tr style=\"text-align: right;\">\n",
              "      <th></th>\n",
              "      <th>course_id</th>\n",
              "      <th>price</th>\n",
              "      <th>num_subscribers</th>\n",
              "      <th>num_reviews</th>\n",
              "      <th>num_lectures</th>\n",
              "      <th>content_duration</th>\n",
              "    </tr>\n",
              "  </thead>\n",
              "  <tbody>\n",
              "    <tr>\n",
              "      <th>count</th>\n",
              "      <td>3.672000e+03</td>\n",
              "      <td>3672.000000</td>\n",
              "      <td>3672.000000</td>\n",
              "      <td>3672.000000</td>\n",
              "      <td>3672.000000</td>\n",
              "      <td>3672.000000</td>\n",
              "    </tr>\n",
              "    <tr>\n",
              "      <th>mean</th>\n",
              "      <td>6.758977e+05</td>\n",
              "      <td>66.102941</td>\n",
              "      <td>3190.586874</td>\n",
              "      <td>156.371460</td>\n",
              "      <td>40.140251</td>\n",
              "      <td>4.097603</td>\n",
              "    </tr>\n",
              "    <tr>\n",
              "      <th>std</th>\n",
              "      <td>3.430720e+05</td>\n",
              "      <td>61.035920</td>\n",
              "      <td>9488.105448</td>\n",
              "      <td>936.178649</td>\n",
              "      <td>50.417102</td>\n",
              "      <td>6.057830</td>\n",
              "    </tr>\n",
              "    <tr>\n",
              "      <th>min</th>\n",
              "      <td>8.324000e+03</td>\n",
              "      <td>0.000000</td>\n",
              "      <td>0.000000</td>\n",
              "      <td>0.000000</td>\n",
              "      <td>0.000000</td>\n",
              "      <td>0.000000</td>\n",
              "    </tr>\n",
              "    <tr>\n",
              "      <th>25%</th>\n",
              "      <td>4.077615e+05</td>\n",
              "      <td>20.000000</td>\n",
              "      <td>111.750000</td>\n",
              "      <td>4.000000</td>\n",
              "      <td>15.000000</td>\n",
              "      <td>1.000000</td>\n",
              "    </tr>\n",
              "    <tr>\n",
              "      <th>50%</th>\n",
              "      <td>6.876920e+05</td>\n",
              "      <td>45.000000</td>\n",
              "      <td>912.000000</td>\n",
              "      <td>18.000000</td>\n",
              "      <td>25.000000</td>\n",
              "      <td>2.000000</td>\n",
              "    </tr>\n",
              "    <tr>\n",
              "      <th>75%</th>\n",
              "      <td>9.608140e+05</td>\n",
              "      <td>95.000000</td>\n",
              "      <td>2548.750000</td>\n",
              "      <td>67.000000</td>\n",
              "      <td>46.000000</td>\n",
              "      <td>4.500000</td>\n",
              "    </tr>\n",
              "    <tr>\n",
              "      <th>max</th>\n",
              "      <td>1.282064e+06</td>\n",
              "      <td>200.000000</td>\n",
              "      <td>268923.000000</td>\n",
              "      <td>27445.000000</td>\n",
              "      <td>779.000000</td>\n",
              "      <td>78.500000</td>\n",
              "    </tr>\n",
              "  </tbody>\n",
              "</table>\n",
              "</div>"
            ],
            "text/plain": [
              "          course_id        price  ...  num_lectures  content_duration\n",
              "count  3.672000e+03  3672.000000  ...   3672.000000       3672.000000\n",
              "mean   6.758977e+05    66.102941  ...     40.140251          4.097603\n",
              "std    3.430720e+05    61.035920  ...     50.417102          6.057830\n",
              "min    8.324000e+03     0.000000  ...      0.000000          0.000000\n",
              "25%    4.077615e+05    20.000000  ...     15.000000          1.000000\n",
              "50%    6.876920e+05    45.000000  ...     25.000000          2.000000\n",
              "75%    9.608140e+05    95.000000  ...     46.000000          4.500000\n",
              "max    1.282064e+06   200.000000  ...    779.000000         78.500000\n",
              "\n",
              "[8 rows x 6 columns]"
            ]
          },
          "metadata": {
            "tags": []
          },
          "execution_count": 8
        }
      ]
    },
    {
      "cell_type": "markdown",
      "metadata": {
        "id": "iVkQnovnY4c-",
        "colab_type": "text"
      },
      "source": [
        "# Major conclusions from the above table are as follows:\n",
        "\n",
        "1.  There are courses containing no lectures as well as no content duration\n",
        "2.  content duration and number of lectures at 75th percentile are only 4.5 hrs and 26 while their maximum is 78.5 and 779\n",
        "3.  number of subscribers at 75th percentile is 2548.75 while its maximum is 268923.0\n",
        "4.  number of reviews at 75th percentile are 67 while its maximum is 27445\n",
        "5.  maximum price of any course is 200\n",
        "6.  There are courses with 0 subscribers\n",
        "7.  maximum content duration is 78.5 hrs"
      ]
    },
    {
      "cell_type": "code",
      "metadata": {
        "id": "yT5E8L-DB7tg",
        "colab_type": "code",
        "colab": {
          "base_uri": "https://localhost:8080/",
          "height": 83
        },
        "outputId": "33daae1c-f3b0-4ac6-aa64-88a0c207d9c3"
      },
      "source": [
        "print(df[\"level\"].unique())\n",
        "print(df[\"subject\"].unique())\n",
        "print(df[\"is_paid\"].unique())"
      ],
      "execution_count": null,
      "outputs": [
        {
          "output_type": "stream",
          "text": [
            "['All Levels' 'Intermediate Level' 'Beginner Level' 'Expert Level']\n",
            "['Business Finance' 'Graphic Design' 'Musical Instruments'\n",
            " 'Web Development']\n",
            "[ True False]\n"
          ],
          "name": "stdout"
        }
      ]
    },
    {
      "cell_type": "code",
      "metadata": {
        "id": "wUifRW4uIHNs",
        "colab_type": "code",
        "colab": {}
      },
      "source": [
        "df.loc[:,\"levels\"] = -1\n",
        "df.loc[df[\"level\"]==\"All Levels\",\"levels\"]=0\n",
        "df.loc[df[\"level\"]==\"Intermediate Level\",\"levels\"]=2\n",
        "df.loc[df[\"level\"]==\"Beginner Level\",\"levels\"]=1\n",
        "df.loc[df[\"level\"]==\"Expert Level\",\"levels\"]=3\n",
        "\n",
        "df.loc[:,\"subjects\"] = -1\n",
        "df.loc[df[\"subject\"]==\"Business Finance\",\"subjects\"]=0\n",
        "df.loc[df[\"subject\"]==\"Graphic Design\",\"subjects\"]=2\n",
        "df.loc[df[\"subject\"]==\"Musical Instruments\",\"subjects\"]=1\n",
        "df.loc[df[\"subject\"]==\"Web Development\",\"subjects\"]=3\n",
        "\n",
        "df.loc[:,\"paid_or_not\"] = -1\n",
        "df.loc[df[\"is_paid\"]== False,\"paid_or_not\"] = 0\n",
        "df.loc[df[\"is_paid\"]== True,\"paid_or_not\"] = 1\n",
        "\n",
        "df.loc[:,\"publish_timestamp\"] = pd.to_datetime(df[\"published_timestamp\"]).dt.year"
      ],
      "execution_count": null,
      "outputs": []
    },
    {
      "cell_type": "code",
      "metadata": {
        "id": "neZKnqDDLmR0",
        "colab_type": "code",
        "colab": {}
      },
      "source": [
        "df = df.drop(columns = [\"level\",\"subject\",\"is_paid\",\"published_timestamp\"] )"
      ],
      "execution_count": null,
      "outputs": []
    },
    {
      "cell_type": "code",
      "metadata": {
        "id": "XEdruVY8MF58",
        "colab_type": "code",
        "colab": {
          "base_uri": "https://localhost:8080/",
          "height": 484
        },
        "outputId": "0e6b07e7-00b3-4d6a-dcd0-dc9737bebda6"
      },
      "source": [
        "df.head(5)"
      ],
      "execution_count": null,
      "outputs": [
        {
          "output_type": "execute_result",
          "data": {
            "text/html": [
              "<div>\n",
              "<style scoped>\n",
              "    .dataframe tbody tr th:only-of-type {\n",
              "        vertical-align: middle;\n",
              "    }\n",
              "\n",
              "    .dataframe tbody tr th {\n",
              "        vertical-align: top;\n",
              "    }\n",
              "\n",
              "    .dataframe thead th {\n",
              "        text-align: right;\n",
              "    }\n",
              "</style>\n",
              "<table border=\"1\" class=\"dataframe\">\n",
              "  <thead>\n",
              "    <tr style=\"text-align: right;\">\n",
              "      <th></th>\n",
              "      <th>course_id</th>\n",
              "      <th>course_title</th>\n",
              "      <th>url</th>\n",
              "      <th>price</th>\n",
              "      <th>num_subscribers</th>\n",
              "      <th>num_reviews</th>\n",
              "      <th>num_lectures</th>\n",
              "      <th>content_duration</th>\n",
              "      <th>levels</th>\n",
              "      <th>subjects</th>\n",
              "      <th>paid_or_not</th>\n",
              "      <th>publish_timestamp</th>\n",
              "    </tr>\n",
              "  </thead>\n",
              "  <tbody>\n",
              "    <tr>\n",
              "      <th>0</th>\n",
              "      <td>1070968</td>\n",
              "      <td>Ultimate Investment Banking Course</td>\n",
              "      <td>https://www.udemy.com/ultimate-investment-bank...</td>\n",
              "      <td>200</td>\n",
              "      <td>2147</td>\n",
              "      <td>23</td>\n",
              "      <td>51</td>\n",
              "      <td>1.5</td>\n",
              "      <td>0</td>\n",
              "      <td>0</td>\n",
              "      <td>1</td>\n",
              "      <td>2017</td>\n",
              "    </tr>\n",
              "    <tr>\n",
              "      <th>1</th>\n",
              "      <td>1113822</td>\n",
              "      <td>Complete GST Course &amp; Certification - Grow You...</td>\n",
              "      <td>https://www.udemy.com/goods-and-services-tax/</td>\n",
              "      <td>75</td>\n",
              "      <td>2792</td>\n",
              "      <td>923</td>\n",
              "      <td>274</td>\n",
              "      <td>39.0</td>\n",
              "      <td>0</td>\n",
              "      <td>0</td>\n",
              "      <td>1</td>\n",
              "      <td>2017</td>\n",
              "    </tr>\n",
              "    <tr>\n",
              "      <th>2</th>\n",
              "      <td>1006314</td>\n",
              "      <td>Financial Modeling for Business Analysts and C...</td>\n",
              "      <td>https://www.udemy.com/financial-modeling-for-b...</td>\n",
              "      <td>45</td>\n",
              "      <td>2174</td>\n",
              "      <td>74</td>\n",
              "      <td>51</td>\n",
              "      <td>2.5</td>\n",
              "      <td>2</td>\n",
              "      <td>0</td>\n",
              "      <td>1</td>\n",
              "      <td>2016</td>\n",
              "    </tr>\n",
              "    <tr>\n",
              "      <th>3</th>\n",
              "      <td>1210588</td>\n",
              "      <td>Beginner to Pro - Financial Analysis in Excel ...</td>\n",
              "      <td>https://www.udemy.com/complete-excel-finance-c...</td>\n",
              "      <td>95</td>\n",
              "      <td>2451</td>\n",
              "      <td>11</td>\n",
              "      <td>36</td>\n",
              "      <td>3.0</td>\n",
              "      <td>0</td>\n",
              "      <td>0</td>\n",
              "      <td>1</td>\n",
              "      <td>2017</td>\n",
              "    </tr>\n",
              "    <tr>\n",
              "      <th>4</th>\n",
              "      <td>1011058</td>\n",
              "      <td>How To Maximize Your Profits Trading Options</td>\n",
              "      <td>https://www.udemy.com/how-to-maximize-your-pro...</td>\n",
              "      <td>200</td>\n",
              "      <td>1276</td>\n",
              "      <td>45</td>\n",
              "      <td>26</td>\n",
              "      <td>2.0</td>\n",
              "      <td>2</td>\n",
              "      <td>0</td>\n",
              "      <td>1</td>\n",
              "      <td>2016</td>\n",
              "    </tr>\n",
              "  </tbody>\n",
              "</table>\n",
              "</div>"
            ],
            "text/plain": [
              "   course_id  ... publish_timestamp\n",
              "0    1070968  ...              2017\n",
              "1    1113822  ...              2017\n",
              "2    1006314  ...              2016\n",
              "3    1210588  ...              2017\n",
              "4    1011058  ...              2016\n",
              "\n",
              "[5 rows x 12 columns]"
            ]
          },
          "metadata": {
            "tags": []
          },
          "execution_count": 12
        }
      ]
    },
    {
      "cell_type": "code",
      "metadata": {
        "id": "785QU5NCB-q-",
        "colab_type": "code",
        "colab": {
          "base_uri": "https://localhost:8080/",
          "height": 1000
        },
        "outputId": "842e3ce1-edad-4a94-8081-af794679595d"
      },
      "source": [
        "#plotting barplots for categorical data\n",
        "p1 = sns.distplot(df[\"price\"],kde = True)\n",
        "plt.show()\n",
        "p2 = sns.distplot(df[\"levels\"],kde = False)\n",
        "plt.show()\n",
        "p3 = sns.distplot(df[\"subjects\"],kde = False)\n",
        "plt.show()\n",
        "p4 = sns.distplot(df[\"paid_or_not\"],kde = False)\n",
        "plt.show()\n",
        "p4 = sns.distplot(df[\"publish_timestamp\"],kde = False)\n",
        "plt.show()"
      ],
      "execution_count": null,
      "outputs": [
        {
          "output_type": "display_data",
          "data": {
            "image/png": "[encoded data removed]",
            "text/plain": [
              "<Figure size 432x288 with 1 Axes>"
            ]
          },
          "metadata": {
            "tags": [],
            "needs_background": "light"
          }
        },
        {
          "output_type": "display_data",
          "data": {
            "image/png": "[encoded data removed]",
            "text/plain": [
              "<Figure size 432x288 with 1 Axes>"
            ]
          },
          "metadata": {
            "tags": [],
            "needs_background": "light"
          }
        },
        {
          "output_type": "display_data",
          "data": {
            "image/png": "[encoded data removed]",
            "text/plain": [
              "<Figure size 432x288 with 1 Axes>"
            ]
          },
          "metadata": {
            "tags": [],
            "needs_background": "light"
          }
        },
        {
          "output_type": "display_data",
          "data": {
            "image/png": "[encoded data removed]",
            "text/plain": [
              "<Figure size 432x288 with 1 Axes>"
            ]
          },
          "metadata": {
            "tags": [],
            "needs_background": "light"
          }
        },
        {
          "output_type": "display_data",
          "data": {
            "image/png": "[encoded data removed]",
            "text/plain": [
              "<Figure size 432x288 with 1 Axes>"
            ]
          },
          "metadata": {
            "tags": [],
            "needs_background": "light"
          }
        }
      ]
    },
    {
      "cell_type": "code",
      "metadata": {
        "id": "d6fXjHwWiv3x",
        "colab_type": "code",
        "colab": {
          "base_uri": "https://localhost:8080/",
          "height": 433
        },
        "outputId": "8805f5e1-7904-4218-99cf-57e46b78bd9d"
      },
      "source": [
        "print(df[\"paid_or_not\"].value_counts())\n",
        "print(\"-\"*20)\n",
        "print(df[\"levels\"].value_counts())\n",
        "print(\"-\"*20)\n",
        "print(df[\"subjects\"].value_counts())\n",
        "print(\"-\"*20)\n",
        "print(df[\"publish_timestamp\"].value_counts())\n",
        "print(\"-\"*20)"
      ],
      "execution_count": null,
      "outputs": [
        {
          "output_type": "stream",
          "text": [
            "1    3362\n",
            "0     310\n",
            "Name: paid_or_not, dtype: int64\n",
            "--------------------\n",
            "0    1925\n",
            "1    1268\n",
            "2     421\n",
            "3      58\n",
            "Name: levels, dtype: int64\n",
            "--------------------\n",
            "3    1199\n",
            "0    1191\n",
            "1     680\n",
            "2     602\n",
            "Name: subjects, dtype: int64\n",
            "--------------------\n",
            "2016    1204\n",
            "2015    1014\n",
            "2017     713\n",
            "2014     490\n",
            "2013     201\n",
            "2012      45\n",
            "2011       5\n",
            "Name: publish_timestamp, dtype: int64\n",
            "--------------------\n"
          ],
          "name": "stdout"
        }
      ]
    },
    {
      "cell_type": "markdown",
      "metadata": {
        "id": "EX-j6vJ3k7Xf",
        "colab_type": "text"
      },
      "source": [
        "# Conclusions from above:\n",
        "\n",
        "*   The number of paid courses are much higher than non_paid\n",
        "*   number of \"All levels\" courses courses are most,much higher than \"Expert Level\" courses followed by \"Intermediate level\" courses\n",
        "*   number of \"web development\" and \"Business Finance\" courses are comparable and higher than the other two\n",
        "*   most of the courses have price range between 0-50\n"
      ]
    },
    {
      "cell_type": "code",
      "metadata": {
        "id": "J6ehZg2kDZi8",
        "colab_type": "code",
        "colab": {
          "base_uri": "https://localhost:8080/",
          "height": 371
        },
        "outputId": "2942e4c3-87d2-4659-dac7-7f4370d68c7d"
      },
      "source": [
        "sns.heatmap(df[['paid_or_not', 'price',\n",
        "       'num_subscribers', 'num_reviews', 'num_lectures', 'levels',\n",
        "       'content_duration', 'subjects',\"publish_timestamp\"]].corr())"
      ],
      "execution_count": null,
      "outputs": [
        {
          "output_type": "execute_result",
          "data": {
            "text/plain": [
              "<matplotlib.axes._subplots.AxesSubplot at 0x7f7a635ebfd0>"
            ]
          },
          "metadata": {
            "tags": []
          },
          "execution_count": 15
        },
        {
          "output_type": "display_data",
          "data": {
            "image/png": "[encoded data removed]",
            "text/plain": [
              "<Figure size 432x288 with 2 Axes>"
            ]
          },
          "metadata": {
            "tags": [],
            "needs_background": "light"
          }
        }
      ]
    },
    {
      "cell_type": "code",
      "metadata": {
        "id": "gzqVyFKElCp5",
        "colab_type": "code",
        "colab": {
          "base_uri": "https://localhost:8080/",
          "height": 317
        },
        "outputId": "6c90daa8-313d-44c0-d5a0-8d658a76ab3d"
      },
      "source": [
        "df[['paid_or_not', 'price',\n",
        "       'num_subscribers', 'num_reviews', 'num_lectures', 'levels',\n",
        "       'content_duration', 'subjects',\"publish_timestamp\"]].corr()"
      ],
      "execution_count": null,
      "outputs": [
        {
          "output_type": "execute_result",
          "data": {
            "text/html": [
              "<div>\n",
              "<style scoped>\n",
              "    .dataframe tbody tr th:only-of-type {\n",
              "        vertical-align: middle;\n",
              "    }\n",
              "\n",
              "    .dataframe tbody tr th {\n",
              "        vertical-align: top;\n",
              "    }\n",
              "\n",
              "    .dataframe thead th {\n",
              "        text-align: right;\n",
              "    }\n",
              "</style>\n",
              "<table border=\"1\" class=\"dataframe\">\n",
              "  <thead>\n",
              "    <tr style=\"text-align: right;\">\n",
              "      <th></th>\n",
              "      <th>paid_or_not</th>\n",
              "      <th>price</th>\n",
              "      <th>num_subscribers</th>\n",
              "      <th>num_reviews</th>\n",
              "      <th>num_lectures</th>\n",
              "      <th>levels</th>\n",
              "      <th>content_duration</th>\n",
              "      <th>subjects</th>\n",
              "      <th>publish_timestamp</th>\n",
              "    </tr>\n",
              "  </thead>\n",
              "  <tbody>\n",
              "    <tr>\n",
              "      <th>paid_or_not</th>\n",
              "      <td>1.000000</td>\n",
              "      <td>0.328910</td>\n",
              "      <td>-0.267056</td>\n",
              "      <td>-0.087445</td>\n",
              "      <td>0.112788</td>\n",
              "      <td>-0.032982</td>\n",
              "      <td>0.094594</td>\n",
              "      <td>-0.041110</td>\n",
              "      <td>-0.017662</td>\n",
              "    </tr>\n",
              "    <tr>\n",
              "      <th>price</th>\n",
              "      <td>0.328910</td>\n",
              "      <td>1.000000</td>\n",
              "      <td>0.050436</td>\n",
              "      <td>0.113568</td>\n",
              "      <td>0.329944</td>\n",
              "      <td>-0.073455</td>\n",
              "      <td>0.293200</td>\n",
              "      <td>0.065144</td>\n",
              "      <td>0.133654</td>\n",
              "    </tr>\n",
              "    <tr>\n",
              "      <th>num_subscribers</th>\n",
              "      <td>-0.267056</td>\n",
              "      <td>0.050436</td>\n",
              "      <td>1.000000</td>\n",
              "      <td>0.651070</td>\n",
              "      <td>0.158351</td>\n",
              "      <td>-0.061454</td>\n",
              "      <td>0.162118</td>\n",
              "      <td>0.214254</td>\n",
              "      <td>-0.182697</td>\n",
              "    </tr>\n",
              "    <tr>\n",
              "      <th>num_reviews</th>\n",
              "      <td>-0.087445</td>\n",
              "      <td>0.113568</td>\n",
              "      <td>0.651070</td>\n",
              "      <td>1.000000</td>\n",
              "      <td>0.243019</td>\n",
              "      <td>-0.055654</td>\n",
              "      <td>0.228852</td>\n",
              "      <td>0.125489</td>\n",
              "      <td>-0.053061</td>\n",
              "    </tr>\n",
              "    <tr>\n",
              "      <th>num_lectures</th>\n",
              "      <td>0.112788</td>\n",
              "      <td>0.329944</td>\n",
              "      <td>0.158351</td>\n",
              "      <td>0.243019</td>\n",
              "      <td>1.000000</td>\n",
              "      <td>-0.102552</td>\n",
              "      <td>0.801624</td>\n",
              "      <td>0.150738</td>\n",
              "      <td>-0.025243</td>\n",
              "    </tr>\n",
              "    <tr>\n",
              "      <th>levels</th>\n",
              "      <td>-0.032982</td>\n",
              "      <td>-0.073455</td>\n",
              "      <td>-0.061454</td>\n",
              "      <td>-0.055654</td>\n",
              "      <td>-0.102552</td>\n",
              "      <td>1.000000</td>\n",
              "      <td>-0.107397</td>\n",
              "      <td>-0.008831</td>\n",
              "      <td>0.082506</td>\n",
              "    </tr>\n",
              "    <tr>\n",
              "      <th>content_duration</th>\n",
              "      <td>0.094594</td>\n",
              "      <td>0.293200</td>\n",
              "      <td>0.162118</td>\n",
              "      <td>0.228852</td>\n",
              "      <td>0.801624</td>\n",
              "      <td>-0.107397</td>\n",
              "      <td>1.000000</td>\n",
              "      <td>0.141784</td>\n",
              "      <td>-0.058824</td>\n",
              "    </tr>\n",
              "    <tr>\n",
              "      <th>subjects</th>\n",
              "      <td>-0.041110</td>\n",
              "      <td>0.065144</td>\n",
              "      <td>0.214254</td>\n",
              "      <td>0.125489</td>\n",
              "      <td>0.150738</td>\n",
              "      <td>-0.008831</td>\n",
              "      <td>0.141784</td>\n",
              "      <td>1.000000</td>\n",
              "      <td>0.063329</td>\n",
              "    </tr>\n",
              "    <tr>\n",
              "      <th>publish_timestamp</th>\n",
              "      <td>-0.017662</td>\n",
              "      <td>0.133654</td>\n",
              "      <td>-0.182697</td>\n",
              "      <td>-0.053061</td>\n",
              "      <td>-0.025243</td>\n",
              "      <td>0.082506</td>\n",
              "      <td>-0.058824</td>\n",
              "      <td>0.063329</td>\n",
              "      <td>1.000000</td>\n",
              "    </tr>\n",
              "  </tbody>\n",
              "</table>\n",
              "</div>"
            ],
            "text/plain": [
              "                   paid_or_not     price  ...  subjects  publish_timestamp\n",
              "paid_or_not           1.000000  0.328910  ... -0.041110          -0.017662\n",
              "price                 0.328910  1.000000  ...  0.065144           0.133654\n",
              "num_subscribers      -0.267056  0.050436  ...  0.214254          -0.182697\n",
              "num_reviews          -0.087445  0.113568  ...  0.125489          -0.053061\n",
              "num_lectures          0.112788  0.329944  ...  0.150738          -0.025243\n",
              "levels               -0.032982 -0.073455  ... -0.008831           0.082506\n",
              "content_duration      0.094594  0.293200  ...  0.141784          -0.058824\n",
              "subjects             -0.041110  0.065144  ...  1.000000           0.063329\n",
              "publish_timestamp    -0.017662  0.133654  ...  0.063329           1.000000\n",
              "\n",
              "[9 rows x 9 columns]"
            ]
          },
          "metadata": {
            "tags": []
          },
          "execution_count": 16
        }
      ]
    },
    {
      "cell_type": "markdown",
      "metadata": {
        "id": "XWgd4N9_Ffrl",
        "colab_type": "text"
      },
      "source": [
        "#  Analysing the data distribution by paid and non paid courses:"
      ]
    },
    {
      "cell_type": "code",
      "metadata": {
        "id": "Uya0nTYZl6Em",
        "colab_type": "code",
        "colab": {
          "base_uri": "https://localhost:8080/",
          "height": 362
        },
        "outputId": "97b03fa6-5300-4cda-e00b-daac025f198b"
      },
      "source": [
        "sns.countplot(x = \"levels\",hue = \"paid_or_not\",data = df)\n",
        "print(\"Total paid courses:{}, Total unpaid courses:{}\".format(df[\"paid_or_not\"].value_counts().values[0],df[\"paid_or_not\"].value_counts().values[1]))\n",
        "print(pd.crosstab(df[\"paid_or_not\"], df[\"levels\"]))\n",
        "#levels and the if paid or not\n",
        "#shows that 1.Expert level is not included in unpaid courses\n",
        "#2."
      ],
      "execution_count": null,
      "outputs": [
        {
          "output_type": "stream",
          "text": [
            "Total paid courses:3362, Total unpaid courses:310\n",
            "levels          0     1    2   3\n",
            "paid_or_not                     \n",
            "0             122   158   30   0\n",
            "1            1803  1110  391  58\n"
          ],
          "name": "stdout"
        },
        {
          "output_type": "display_data",
          "data": {
            "image/png": "[encoded data removed]",
            "text/plain": [
              "<Figure size 432x288 with 1 Axes>"
            ]
          },
          "metadata": {
            "tags": [],
            "needs_background": "light"
          }
        }
      ]
    },
    {
      "cell_type": "code",
      "metadata": {
        "id": "VpyP8nSbpmrm",
        "colab_type": "code",
        "colab": {
          "base_uri": "https://localhost:8080/",
          "height": 333
        },
        "outputId": "f2de3991-698c-477f-fbc2-d2bd34dbb346"
      },
      "source": [
        "print(df.loc[df[\"paid_or_not\"]==0,\"num_subscribers\"].to_frame().describe())\n",
        "print(\"-\"*30)\n",
        "print(df.loc[df[\"paid_or_not\"]==1,\"num_subscribers\"].to_frame().describe())"
      ],
      "execution_count": null,
      "outputs": [
        {
          "output_type": "stream",
          "text": [
            "       num_subscribers\n",
            "count       310.000000\n",
            "mean      11533.951613\n",
            "std       23620.569473\n",
            "min           1.000000\n",
            "25%        2222.250000\n",
            "50%        4869.500000\n",
            "75%       10637.500000\n",
            "max      268923.000000\n",
            "------------------------------\n",
            "       num_subscribers\n",
            "count      3362.000000\n",
            "mean       2421.270077\n",
            "std        6326.164761\n",
            "min           0.000000\n",
            "25%          90.250000\n",
            "50%         736.000000\n",
            "75%        2058.250000\n",
            "max      121584.000000\n"
          ],
          "name": "stdout"
        }
      ]
    },
    {
      "cell_type": "code",
      "metadata": {
        "id": "NRzfLQWfv1d_",
        "colab_type": "code",
        "colab": {
          "base_uri": "https://localhost:8080/",
          "height": 296
        },
        "outputId": "aea81ac5-06fa-4ac1-d289-6e697bc6e516"
      },
      "source": [
        "sns.barplot(x = df[\"levels\"],y=df[\"num_subscribers\"],hue = df[\"paid_or_not\"])"
      ],
      "execution_count": null,
      "outputs": [
        {
          "output_type": "execute_result",
          "data": {
            "text/plain": [
              "<matplotlib.axes._subplots.AxesSubplot at 0x7f7a5f9d54e0>"
            ]
          },
          "metadata": {
            "tags": []
          },
          "execution_count": 19
        },
        {
          "output_type": "display_data",
          "data": {
            "image/png": "[encoded data removed]",
            "text/plain": [
              "<Figure size 432x288 with 1 Axes>"
            ]
          },
          "metadata": {
            "tags": [],
            "needs_background": "light"
          }
        }
      ]
    },
    {
      "cell_type": "code",
      "metadata": {
        "id": "6KZTZIKGxlW6",
        "colab_type": "code",
        "colab": {
          "base_uri": "https://localhost:8080/",
          "height": 297
        },
        "outputId": "08fc441c-7198-4230-de79-432a386b2561"
      },
      "source": [
        "sns.barplot(x = df[\"paid_or_not\"],y = df[\"content_duration\"])"
      ],
      "execution_count": null,
      "outputs": [
        {
          "output_type": "execute_result",
          "data": {
            "text/plain": [
              "<matplotlib.axes._subplots.AxesSubplot at 0x7f7a5f9d1e80>"
            ]
          },
          "metadata": {
            "tags": []
          },
          "execution_count": 20
        },
        {
          "output_type": "display_data",
          "data": {
            "image/png": "[encoded data removed]",
            "text/plain": [
              "<Figure size 432x288 with 1 Axes>"
            ]
          },
          "metadata": {
            "tags": [],
            "needs_background": "light"
          }
        }
      ]
    },
    {
      "cell_type": "code",
      "metadata": {
        "id": "BM-I_D3oz5BB",
        "colab_type": "code",
        "colab": {
          "base_uri": "https://localhost:8080/",
          "height": 297
        },
        "outputId": "cf5f57ff-0b17-413d-e430-e3739a0276e4"
      },
      "source": [
        "sns.barplot(x=df[\"paid_or_not\"], y=df[\"num_lectures\"])"
      ],
      "execution_count": null,
      "outputs": [
        {
          "output_type": "execute_result",
          "data": {
            "text/plain": [
              "<matplotlib.axes._subplots.AxesSubplot at 0x7f7a5f84f198>"
            ]
          },
          "metadata": {
            "tags": []
          },
          "execution_count": 21
        },
        {
          "output_type": "display_data",
          "data": {
            "image/png": "[encoded data removed]",
            "text/plain": [
              "<Figure size 432x288 with 1 Axes>"
            ]
          },
          "metadata": {
            "tags": [],
            "needs_background": "light"
          }
        }
      ]
    },
    {
      "cell_type": "markdown",
      "metadata": {
        "id": "FY7Oc2AX-S3O",
        "colab_type": "text"
      },
      "source": [
        "\n",
        "*   There are no non paid courses for \"expert level\" courses\n",
        "*   most of the paid courses are of \"All levels\"\n",
        "*  While paid courses are much more than non paid courses (almost 10 times in number), the average number of subscribers in non paid courses are more(11533 vs 2421)\n",
        "*  maxixmum number of subscribers in non paid courses are  268923 more than double of number of paid courses 121584\n",
        "*  Number of subscribers in the non paid courses with \"All level\" courses are most\n",
        "*  Average content duration of paid courses is more than unpaid\n",
        "\n"
      ]
    },
    {
      "cell_type": "markdown",
      "metadata": {
        "id": "u7W-Bjz2z_cO",
        "colab_type": "text"
      },
      "source": [
        "# Analysis on the basis of content duration and number of lectures"
      ]
    },
    {
      "cell_type": "code",
      "metadata": {
        "id": "mjNUIW3i0HG8",
        "colab_type": "code",
        "colab": {
          "base_uri": "https://localhost:8080/",
          "height": 297
        },
        "outputId": "8ca1ed8b-3373-4bf4-910b-4ebcf8432c02"
      },
      "source": [
        "sns.barplot(x=df[\"num_lectures\"], y=df[\"content_duration\"], hue=df[\"paid_or_not\"])"
      ],
      "execution_count": null,
      "outputs": [
        {
          "output_type": "execute_result",
          "data": {
            "text/plain": [
              "<matplotlib.axes._subplots.AxesSubplot at 0x7f7a5f6f87b8>"
            ]
          },
          "metadata": {
            "tags": []
          },
          "execution_count": 22
        },
        {
          "output_type": "display_data",
          "data": {
            "image/png": "[encoded data removed]",
            "text/plain": [
              "<Figure size 432x288 with 1 Axes>"
            ]
          },
          "metadata": {
            "tags": [],
            "needs_background": "light"
          }
        }
      ]
    },
    {
      "cell_type": "code",
      "metadata": {
        "id": "H5lGSvip0Wl1",
        "colab_type": "code",
        "colab": {
          "base_uri": "https://localhost:8080/",
          "height": 369
        },
        "outputId": "62543204-0927-49c6-86e9-82a1b146766a"
      },
      "source": [
        "sns.relplot(x=\"content_duration\", y=\"num_reviews\", hue=\"num_lectures\", data=df)\n",
        "plt.show()"
      ],
      "execution_count": null,
      "outputs": [
        {
          "output_type": "display_data",
          "data": {
            "image/png": "[encoded data removed]",
            "text/plain": [
              "<Figure size 463.375x360 with 1 Axes>"
            ]
          },
          "metadata": {
            "tags": [],
            "needs_background": "light"
          }
        }
      ]
    },
    {
      "cell_type": "code",
      "metadata": {
        "id": "NtIqAzhi0eBN",
        "colab_type": "code",
        "colab": {
          "base_uri": "https://localhost:8080/",
          "height": 369
        },
        "outputId": "aca76486-59d9-45fb-d690-de2292826c34"
      },
      "source": [
        "sns.relplot(x=\"content_duration\", y=\"num_subscribers\", hue=\"num_lectures\", data=df)\n",
        "plt.show()"
      ],
      "execution_count": null,
      "outputs": [
        {
          "output_type": "display_data",
          "data": {
            "image/png": "[encoded data removed]",
            "text/plain": [
              "<Figure size 463.375x360 with 1 Axes>"
            ]
          },
          "metadata": {
            "tags": [],
            "needs_background": "light"
          }
        }
      ]
    },
    {
      "cell_type": "markdown",
      "metadata": {
        "id": "ax2ppTz73kkH",
        "colab_type": "text"
      },
      "source": [
        "*   In general content duration increases as number of lectures increases\n",
        "*   distribution of number of reviews and subscribers are more towards less content duration"
      ]
    },
    {
      "cell_type": "markdown",
      "metadata": {
        "id": "RzeHfF20Gb9Z",
        "colab_type": "text"
      },
      "source": [
        "#  Effect of number of views on the number of subscribers:"
      ]
    },
    {
      "cell_type": "code",
      "metadata": {
        "id": "N2aIVgv-uV4W",
        "colab_type": "code",
        "colab": {
          "base_uri": "https://localhost:8080/",
          "height": 721
        },
        "outputId": "41d15dab-3bf6-4559-ae56-62a971f12f18"
      },
      "source": [
        "sns.relplot(x = \"num_reviews\",y = \"num_subscribers\",hue = \"subjects\",data = df)\n",
        "plt.show()\n",
        "sns.relplot(x = \"num_reviews\",y = \"num_subscribers\",kind = \"line\",data = df)\n",
        "plt.show()\n"
      ],
      "execution_count": null,
      "outputs": [
        {
          "output_type": "display_data",
          "data": {
            "image/png": "[encoded data removed]",
            "text/plain": [
              "<Figure size 437.5x360 with 1 Axes>"
            ]
          },
          "metadata": {
            "tags": [],
            "needs_background": "light"
          }
        },
        {
          "output_type": "display_data",
          "data": {
            "image/png": "[encoded data removed]",
            "text/plain": [
              "<Figure size 360x360 with 1 Axes>"
            ]
          },
          "metadata": {
            "tags": [],
            "needs_background": "light"
          }
        }
      ]
    },
    {
      "cell_type": "markdown",
      "metadata": {
        "id": "tbbUzn0HKFGj",
        "colab_type": "text"
      },
      "source": [
        "*   according to heatmap number of reviews has the most effects on subscribers\n",
        "*   we can see that generally as the  number of reviews increase the number of subscribers also increase\n",
        "*   Most courses with large number of subscribers are web development courses"
      ]
    },
    {
      "cell_type": "markdown",
      "metadata": {
        "id": "B39Pmwf8HqBo",
        "colab_type": "text"
      },
      "source": [
        "#  Analyzing data on the basis of subject:"
      ]
    },
    {
      "cell_type": "code",
      "metadata": {
        "id": "iz5pDVOLxq7K",
        "colab_type": "code",
        "colab": {
          "base_uri": "https://localhost:8080/",
          "height": 296
        },
        "outputId": "ec42b0d7-073f-4f02-f3dd-40002d7af6b4"
      },
      "source": [
        "sns.barplot(x = df[\"subjects\"],y = df[\"num_subscribers\"])\n",
        "plt.plot()"
      ],
      "execution_count": null,
      "outputs": [
        {
          "output_type": "execute_result",
          "data": {
            "text/plain": [
              "[]"
            ]
          },
          "metadata": {
            "tags": []
          },
          "execution_count": 26
        },
        {
          "output_type": "display_data",
          "data": {
            "image/png": "[encoded data removed]",
            "text/plain": [
              "<Figure size 432x288 with 1 Axes>"
            ]
          },
          "metadata": {
            "tags": [],
            "needs_background": "light"
          }
        }
      ]
    },
    {
      "cell_type": "code",
      "metadata": {
        "id": "K7g_AoTQIT8v",
        "colab_type": "code",
        "colab": {
          "base_uri": "https://localhost:8080/",
          "height": 296
        },
        "outputId": "b4793774-3238-4e28-c495-85944cd946c7"
      },
      "source": [
        "sns.barplot(x = df[\"subjects\"],y = df[\"num_reviews\"])\n",
        "plt.plot()"
      ],
      "execution_count": null,
      "outputs": [
        {
          "output_type": "execute_result",
          "data": {
            "text/plain": [
              "[]"
            ]
          },
          "metadata": {
            "tags": []
          },
          "execution_count": 27
        },
        {
          "output_type": "display_data",
          "data": {
            "image/png": "[encoded data removed]",
            "text/plain": [
              "<Figure size 432x288 with 1 Axes>"
            ]
          },
          "metadata": {
            "tags": [],
            "needs_background": "light"
          }
        }
      ]
    },
    {
      "cell_type": "code",
      "metadata": {
        "id": "awsUayfnKTDl",
        "colab_type": "code",
        "colab": {
          "base_uri": "https://localhost:8080/",
          "height": 296
        },
        "outputId": "f86f0cc7-061d-43b1-fa70-26afaa969055"
      },
      "source": [
        "sns.barplot(x = df[\"subjects\"],y = df[\"num_lectures\"])\n",
        "plt.plot()"
      ],
      "execution_count": null,
      "outputs": [
        {
          "output_type": "execute_result",
          "data": {
            "text/plain": [
              "[]"
            ]
          },
          "metadata": {
            "tags": []
          },
          "execution_count": 28
        },
        {
          "output_type": "display_data",
          "data": {
            "image/png": "[encoded data removed]",
            "text/plain": [
              "<Figure size 432x288 with 1 Axes>"
            ]
          },
          "metadata": {
            "tags": [],
            "needs_background": "light"
          }
        }
      ]
    },
    {
      "cell_type": "code",
      "metadata": {
        "id": "1usPu1RlKZyk",
        "colab_type": "code",
        "colab": {
          "base_uri": "https://localhost:8080/",
          "height": 296
        },
        "outputId": "e54fe1a0-3ee4-4beb-b887-9f7b5e7a33dd"
      },
      "source": [
        "sns.barplot(x = df[\"subjects\"],y = df[\"content_duration\"])\n",
        "plt.plot()"
      ],
      "execution_count": null,
      "outputs": [
        {
          "output_type": "execute_result",
          "data": {
            "text/plain": [
              "[]"
            ]
          },
          "metadata": {
            "tags": []
          },
          "execution_count": 29
        },
        {
          "output_type": "display_data",
          "data": {
            "image/png": "[encoded data removed]",
            "text/plain": [
              "<Figure size 432x288 with 1 Axes>"
            ]
          },
          "metadata": {
            "tags": [],
            "needs_background": "light"
          }
        }
      ]
    },
    {
      "cell_type": "markdown",
      "metadata": {
        "id": "-fW-IMr-4dy6",
        "colab_type": "text"
      },
      "source": [
        "\n",
        "*   web development courses have the most number of subscribers\n",
        "*   web development courses have the most number of reviews\n",
        "*   web development courses have the most number of lectures\n",
        "*   web development courses have the largest content duration\n",
        "\n",
        "\n"
      ]
    },
    {
      "cell_type": "markdown",
      "metadata": {
        "id": "gtbp09eyNtHz",
        "colab_type": "text"
      },
      "source": [
        "# Analyzing top 25 courses with most number of subscribers:"
      ]
    },
    {
      "cell_type": "code",
      "metadata": {
        "id": "c86XWUKC3M8V",
        "colab_type": "code",
        "colab": {
          "base_uri": "https://localhost:8080/",
          "height": 1000
        },
        "outputId": "ace2ae2c-cb34-45f2-b7f3-c8687d1a0c66"
      },
      "source": [
        "df_sorted_sub = df.sort_values(['num_subscribers'],ascending=[False])[0:25]\n",
        "fig = sns.barplot(x = df_sorted_sub[\"course_title\"],y = df_sorted_sub[\"num_subscribers\"])\n",
        "fig.plot()\n",
        "df_sorted_sub"
      ],
      "execution_count": null,
      "outputs": [
        {
          "output_type": "execute_result",
          "data": {
            "text/html": [
              "<div>\n",
              "<style scoped>\n",
              "    .dataframe tbody tr th:only-of-type {\n",
              "        vertical-align: middle;\n",
              "    }\n",
              "\n",
              "    .dataframe tbody tr th {\n",
              "        vertical-align: top;\n",
              "    }\n",
              "\n",
              "    .dataframe thead th {\n",
              "        text-align: right;\n",
              "    }\n",
              "</style>\n",
              "<table border=\"1\" class=\"dataframe\">\n",
              "  <thead>\n",
              "    <tr style=\"text-align: right;\">\n",
              "      <th></th>\n",
              "      <th>course_id</th>\n",
              "      <th>course_title</th>\n",
              "      <th>url</th>\n",
              "      <th>price</th>\n",
              "      <th>num_subscribers</th>\n",
              "      <th>num_reviews</th>\n",
              "      <th>num_lectures</th>\n",
              "      <th>content_duration</th>\n",
              "      <th>levels</th>\n",
              "      <th>subjects</th>\n",
              "      <th>paid_or_not</th>\n",
              "      <th>publish_timestamp</th>\n",
              "    </tr>\n",
              "  </thead>\n",
              "  <tbody>\n",
              "    <tr>\n",
              "      <th>2827</th>\n",
              "      <td>41295</td>\n",
              "      <td>Learn HTML5 Programming From Scratch</td>\n",
              "      <td>https://www.udemy.com/learn-html5-programming-...</td>\n",
              "      <td>0</td>\n",
              "      <td>268923</td>\n",
              "      <td>8629</td>\n",
              "      <td>45</td>\n",
              "      <td>10.5</td>\n",
              "      <td>0</td>\n",
              "      <td>3</td>\n",
              "      <td>0</td>\n",
              "      <td>2013</td>\n",
              "    </tr>\n",
              "    <tr>\n",
              "      <th>3032</th>\n",
              "      <td>59014</td>\n",
              "      <td>Coding for Entrepreneurs Basic</td>\n",
              "      <td>https://www.udemy.com/coding-for-entrepreneurs...</td>\n",
              "      <td>0</td>\n",
              "      <td>161029</td>\n",
              "      <td>279</td>\n",
              "      <td>27</td>\n",
              "      <td>3.5</td>\n",
              "      <td>1</td>\n",
              "      <td>3</td>\n",
              "      <td>0</td>\n",
              "      <td>2013</td>\n",
              "    </tr>\n",
              "    <tr>\n",
              "      <th>3230</th>\n",
              "      <td>625204</td>\n",
              "      <td>The Web Developer Bootcamp</td>\n",
              "      <td>https://www.udemy.com/the-web-developer-bootcamp/</td>\n",
              "      <td>200</td>\n",
              "      <td>121584</td>\n",
              "      <td>27445</td>\n",
              "      <td>342</td>\n",
              "      <td>43.0</td>\n",
              "      <td>0</td>\n",
              "      <td>3</td>\n",
              "      <td>1</td>\n",
              "      <td>2015</td>\n",
              "    </tr>\n",
              "    <tr>\n",
              "      <th>2783</th>\n",
              "      <td>173548</td>\n",
              "      <td>Build Your First Website in 1 Week with HTML5 ...</td>\n",
              "      <td>https://www.udemy.com/build-your-first-website...</td>\n",
              "      <td>0</td>\n",
              "      <td>120291</td>\n",
              "      <td>5924</td>\n",
              "      <td>30</td>\n",
              "      <td>3.0</td>\n",
              "      <td>1</td>\n",
              "      <td>3</td>\n",
              "      <td>0</td>\n",
              "      <td>2014</td>\n",
              "    </tr>\n",
              "    <tr>\n",
              "      <th>3232</th>\n",
              "      <td>764164</td>\n",
              "      <td>The Complete Web Developer Course 2.0</td>\n",
              "      <td>https://www.udemy.com/the-complete-web-develop...</td>\n",
              "      <td>200</td>\n",
              "      <td>114512</td>\n",
              "      <td>22412</td>\n",
              "      <td>304</td>\n",
              "      <td>30.5</td>\n",
              "      <td>0</td>\n",
              "      <td>3</td>\n",
              "      <td>1</td>\n",
              "      <td>2016</td>\n",
              "    </tr>\n",
              "    <tr>\n",
              "      <th>1896</th>\n",
              "      <td>19421</td>\n",
              "      <td>Free Beginner Electric Guitar Lessons</td>\n",
              "      <td>https://www.udemy.com/beginner-electric-guitar...</td>\n",
              "      <td>0</td>\n",
              "      <td>101154</td>\n",
              "      <td>1042</td>\n",
              "      <td>95</td>\n",
              "      <td>4.5</td>\n",
              "      <td>1</td>\n",
              "      <td>1</td>\n",
              "      <td>0</td>\n",
              "      <td>2012</td>\n",
              "    </tr>\n",
              "    <tr>\n",
              "      <th>2589</th>\n",
              "      <td>473160</td>\n",
              "      <td>Web Design for Web Developers: Build Beautiful...</td>\n",
              "      <td>https://www.udemy.com/web-design-secrets/</td>\n",
              "      <td>0</td>\n",
              "      <td>98867</td>\n",
              "      <td>6512</td>\n",
              "      <td>20</td>\n",
              "      <td>3.0</td>\n",
              "      <td>0</td>\n",
              "      <td>3</td>\n",
              "      <td>0</td>\n",
              "      <td>2015</td>\n",
              "    </tr>\n",
              "    <tr>\n",
              "      <th>2619</th>\n",
              "      <td>94430</td>\n",
              "      <td>Learn Javascript &amp; JQuery From Scratch</td>\n",
              "      <td>https://www.udemy.com/learn-javascript-jquery-...</td>\n",
              "      <td>30</td>\n",
              "      <td>84897</td>\n",
              "      <td>2685</td>\n",
              "      <td>10</td>\n",
              "      <td>2.0</td>\n",
              "      <td>0</td>\n",
              "      <td>3</td>\n",
              "      <td>1</td>\n",
              "      <td>2013</td>\n",
              "    </tr>\n",
              "    <tr>\n",
              "      <th>3289</th>\n",
              "      <td>130064</td>\n",
              "      <td>Practical PHP: Master the Basics and Code Dyna...</td>\n",
              "      <td>https://www.udemy.com/code-dynamic-websites/</td>\n",
              "      <td>0</td>\n",
              "      <td>83737</td>\n",
              "      <td>4598</td>\n",
              "      <td>45</td>\n",
              "      <td>6.5</td>\n",
              "      <td>0</td>\n",
              "      <td>3</td>\n",
              "      <td>0</td>\n",
              "      <td>2014</td>\n",
              "    </tr>\n",
              "    <tr>\n",
              "      <th>3247</th>\n",
              "      <td>364426</td>\n",
              "      <td>JavaScript: Understanding the Weird Parts</td>\n",
              "      <td>https://www.udemy.com/understand-javascript/</td>\n",
              "      <td>175</td>\n",
              "      <td>79612</td>\n",
              "      <td>16976</td>\n",
              "      <td>85</td>\n",
              "      <td>11.5</td>\n",
              "      <td>0</td>\n",
              "      <td>3</td>\n",
              "      <td>1</td>\n",
              "      <td>2015</td>\n",
              "    </tr>\n",
              "    <tr>\n",
              "      <th>1979</th>\n",
              "      <td>238934</td>\n",
              "      <td>Pianoforall - Incredible New Way To Learn Pian...</td>\n",
              "      <td>https://www.udemy.com/pianoforall-incredible-n...</td>\n",
              "      <td>200</td>\n",
              "      <td>75499</td>\n",
              "      <td>7676</td>\n",
              "      <td>362</td>\n",
              "      <td>30.0</td>\n",
              "      <td>0</td>\n",
              "      <td>1</td>\n",
              "      <td>1</td>\n",
              "      <td>2014</td>\n",
              "    </tr>\n",
              "    <tr>\n",
              "      <th>3204</th>\n",
              "      <td>756150</td>\n",
              "      <td>Angular 4 (formerly Angular 2) - The Complete ...</td>\n",
              "      <td>https://www.udemy.com/the-complete-guide-to-an...</td>\n",
              "      <td>190</td>\n",
              "      <td>73783</td>\n",
              "      <td>19649</td>\n",
              "      <td>329</td>\n",
              "      <td>22.0</td>\n",
              "      <td>0</td>\n",
              "      <td>3</td>\n",
              "      <td>1</td>\n",
              "      <td>2016</td>\n",
              "    </tr>\n",
              "    <tr>\n",
              "      <th>3665</th>\n",
              "      <td>21386</td>\n",
              "      <td>Beginner Photoshop to HTML5 and CSS3</td>\n",
              "      <td>https://www.udemy.com/psd-html5-css3/</td>\n",
              "      <td>0</td>\n",
              "      <td>73110</td>\n",
              "      <td>1716</td>\n",
              "      <td>22</td>\n",
              "      <td>2.0</td>\n",
              "      <td>0</td>\n",
              "      <td>3</td>\n",
              "      <td>0</td>\n",
              "      <td>2012</td>\n",
              "    </tr>\n",
              "    <tr>\n",
              "      <th>2782</th>\n",
              "      <td>65330</td>\n",
              "      <td>Web Development By Doing: HTML / CSS From Scratch</td>\n",
              "      <td>https://www.udemy.com/web-development-learn-by...</td>\n",
              "      <td>0</td>\n",
              "      <td>72932</td>\n",
              "      <td>2575</td>\n",
              "      <td>21</td>\n",
              "      <td>1.0</td>\n",
              "      <td>1</td>\n",
              "      <td>3</td>\n",
              "      <td>0</td>\n",
              "      <td>2013</td>\n",
              "    </tr>\n",
              "    <tr>\n",
              "      <th>3325</th>\n",
              "      <td>405926</td>\n",
              "      <td>HTML and CSS for Beginners - Build a Website &amp;...</td>\n",
              "      <td>https://www.udemy.com/html-and-css-for-beginne...</td>\n",
              "      <td>0</td>\n",
              "      <td>70773</td>\n",
              "      <td>5660</td>\n",
              "      <td>50</td>\n",
              "      <td>6.0</td>\n",
              "      <td>0</td>\n",
              "      <td>3</td>\n",
              "      <td>0</td>\n",
              "      <td>2015</td>\n",
              "    </tr>\n",
              "    <tr>\n",
              "      <th>2701</th>\n",
              "      <td>11174</td>\n",
              "      <td>Become a Web Developer from Scratch</td>\n",
              "      <td>https://www.udemy.com/how-to-become-a-web-deve...</td>\n",
              "      <td>120</td>\n",
              "      <td>69186</td>\n",
              "      <td>2408</td>\n",
              "      <td>197</td>\n",
              "      <td>27.5</td>\n",
              "      <td>0</td>\n",
              "      <td>3</td>\n",
              "      <td>1</td>\n",
              "      <td>2011</td>\n",
              "    </tr>\n",
              "    <tr>\n",
              "      <th>492</th>\n",
              "      <td>49798</td>\n",
              "      <td>Bitcoin or How I Learned to Stop Worrying and ...</td>\n",
              "      <td>https://www.udemy.com/bitcoin-or-how-i-learned...</td>\n",
              "      <td>0</td>\n",
              "      <td>65576</td>\n",
              "      <td>936</td>\n",
              "      <td>24</td>\n",
              "      <td>8.0</td>\n",
              "      <td>0</td>\n",
              "      <td>0</td>\n",
              "      <td>0</td>\n",
              "      <td>2013</td>\n",
              "    </tr>\n",
              "    <tr>\n",
              "      <th>2592</th>\n",
              "      <td>314462</td>\n",
              "      <td>Quickstart AngularJS</td>\n",
              "      <td>https://www.udemy.com/quickstart-angularjs/</td>\n",
              "      <td>0</td>\n",
              "      <td>64128</td>\n",
              "      <td>4047</td>\n",
              "      <td>17</td>\n",
              "      <td>1.5</td>\n",
              "      <td>1</td>\n",
              "      <td>3</td>\n",
              "      <td>0</td>\n",
              "      <td>2014</td>\n",
              "    </tr>\n",
              "    <tr>\n",
              "      <th>3219</th>\n",
              "      <td>128946</td>\n",
              "      <td>Learn Responsive Web Development from Scratch</td>\n",
              "      <td>https://www.udemy.com/learn-responsive-web-dev...</td>\n",
              "      <td>0</td>\n",
              "      <td>59639</td>\n",
              "      <td>2692</td>\n",
              "      <td>24</td>\n",
              "      <td>4.5</td>\n",
              "      <td>0</td>\n",
              "      <td>3</td>\n",
              "      <td>0</td>\n",
              "      <td>2013</td>\n",
              "    </tr>\n",
              "    <tr>\n",
              "      <th>3246</th>\n",
              "      <td>289230</td>\n",
              "      <td>Learn and Understand AngularJS</td>\n",
              "      <td>https://www.udemy.com/learn-angularjs/</td>\n",
              "      <td>175</td>\n",
              "      <td>59361</td>\n",
              "      <td>11580</td>\n",
              "      <td>55</td>\n",
              "      <td>7.0</td>\n",
              "      <td>0</td>\n",
              "      <td>3</td>\n",
              "      <td>1</td>\n",
              "      <td>2014</td>\n",
              "    </tr>\n",
              "    <tr>\n",
              "      <th>3251</th>\n",
              "      <td>461160</td>\n",
              "      <td>Learn and Understand NodeJS</td>\n",
              "      <td>https://www.udemy.com/understand-nodejs/</td>\n",
              "      <td>195</td>\n",
              "      <td>58208</td>\n",
              "      <td>11123</td>\n",
              "      <td>98</td>\n",
              "      <td>13.0</td>\n",
              "      <td>0</td>\n",
              "      <td>3</td>\n",
              "      <td>1</td>\n",
              "      <td>2015</td>\n",
              "    </tr>\n",
              "    <tr>\n",
              "      <th>2662</th>\n",
              "      <td>556248</td>\n",
              "      <td>The Complete HTML &amp; CSS Course - From Novice T...</td>\n",
              "      <td>https://www.udemy.com/htmlwebsite/</td>\n",
              "      <td>195</td>\n",
              "      <td>57422</td>\n",
              "      <td>874</td>\n",
              "      <td>84</td>\n",
              "      <td>7.5</td>\n",
              "      <td>0</td>\n",
              "      <td>3</td>\n",
              "      <td>1</td>\n",
              "      <td>2015</td>\n",
              "    </tr>\n",
              "    <tr>\n",
              "      <th>143</th>\n",
              "      <td>48841</td>\n",
              "      <td>Accounting in 60 Minutes - A Brief Introduction</td>\n",
              "      <td>https://www.udemy.com/accounting-in-60-minutes...</td>\n",
              "      <td>0</td>\n",
              "      <td>56659</td>\n",
              "      <td>4397</td>\n",
              "      <td>16</td>\n",
              "      <td>1.5</td>\n",
              "      <td>1</td>\n",
              "      <td>0</td>\n",
              "      <td>0</td>\n",
              "      <td>2013</td>\n",
              "    </tr>\n",
              "    <tr>\n",
              "      <th>3175</th>\n",
              "      <td>580466</td>\n",
              "      <td>Complete PHP Course With Bootstrap3 CMS System...</td>\n",
              "      <td>https://www.udemy.com/complete-php-course/</td>\n",
              "      <td>195</td>\n",
              "      <td>55332</td>\n",
              "      <td>1225</td>\n",
              "      <td>144</td>\n",
              "      <td>20.0</td>\n",
              "      <td>0</td>\n",
              "      <td>3</td>\n",
              "      <td>1</td>\n",
              "      <td>2015</td>\n",
              "    </tr>\n",
              "    <tr>\n",
              "      <th>1461</th>\n",
              "      <td>348116</td>\n",
              "      <td>Photoshop In-Depth: Master all of Photoshop's ...</td>\n",
              "      <td>https://www.udemy.com/photoshop-tools/</td>\n",
              "      <td>0</td>\n",
              "      <td>53851</td>\n",
              "      <td>1779</td>\n",
              "      <td>45</td>\n",
              "      <td>4.5</td>\n",
              "      <td>0</td>\n",
              "      <td>2</td>\n",
              "      <td>0</td>\n",
              "      <td>2014</td>\n",
              "    </tr>\n",
              "  </tbody>\n",
              "</table>\n",
              "</div>"
            ],
            "text/plain": [
              "      course_id  ... publish_timestamp\n",
              "2827      41295  ...              2013\n",
              "3032      59014  ...              2013\n",
              "3230     625204  ...              2015\n",
              "2783     173548  ...              2014\n",
              "3232     764164  ...              2016\n",
              "1896      19421  ...              2012\n",
              "2589     473160  ...              2015\n",
              "2619      94430  ...              2013\n",
              "3289     130064  ...              2014\n",
              "3247     364426  ...              2015\n",
              "1979     238934  ...              2014\n",
              "3204     756150  ...              2016\n",
              "3665      21386  ...              2012\n",
              "2782      65330  ...              2013\n",
              "3325     405926  ...              2015\n",
              "2701      11174  ...              2011\n",
              "492       49798  ...              2013\n",
              "2592     314462  ...              2014\n",
              "3219     128946  ...              2013\n",
              "3246     289230  ...              2014\n",
              "3251     461160  ...              2015\n",
              "2662     556248  ...              2015\n",
              "143       48841  ...              2013\n",
              "3175     580466  ...              2015\n",
              "1461     348116  ...              2014\n",
              "\n",
              "[25 rows x 12 columns]"
            ]
          },
          "metadata": {
            "tags": []
          },
          "execution_count": 30
        },
        {
          "output_type": "display_data",
          "data": {
            "image/png": "[encoded data removed]",
            "text/plain": [
              "<Figure size 432x288 with 1 Axes>"
            ]
          },
          "metadata": {
            "tags": [],
            "needs_background": "light"
          }
        }
      ]
    },
    {
      "cell_type": "code",
      "metadata": {
        "id": "_vNWluEHLQFO",
        "colab_type": "code",
        "colab": {
          "base_uri": "https://localhost:8080/",
          "height": 379
        },
        "outputId": "64a43066-4937-4ab9-e4cb-cbf8e1dadb19"
      },
      "source": [
        "print((df_sorted_sub[\"subjects\"].value_counts()/25.0)*100)\n",
        "fig = sns.distplot(df_sorted_sub[\"subjects\"],kde = False)\n",
        "fig.plot()\n"
      ],
      "execution_count": null,
      "outputs": [
        {
          "output_type": "stream",
          "text": [
            "3    80.0\n",
            "1     8.0\n",
            "0     8.0\n",
            "2     4.0\n",
            "Name: subjects, dtype: float64\n"
          ],
          "name": "stdout"
        },
        {
          "output_type": "execute_result",
          "data": {
            "text/plain": [
              "[]"
            ]
          },
          "metadata": {
            "tags": []
          },
          "execution_count": 31
        },
        {
          "output_type": "display_data",
          "data": {
            "image/png": "[encoded data removed]",
            "text/plain": [
              "<Figure size 432x288 with 1 Axes>"
            ]
          },
          "metadata": {
            "tags": [],
            "needs_background": "light"
          }
        }
      ]
    },
    {
      "cell_type": "code",
      "metadata": {
        "id": "pAniUKExMoKZ",
        "colab_type": "code",
        "colab": {
          "base_uri": "https://localhost:8080/",
          "height": 347
        },
        "outputId": "d2a112f0-0e6b-4cf0-82f6-09b65bddd344"
      },
      "source": [
        "print((df_sorted_sub[\"paid_or_not\"].value_counts()/25.0)*100)\n",
        "fig = sns.distplot(df_sorted_sub[\"paid_or_not\"],kde = False)\n",
        "fig.plot()\n"
      ],
      "execution_count": null,
      "outputs": [
        {
          "output_type": "stream",
          "text": [
            "0    56.0\n",
            "1    44.0\n",
            "Name: paid_or_not, dtype: float64\n"
          ],
          "name": "stdout"
        },
        {
          "output_type": "execute_result",
          "data": {
            "text/plain": [
              "[]"
            ]
          },
          "metadata": {
            "tags": []
          },
          "execution_count": 32
        },
        {
          "output_type": "display_data",
          "data": {
            "image/png": "[encoded data removed]",
            "text/plain": [
              "<Figure size 432x288 with 1 Axes>"
            ]
          },
          "metadata": {
            "tags": [],
            "needs_background": "light"
          }
        }
      ]
    },
    {
      "cell_type": "code",
      "metadata": {
        "id": "P0pRsc1vM4Je",
        "colab_type": "code",
        "colab": {
          "base_uri": "https://localhost:8080/",
          "height": 346
        },
        "outputId": "19d180d1-f786-4509-a128-7f372f312ffc"
      },
      "source": [
        "print((df_sorted_sub[\"levels\"].value_counts()/25.0)*100)\n",
        "fig = sns.distplot(df_sorted_sub[\"levels\"],kde = False)\n",
        "fig.plot()"
      ],
      "execution_count": null,
      "outputs": [
        {
          "output_type": "stream",
          "text": [
            "0    76.0\n",
            "1    24.0\n",
            "Name: levels, dtype: float64\n"
          ],
          "name": "stdout"
        },
        {
          "output_type": "execute_result",
          "data": {
            "text/plain": [
              "[]"
            ]
          },
          "metadata": {
            "tags": []
          },
          "execution_count": 33
        },
        {
          "output_type": "display_data",
          "data": {
            "image/png": "[encoded data removed]",
            "text/plain": [
              "<Figure size 432x288 with 1 Axes>"
            ]
          },
          "metadata": {
            "tags": [],
            "needs_background": "light"
          }
        }
      ]
    },
    {
      "cell_type": "markdown",
      "metadata": {
        "id": "DZoaxuAA2-ru",
        "colab_type": "text"
      },
      "source": [
        "*   Intrestingly 80% of the top 25 courses are web development courses while musical instrument courses and business courses are 8% and rest graphic designing ccourses\n",
        "*   Out of them 44% are paid and 56% are unpaid\n",
        "*   76% of the courses are of \"All level\" courses while\n",
        "rest are \"Beginner level\" courses. No other levels are available"
      ]
    },
    {
      "cell_type": "markdown",
      "metadata": {
        "id": "yiHDiFX-N6Bz",
        "colab_type": "text"
      },
      "source": [
        "# Analyzing top 25 courses with most number of reviews:"
      ]
    },
    {
      "cell_type": "code",
      "metadata": {
        "id": "btQVkqaH56NR",
        "colab_type": "code",
        "colab": {
          "base_uri": "https://localhost:8080/",
          "height": 1000
        },
        "outputId": "9146d1b7-6b0c-43ff-d9d8-255fd246c9f1"
      },
      "source": [
        "df_sorted_rev = df.sort_values(['num_reviews'],ascending=[False])[0:25]\n",
        "fig = sns.barplot(x = df_sorted_rev[\"course_title\"],y = df_sorted_rev[\"num_reviews\"])\n",
        "fig.plot()\n",
        "df_sorted_rev"
      ],
      "execution_count": null,
      "outputs": [
        {
          "output_type": "execute_result",
          "data": {
            "text/html": [
              "<div>\n",
              "<style scoped>\n",
              "    .dataframe tbody tr th:only-of-type {\n",
              "        vertical-align: middle;\n",
              "    }\n",
              "\n",
              "    .dataframe tbody tr th {\n",
              "        vertical-align: top;\n",
              "    }\n",
              "\n",
              "    .dataframe thead th {\n",
              "        text-align: right;\n",
              "    }\n",
              "</style>\n",
              "<table border=\"1\" class=\"dataframe\">\n",
              "  <thead>\n",
              "    <tr style=\"text-align: right;\">\n",
              "      <th></th>\n",
              "      <th>course_id</th>\n",
              "      <th>course_title</th>\n",
              "      <th>url</th>\n",
              "      <th>price</th>\n",
              "      <th>num_subscribers</th>\n",
              "      <th>num_reviews</th>\n",
              "      <th>num_lectures</th>\n",
              "      <th>content_duration</th>\n",
              "      <th>levels</th>\n",
              "      <th>subjects</th>\n",
              "      <th>paid_or_not</th>\n",
              "      <th>publish_timestamp</th>\n",
              "    </tr>\n",
              "  </thead>\n",
              "  <tbody>\n",
              "    <tr>\n",
              "      <th>3230</th>\n",
              "      <td>625204</td>\n",
              "      <td>The Web Developer Bootcamp</td>\n",
              "      <td>https://www.udemy.com/the-web-developer-bootcamp/</td>\n",
              "      <td>200</td>\n",
              "      <td>121584</td>\n",
              "      <td>27445</td>\n",
              "      <td>342</td>\n",
              "      <td>43.0</td>\n",
              "      <td>0</td>\n",
              "      <td>3</td>\n",
              "      <td>1</td>\n",
              "      <td>2015</td>\n",
              "    </tr>\n",
              "    <tr>\n",
              "      <th>3232</th>\n",
              "      <td>764164</td>\n",
              "      <td>The Complete Web Developer Course 2.0</td>\n",
              "      <td>https://www.udemy.com/the-complete-web-develop...</td>\n",
              "      <td>200</td>\n",
              "      <td>114512</td>\n",
              "      <td>22412</td>\n",
              "      <td>304</td>\n",
              "      <td>30.5</td>\n",
              "      <td>0</td>\n",
              "      <td>3</td>\n",
              "      <td>1</td>\n",
              "      <td>2016</td>\n",
              "    </tr>\n",
              "    <tr>\n",
              "      <th>3204</th>\n",
              "      <td>756150</td>\n",
              "      <td>Angular 4 (formerly Angular 2) - The Complete ...</td>\n",
              "      <td>https://www.udemy.com/the-complete-guide-to-an...</td>\n",
              "      <td>190</td>\n",
              "      <td>73783</td>\n",
              "      <td>19649</td>\n",
              "      <td>329</td>\n",
              "      <td>22.0</td>\n",
              "      <td>0</td>\n",
              "      <td>3</td>\n",
              "      <td>1</td>\n",
              "      <td>2016</td>\n",
              "    </tr>\n",
              "    <tr>\n",
              "      <th>3247</th>\n",
              "      <td>364426</td>\n",
              "      <td>JavaScript: Understanding the Weird Parts</td>\n",
              "      <td>https://www.udemy.com/understand-javascript/</td>\n",
              "      <td>175</td>\n",
              "      <td>79612</td>\n",
              "      <td>16976</td>\n",
              "      <td>85</td>\n",
              "      <td>11.5</td>\n",
              "      <td>0</td>\n",
              "      <td>3</td>\n",
              "      <td>1</td>\n",
              "      <td>2015</td>\n",
              "    </tr>\n",
              "    <tr>\n",
              "      <th>3254</th>\n",
              "      <td>705264</td>\n",
              "      <td>Modern React with Redux</td>\n",
              "      <td>https://www.udemy.com/react-redux/</td>\n",
              "      <td>180</td>\n",
              "      <td>50815</td>\n",
              "      <td>15117</td>\n",
              "      <td>150</td>\n",
              "      <td>26.5</td>\n",
              "      <td>0</td>\n",
              "      <td>3</td>\n",
              "      <td>1</td>\n",
              "      <td>2015</td>\n",
              "    </tr>\n",
              "    <tr>\n",
              "      <th>3246</th>\n",
              "      <td>289230</td>\n",
              "      <td>Learn and Understand AngularJS</td>\n",
              "      <td>https://www.udemy.com/learn-angularjs/</td>\n",
              "      <td>175</td>\n",
              "      <td>59361</td>\n",
              "      <td>11580</td>\n",
              "      <td>55</td>\n",
              "      <td>7.0</td>\n",
              "      <td>0</td>\n",
              "      <td>3</td>\n",
              "      <td>1</td>\n",
              "      <td>2014</td>\n",
              "    </tr>\n",
              "    <tr>\n",
              "      <th>3251</th>\n",
              "      <td>461160</td>\n",
              "      <td>Learn and Understand NodeJS</td>\n",
              "      <td>https://www.udemy.com/understand-nodejs/</td>\n",
              "      <td>195</td>\n",
              "      <td>58208</td>\n",
              "      <td>11123</td>\n",
              "      <td>98</td>\n",
              "      <td>13.0</td>\n",
              "      <td>0</td>\n",
              "      <td>3</td>\n",
              "      <td>1</td>\n",
              "      <td>2015</td>\n",
              "    </tr>\n",
              "    <tr>\n",
              "      <th>2827</th>\n",
              "      <td>41295</td>\n",
              "      <td>Learn HTML5 Programming From Scratch</td>\n",
              "      <td>https://www.udemy.com/learn-html5-programming-...</td>\n",
              "      <td>0</td>\n",
              "      <td>268923</td>\n",
              "      <td>8629</td>\n",
              "      <td>45</td>\n",
              "      <td>10.5</td>\n",
              "      <td>0</td>\n",
              "      <td>3</td>\n",
              "      <td>0</td>\n",
              "      <td>2013</td>\n",
              "    </tr>\n",
              "    <tr>\n",
              "      <th>3228</th>\n",
              "      <td>719002</td>\n",
              "      <td>Angular 2 with TypeScript for Beginners: The P...</td>\n",
              "      <td>https://www.udemy.com/angular-2-tutorial-for-b...</td>\n",
              "      <td>150</td>\n",
              "      <td>40070</td>\n",
              "      <td>8341</td>\n",
              "      <td>194</td>\n",
              "      <td>9.5</td>\n",
              "      <td>0</td>\n",
              "      <td>3</td>\n",
              "      <td>1</td>\n",
              "      <td>2016</td>\n",
              "    </tr>\n",
              "    <tr>\n",
              "      <th>1979</th>\n",
              "      <td>238934</td>\n",
              "      <td>Pianoforall - Incredible New Way To Learn Pian...</td>\n",
              "      <td>https://www.udemy.com/pianoforall-incredible-n...</td>\n",
              "      <td>200</td>\n",
              "      <td>75499</td>\n",
              "      <td>7676</td>\n",
              "      <td>362</td>\n",
              "      <td>30.0</td>\n",
              "      <td>0</td>\n",
              "      <td>1</td>\n",
              "      <td>1</td>\n",
              "      <td>2014</td>\n",
              "    </tr>\n",
              "    <tr>\n",
              "      <th>3249</th>\n",
              "      <td>437398</td>\n",
              "      <td>Build Responsive Real World Websites with HTML...</td>\n",
              "      <td>https://www.udemy.com/design-and-develop-a-kil...</td>\n",
              "      <td>195</td>\n",
              "      <td>43977</td>\n",
              "      <td>7106</td>\n",
              "      <td>77</td>\n",
              "      <td>12.0</td>\n",
              "      <td>0</td>\n",
              "      <td>3</td>\n",
              "      <td>1</td>\n",
              "      <td>2015</td>\n",
              "    </tr>\n",
              "    <tr>\n",
              "      <th>2589</th>\n",
              "      <td>473160</td>\n",
              "      <td>Web Design for Web Developers: Build Beautiful...</td>\n",
              "      <td>https://www.udemy.com/web-design-secrets/</td>\n",
              "      <td>0</td>\n",
              "      <td>98867</td>\n",
              "      <td>6512</td>\n",
              "      <td>20</td>\n",
              "      <td>3.0</td>\n",
              "      <td>0</td>\n",
              "      <td>3</td>\n",
              "      <td>0</td>\n",
              "      <td>2015</td>\n",
              "    </tr>\n",
              "    <tr>\n",
              "      <th>3256</th>\n",
              "      <td>806922</td>\n",
              "      <td>The Complete ASP.NET MVC 5 Course</td>\n",
              "      <td>https://www.udemy.com/the-complete-aspnet-mvc-...</td>\n",
              "      <td>190</td>\n",
              "      <td>20652</td>\n",
              "      <td>6357</td>\n",
              "      <td>138</td>\n",
              "      <td>7.5</td>\n",
              "      <td>0</td>\n",
              "      <td>3</td>\n",
              "      <td>1</td>\n",
              "      <td>2016</td>\n",
              "    </tr>\n",
              "    <tr>\n",
              "      <th>2783</th>\n",
              "      <td>173548</td>\n",
              "      <td>Build Your First Website in 1 Week with HTML5 ...</td>\n",
              "      <td>https://www.udemy.com/build-your-first-website...</td>\n",
              "      <td>0</td>\n",
              "      <td>120291</td>\n",
              "      <td>5924</td>\n",
              "      <td>30</td>\n",
              "      <td>3.0</td>\n",
              "      <td>1</td>\n",
              "      <td>3</td>\n",
              "      <td>0</td>\n",
              "      <td>2014</td>\n",
              "    </tr>\n",
              "    <tr>\n",
              "      <th>3325</th>\n",
              "      <td>405926</td>\n",
              "      <td>HTML and CSS for Beginners - Build a Website &amp;...</td>\n",
              "      <td>https://www.udemy.com/html-and-css-for-beginne...</td>\n",
              "      <td>0</td>\n",
              "      <td>70773</td>\n",
              "      <td>5660</td>\n",
              "      <td>50</td>\n",
              "      <td>6.0</td>\n",
              "      <td>0</td>\n",
              "      <td>3</td>\n",
              "      <td>0</td>\n",
              "      <td>2015</td>\n",
              "    </tr>\n",
              "    <tr>\n",
              "      <th>3385</th>\n",
              "      <td>707962</td>\n",
              "      <td>Javascript Essentials</td>\n",
              "      <td>https://www.udemy.com/javascript-essentials/</td>\n",
              "      <td>0</td>\n",
              "      <td>47062</td>\n",
              "      <td>5590</td>\n",
              "      <td>41</td>\n",
              "      <td>8.5</td>\n",
              "      <td>1</td>\n",
              "      <td>3</td>\n",
              "      <td>0</td>\n",
              "      <td>2016</td>\n",
              "    </tr>\n",
              "    <tr>\n",
              "      <th>3224</th>\n",
              "      <td>995016</td>\n",
              "      <td>Vue JS 2 - The Complete Guide (incl. Vue Route...</td>\n",
              "      <td>https://www.udemy.com/vuejs-2-the-complete-guide/</td>\n",
              "      <td>190</td>\n",
              "      <td>17671</td>\n",
              "      <td>4675</td>\n",
              "      <td>329</td>\n",
              "      <td>18.0</td>\n",
              "      <td>0</td>\n",
              "      <td>3</td>\n",
              "      <td>1</td>\n",
              "      <td>2016</td>\n",
              "    </tr>\n",
              "    <tr>\n",
              "      <th>3289</th>\n",
              "      <td>130064</td>\n",
              "      <td>Practical PHP: Master the Basics and Code Dyna...</td>\n",
              "      <td>https://www.udemy.com/code-dynamic-websites/</td>\n",
              "      <td>0</td>\n",
              "      <td>83737</td>\n",
              "      <td>4598</td>\n",
              "      <td>45</td>\n",
              "      <td>6.5</td>\n",
              "      <td>0</td>\n",
              "      <td>3</td>\n",
              "      <td>0</td>\n",
              "      <td>2014</td>\n",
              "    </tr>\n",
              "    <tr>\n",
              "      <th>3233</th>\n",
              "      <td>446134</td>\n",
              "      <td>Ultimate Web Designer &amp; Developer Course: Buil...</td>\n",
              "      <td>https://www.udemy.com/web-developer-course/</td>\n",
              "      <td>200</td>\n",
              "      <td>33788</td>\n",
              "      <td>4434</td>\n",
              "      <td>246</td>\n",
              "      <td>32.5</td>\n",
              "      <td>0</td>\n",
              "      <td>3</td>\n",
              "      <td>1</td>\n",
              "      <td>2015</td>\n",
              "    </tr>\n",
              "    <tr>\n",
              "      <th>143</th>\n",
              "      <td>48841</td>\n",
              "      <td>Accounting in 60 Minutes - A Brief Introduction</td>\n",
              "      <td>https://www.udemy.com/accounting-in-60-minutes...</td>\n",
              "      <td>0</td>\n",
              "      <td>56659</td>\n",
              "      <td>4397</td>\n",
              "      <td>16</td>\n",
              "      <td>1.5</td>\n",
              "      <td>1</td>\n",
              "      <td>0</td>\n",
              "      <td>0</td>\n",
              "      <td>2013</td>\n",
              "    </tr>\n",
              "    <tr>\n",
              "      <th>3226</th>\n",
              "      <td>851712</td>\n",
              "      <td>The Complete JavaScript Course: Build a Real-W...</td>\n",
              "      <td>https://www.udemy.com/the-complete-javascript-...</td>\n",
              "      <td>195</td>\n",
              "      <td>27801</td>\n",
              "      <td>4340</td>\n",
              "      <td>113</td>\n",
              "      <td>17.5</td>\n",
              "      <td>0</td>\n",
              "      <td>3</td>\n",
              "      <td>1</td>\n",
              "      <td>2016</td>\n",
              "    </tr>\n",
              "    <tr>\n",
              "      <th>3206</th>\n",
              "      <td>405282</td>\n",
              "      <td>PHP for Beginners -Become a PHP Master - Proje...</td>\n",
              "      <td>https://www.udemy.com/php-for-complete-beginne...</td>\n",
              "      <td>200</td>\n",
              "      <td>28880</td>\n",
              "      <td>4316</td>\n",
              "      <td>286</td>\n",
              "      <td>30.5</td>\n",
              "      <td>0</td>\n",
              "      <td>3</td>\n",
              "      <td>1</td>\n",
              "      <td>2015</td>\n",
              "    </tr>\n",
              "    <tr>\n",
              "      <th>2592</th>\n",
              "      <td>314462</td>\n",
              "      <td>Quickstart AngularJS</td>\n",
              "      <td>https://www.udemy.com/quickstart-angularjs/</td>\n",
              "      <td>0</td>\n",
              "      <td>64128</td>\n",
              "      <td>4047</td>\n",
              "      <td>17</td>\n",
              "      <td>1.5</td>\n",
              "      <td>1</td>\n",
              "      <td>3</td>\n",
              "      <td>0</td>\n",
              "      <td>2014</td>\n",
              "    </tr>\n",
              "    <tr>\n",
              "      <th>3208</th>\n",
              "      <td>519442</td>\n",
              "      <td>The Complete Ruby on Rails Developer Course</td>\n",
              "      <td>https://www.udemy.com/the-complete-ruby-on-rai...</td>\n",
              "      <td>195</td>\n",
              "      <td>33677</td>\n",
              "      <td>3809</td>\n",
              "      <td>283</td>\n",
              "      <td>31.5</td>\n",
              "      <td>0</td>\n",
              "      <td>3</td>\n",
              "      <td>1</td>\n",
              "      <td>2015</td>\n",
              "    </tr>\n",
              "    <tr>\n",
              "      <th>3253</th>\n",
              "      <td>781532</td>\n",
              "      <td>Advanced React and Redux</td>\n",
              "      <td>https://www.udemy.com/react-redux-tutorial/</td>\n",
              "      <td>140</td>\n",
              "      <td>21998</td>\n",
              "      <td>3326</td>\n",
              "      <td>119</td>\n",
              "      <td>12.0</td>\n",
              "      <td>2</td>\n",
              "      <td>3</td>\n",
              "      <td>1</td>\n",
              "      <td>2016</td>\n",
              "    </tr>\n",
              "  </tbody>\n",
              "</table>\n",
              "</div>"
            ],
            "text/plain": [
              "      course_id  ... publish_timestamp\n",
              "3230     625204  ...              2015\n",
              "3232     764164  ...              2016\n",
              "3204     756150  ...              2016\n",
              "3247     364426  ...              2015\n",
              "3254     705264  ...              2015\n",
              "3246     289230  ...              2014\n",
              "3251     461160  ...              2015\n",
              "2827      41295  ...              2013\n",
              "3228     719002  ...              2016\n",
              "1979     238934  ...              2014\n",
              "3249     437398  ...              2015\n",
              "2589     473160  ...              2015\n",
              "3256     806922  ...              2016\n",
              "2783     173548  ...              2014\n",
              "3325     405926  ...              2015\n",
              "3385     707962  ...              2016\n",
              "3224     995016  ...              2016\n",
              "3289     130064  ...              2014\n",
              "3233     446134  ...              2015\n",
              "143       48841  ...              2013\n",
              "3226     851712  ...              2016\n",
              "3206     405282  ...              2015\n",
              "2592     314462  ...              2014\n",
              "3208     519442  ...              2015\n",
              "3253     781532  ...              2016\n",
              "\n",
              "[25 rows x 12 columns]"
            ]
          },
          "metadata": {
            "tags": []
          },
          "execution_count": 34
        },
        {
          "output_type": "display_data",
          "data": {
            "image/png": "[encoded data removed]",
            "text/plain": [
              "<Figure size 432x288 with 1 Axes>"
            ]
          },
          "metadata": {
            "tags": [],
            "needs_background": "light"
          }
        }
      ]
    },
    {
      "cell_type": "code",
      "metadata": {
        "id": "5F5IYBlR7zdg",
        "colab_type": "code",
        "colab": {
          "base_uri": "https://localhost:8080/",
          "height": 362
        },
        "outputId": "7ea37602-d5db-4982-fc5e-bef51733b8f9"
      },
      "source": [
        "print((df_sorted_rev[\"subjects\"].value_counts()/25.0)*100)\n",
        "fig = sns.distplot(df_sorted_rev[\"subjects\"],kde = False)\n",
        "fig.plot()"
      ],
      "execution_count": null,
      "outputs": [
        {
          "output_type": "stream",
          "text": [
            "3    92.0\n",
            "1     4.0\n",
            "0     4.0\n",
            "Name: subjects, dtype: float64\n"
          ],
          "name": "stdout"
        },
        {
          "output_type": "execute_result",
          "data": {
            "text/plain": [
              "[]"
            ]
          },
          "metadata": {
            "tags": []
          },
          "execution_count": 35
        },
        {
          "output_type": "display_data",
          "data": {
            "image/png": "[encoded data removed]",
            "text/plain": [
              "<Figure size 432x288 with 1 Axes>"
            ]
          },
          "metadata": {
            "tags": [],
            "needs_background": "light"
          }
        }
      ]
    },
    {
      "cell_type": "code",
      "metadata": {
        "id": "1Vc26J1YNUyF",
        "colab_type": "code",
        "colab": {
          "base_uri": "https://localhost:8080/",
          "height": 347
        },
        "outputId": "f8c82cfa-3196-432a-afd5-3cdb6ff1a7b7"
      },
      "source": [
        "print((df_sorted_rev[\"paid_or_not\"].value_counts()/25.0)*100)\n",
        "fig = sns.distplot(df_sorted_rev[\"paid_or_not\"],kde = False)\n",
        "fig.plot()"
      ],
      "execution_count": null,
      "outputs": [
        {
          "output_type": "stream",
          "text": [
            "1    68.0\n",
            "0    32.0\n",
            "Name: paid_or_not, dtype: float64\n"
          ],
          "name": "stdout"
        },
        {
          "output_type": "execute_result",
          "data": {
            "text/plain": [
              "[]"
            ]
          },
          "metadata": {
            "tags": []
          },
          "execution_count": 36
        },
        {
          "output_type": "display_data",
          "data": {
            "image/png": "[encoded data removed]",
            "text/plain": [
              "<Figure size 432x288 with 1 Axes>"
            ]
          },
          "metadata": {
            "tags": [],
            "needs_background": "light"
          }
        }
      ]
    },
    {
      "cell_type": "code",
      "metadata": {
        "id": "nzvLJyaJNfr9",
        "colab_type": "code",
        "colab": {
          "base_uri": "https://localhost:8080/",
          "height": 362
        },
        "outputId": "9b7757eb-5b69-4799-8021-d1518f69689d"
      },
      "source": [
        "print((df_sorted_rev[\"levels\"].value_counts()/25.0)*100)\n",
        "fig = sns.distplot(df_sorted_rev[\"levels\"],kde = False)\n",
        "fig.plot()"
      ],
      "execution_count": null,
      "outputs": [
        {
          "output_type": "stream",
          "text": [
            "0    80.0\n",
            "1    16.0\n",
            "2     4.0\n",
            "Name: levels, dtype: float64\n"
          ],
          "name": "stdout"
        },
        {
          "output_type": "execute_result",
          "data": {
            "text/plain": [
              "[]"
            ]
          },
          "metadata": {
            "tags": []
          },
          "execution_count": 37
        },
        {
          "output_type": "display_data",
          "data": {
            "image/png": "[encoded data removed]",
            "text/plain": [
              "<Figure size 432x288 with 1 Axes>"
            ]
          },
          "metadata": {
            "tags": [],
            "needs_background": "light"
          }
        }
      ]
    },
    {
      "cell_type": "markdown",
      "metadata": {
        "id": "TG0usmsu5LwP",
        "colab_type": "text"
      },
      "source": [
        "*   Intrestingly 92% of the top 25 courses with most reviews are web development courses while musical instrument courses and business courses are 4% each, no musical instrument course is in the list\n",
        "*   Out of them 68% are paid and 32% are unpaid\n",
        "*   80% of the courses are of \"All level\" courses while\n",
        "16% \"Begineer level\" courses and rest 4% are \"Intermediate level\""
      ]
    },
    {
      "cell_type": "markdown",
      "metadata": {
        "id": "vYb7lU25iD18",
        "colab_type": "text"
      },
      "source": [
        "# Analysis of courses over years:"
      ]
    },
    {
      "cell_type": "code",
      "metadata": {
        "id": "lEawxCnpg-2I",
        "colab_type": "code",
        "colab": {
          "base_uri": "https://localhost:8080/",
          "height": 297
        },
        "outputId": "deaa6afd-05ed-4dcb-d58b-5bbc2602fa37"
      },
      "source": [
        "sns.countplot(x = \"publish_timestamp\",hue = \"subjects\",data = df)"
      ],
      "execution_count": null,
      "outputs": [
        {
          "output_type": "execute_result",
          "data": {
            "text/plain": [
              "<matplotlib.axes._subplots.AxesSubplot at 0x7f7a5ed21400>"
            ]
          },
          "metadata": {
            "tags": []
          },
          "execution_count": 38
        },
        {
          "output_type": "display_data",
          "data": {
            "image/png": "[encoded data removed]",
            "text/plain": [
              "<Figure size 432x288 with 1 Axes>"
            ]
          },
          "metadata": {
            "tags": [],
            "needs_background": "light"
          }
        }
      ]
    },
    {
      "cell_type": "code",
      "metadata": {
        "id": "hZoNOpIKlj4Y",
        "colab_type": "code",
        "colab": {
          "base_uri": "https://localhost:8080/",
          "height": 297
        },
        "outputId": "adee30b3-df0a-4cc0-bf7f-7b4731a48022"
      },
      "source": [
        "sns.barplot(x = df[\"publish_timestamp\"],y = df[\"num_subscribers\"],hue = df[\"subjects\"])"
      ],
      "execution_count": null,
      "outputs": [
        {
          "output_type": "execute_result",
          "data": {
            "text/plain": [
              "<matplotlib.axes._subplots.AxesSubplot at 0x7f7a5e599ef0>"
            ]
          },
          "metadata": {
            "tags": []
          },
          "execution_count": 39
        },
        {
          "output_type": "display_data",
          "data": {
            "image/png": "[encoded data removed]",
            "text/plain": [
              "<Figure size 432x288 with 1 Axes>"
            ]
          },
          "metadata": {
            "tags": [],
            "needs_background": "light"
          }
        }
      ]
    },
    {
      "cell_type": "markdown",
      "metadata": {
        "id": "1eKf26dEodx5",
        "colab_type": "text"
      },
      "source": [
        "*  Number of courses have increased quite heavily from 2011 to 2016, while we saw decrement in the number of courses in 2017\n",
        "\n",
        "*  Number of subscribers of business courses have increased from 2012 to 2013 and decreasing since.\n",
        "*  Web development subscribers trends in decreasing over the years since 2011. \n",
        "*   Music instrument courses were maximum in 2012 and decreasing since then\n",
        "*   desigining courses also saw a decreasing trends in subscribers since 2012\n",
        "\n"
      ]
    },
    {
      "cell_type": "markdown",
      "metadata": {
        "id": "nCSJw3P9SYB0",
        "colab_type": "text"
      },
      "source": [
        "#  Correlating data with external sources"
      ]
    },
    {
      "cell_type": "code",
      "metadata": {
        "id": "nY_tqaxyNiuM",
        "colab_type": "code",
        "colab": {
          "base_uri": "https://localhost:8080/",
          "height": 1000
        },
        "outputId": "611689d2-5176-44b4-bc8a-9f6d7eae2419"
      },
      "source": [
        "df_corr = pd.read_csv(\"/content/LinkedInTopSkillscsv.csv\")\n",
        "df_corr"
      ],
      "execution_count": null,
      "outputs": [
        {
          "output_type": "execute_result",
          "data": {
            "text/html": [
              "<div>\n",
              "<style scoped>\n",
              "    .dataframe tbody tr th:only-of-type {\n",
              "        vertical-align: middle;\n",
              "    }\n",
              "\n",
              "    .dataframe tbody tr th {\n",
              "        vertical-align: top;\n",
              "    }\n",
              "\n",
              "    .dataframe thead th {\n",
              "        text-align: right;\n",
              "    }\n",
              "</style>\n",
              "<table border=\"1\" class=\"dataframe\">\n",
              "  <thead>\n",
              "    <tr style=\"text-align: right;\">\n",
              "      <th></th>\n",
              "      <th>Year Published</th>\n",
              "      <th>Top Skills Year</th>\n",
              "      <th>Rank</th>\n",
              "      <th>Skill</th>\n",
              "      <th>Region</th>\n",
              "      <th>Comparable to previous year?</th>\n",
              "      <th>URL</th>\n",
              "    </tr>\n",
              "  </thead>\n",
              "  <tbody>\n",
              "    <tr>\n",
              "      <th>0</th>\n",
              "      <td>2018.0</td>\n",
              "      <td>2017</td>\n",
              "      <td>1.0</td>\n",
              "      <td>Cloud and Distributed Computing</td>\n",
              "      <td>US</td>\n",
              "      <td>Yes</td>\n",
              "      <td>https://blog.linkedin.com/2018/january/11/link...</td>\n",
              "    </tr>\n",
              "    <tr>\n",
              "      <th>1</th>\n",
              "      <td>2018.0</td>\n",
              "      <td>2017</td>\n",
              "      <td>2.0</td>\n",
              "      <td>Statistical Analysis and Data Mining</td>\n",
              "      <td>US</td>\n",
              "      <td>Yes</td>\n",
              "      <td>https://blog.linkedin.com/2018/january/11/link...</td>\n",
              "    </tr>\n",
              "    <tr>\n",
              "      <th>2</th>\n",
              "      <td>2018.0</td>\n",
              "      <td>2017</td>\n",
              "      <td>3.0</td>\n",
              "      <td>Middleware and Integration Software</td>\n",
              "      <td>US</td>\n",
              "      <td>Yes</td>\n",
              "      <td>https://blog.linkedin.com/2018/january/11/link...</td>\n",
              "    </tr>\n",
              "    <tr>\n",
              "      <th>3</th>\n",
              "      <td>2018.0</td>\n",
              "      <td>2017</td>\n",
              "      <td>4.0</td>\n",
              "      <td>Web Architecture and Development Framework</td>\n",
              "      <td>US</td>\n",
              "      <td>Yes</td>\n",
              "      <td>https://blog.linkedin.com/2018/january/11/link...</td>\n",
              "    </tr>\n",
              "    <tr>\n",
              "      <th>4</th>\n",
              "      <td>2018.0</td>\n",
              "      <td>2017</td>\n",
              "      <td>5.0</td>\n",
              "      <td>User Interface Design</td>\n",
              "      <td>US</td>\n",
              "      <td>Yes</td>\n",
              "      <td>https://blog.linkedin.com/2018/january/11/link...</td>\n",
              "    </tr>\n",
              "    <tr>\n",
              "      <th>5</th>\n",
              "      <td>2018.0</td>\n",
              "      <td>2017</td>\n",
              "      <td>6.0</td>\n",
              "      <td>Software Revision Control Systems</td>\n",
              "      <td>US</td>\n",
              "      <td>Yes</td>\n",
              "      <td>https://blog.linkedin.com/2018/january/11/link...</td>\n",
              "    </tr>\n",
              "    <tr>\n",
              "      <th>6</th>\n",
              "      <td>2018.0</td>\n",
              "      <td>2017</td>\n",
              "      <td>7.0</td>\n",
              "      <td>Data Presentation</td>\n",
              "      <td>US</td>\n",
              "      <td>Yes</td>\n",
              "      <td>https://blog.linkedin.com/2018/january/11/link...</td>\n",
              "    </tr>\n",
              "    <tr>\n",
              "      <th>7</th>\n",
              "      <td>2018.0</td>\n",
              "      <td>2017</td>\n",
              "      <td>8.0</td>\n",
              "      <td>SEO/SEM Marketing</td>\n",
              "      <td>US</td>\n",
              "      <td>Yes</td>\n",
              "      <td>https://blog.linkedin.com/2018/january/11/link...</td>\n",
              "    </tr>\n",
              "    <tr>\n",
              "      <th>8</th>\n",
              "      <td>2018.0</td>\n",
              "      <td>2017</td>\n",
              "      <td>9.0</td>\n",
              "      <td>Mobile Development</td>\n",
              "      <td>US</td>\n",
              "      <td>Yes</td>\n",
              "      <td>https://blog.linkedin.com/2018/january/11/link...</td>\n",
              "    </tr>\n",
              "    <tr>\n",
              "      <th>9</th>\n",
              "      <td>2018.0</td>\n",
              "      <td>2017</td>\n",
              "      <td>10.0</td>\n",
              "      <td>Network and Information Security</td>\n",
              "      <td>US</td>\n",
              "      <td>Yes</td>\n",
              "      <td>https://blog.linkedin.com/2018/january/11/link...</td>\n",
              "    </tr>\n",
              "    <tr>\n",
              "      <th>10</th>\n",
              "      <td>2017.0</td>\n",
              "      <td>2016</td>\n",
              "      <td>1.0</td>\n",
              "      <td>Cloud and Distributed Computing</td>\n",
              "      <td>Global</td>\n",
              "      <td>Yes</td>\n",
              "      <td>https://blog.linkedin.com/2016/10/20/top-skill...</td>\n",
              "    </tr>\n",
              "    <tr>\n",
              "      <th>11</th>\n",
              "      <td>2017.0</td>\n",
              "      <td>2016</td>\n",
              "      <td>2.0</td>\n",
              "      <td>Statistical Analysis and Data Mining</td>\n",
              "      <td>Global</td>\n",
              "      <td>Yes</td>\n",
              "      <td>https://blog.linkedin.com/2016/10/20/top-skill...</td>\n",
              "    </tr>\n",
              "    <tr>\n",
              "      <th>12</th>\n",
              "      <td>2017.0</td>\n",
              "      <td>2016</td>\n",
              "      <td>3.0</td>\n",
              "      <td>Web Architecture and Development Framework</td>\n",
              "      <td>Global</td>\n",
              "      <td>Yes</td>\n",
              "      <td>https://blog.linkedin.com/2016/10/20/top-skill...</td>\n",
              "    </tr>\n",
              "    <tr>\n",
              "      <th>13</th>\n",
              "      <td>2017.0</td>\n",
              "      <td>2016</td>\n",
              "      <td>4.0</td>\n",
              "      <td>Middleware and Integration Software</td>\n",
              "      <td>Global</td>\n",
              "      <td>Yes</td>\n",
              "      <td>https://blog.linkedin.com/2016/10/20/top-skill...</td>\n",
              "    </tr>\n",
              "    <tr>\n",
              "      <th>14</th>\n",
              "      <td>2017.0</td>\n",
              "      <td>2016</td>\n",
              "      <td>5.0</td>\n",
              "      <td>User Interface Design</td>\n",
              "      <td>Global</td>\n",
              "      <td>Yes</td>\n",
              "      <td>https://blog.linkedin.com/2016/10/20/top-skill...</td>\n",
              "    </tr>\n",
              "    <tr>\n",
              "      <th>15</th>\n",
              "      <td>2017.0</td>\n",
              "      <td>2016</td>\n",
              "      <td>6.0</td>\n",
              "      <td>Network and Information Security</td>\n",
              "      <td>Global</td>\n",
              "      <td>Yes</td>\n",
              "      <td>https://blog.linkedin.com/2016/10/20/top-skill...</td>\n",
              "    </tr>\n",
              "    <tr>\n",
              "      <th>16</th>\n",
              "      <td>2017.0</td>\n",
              "      <td>2016</td>\n",
              "      <td>7.0</td>\n",
              "      <td>Mobile Development</td>\n",
              "      <td>Global</td>\n",
              "      <td>Yes</td>\n",
              "      <td>https://blog.linkedin.com/2016/10/20/top-skill...</td>\n",
              "    </tr>\n",
              "    <tr>\n",
              "      <th>17</th>\n",
              "      <td>2017.0</td>\n",
              "      <td>2016</td>\n",
              "      <td>8.0</td>\n",
              "      <td>Data Presentation</td>\n",
              "      <td>Global</td>\n",
              "      <td>Yes</td>\n",
              "      <td>https://blog.linkedin.com/2016/10/20/top-skill...</td>\n",
              "    </tr>\n",
              "    <tr>\n",
              "      <th>18</th>\n",
              "      <td>2017.0</td>\n",
              "      <td>2016</td>\n",
              "      <td>9.0</td>\n",
              "      <td>SEO/SEM Marketing</td>\n",
              "      <td>Global</td>\n",
              "      <td>Yes</td>\n",
              "      <td>https://blog.linkedin.com/2016/10/20/top-skill...</td>\n",
              "    </tr>\n",
              "    <tr>\n",
              "      <th>19</th>\n",
              "      <td>2017.0</td>\n",
              "      <td>2016</td>\n",
              "      <td>10.0</td>\n",
              "      <td>Storage Systems and Management</td>\n",
              "      <td>Global</td>\n",
              "      <td>Yes</td>\n",
              "      <td>https://blog.linkedin.com/2016/10/20/top-skill...</td>\n",
              "    </tr>\n",
              "    <tr>\n",
              "      <th>20</th>\n",
              "      <td>2016.0</td>\n",
              "      <td>2015</td>\n",
              "      <td>1.0</td>\n",
              "      <td>Cloud and Distributed Computing</td>\n",
              "      <td>Global</td>\n",
              "      <td>Yes</td>\n",
              "      <td>https://blog.linkedin.com/2016/01/12/the-25-sk...</td>\n",
              "    </tr>\n",
              "    <tr>\n",
              "      <th>21</th>\n",
              "      <td>2016.0</td>\n",
              "      <td>2015</td>\n",
              "      <td>2.0</td>\n",
              "      <td>Statistical Analysis and Data Mining</td>\n",
              "      <td>Global</td>\n",
              "      <td>Yes</td>\n",
              "      <td>https://blog.linkedin.com/2016/01/12/the-25-sk...</td>\n",
              "    </tr>\n",
              "    <tr>\n",
              "      <th>22</th>\n",
              "      <td>2016.0</td>\n",
              "      <td>2015</td>\n",
              "      <td>3.0</td>\n",
              "      <td>Marketing Campaign Management</td>\n",
              "      <td>Global</td>\n",
              "      <td>Yes</td>\n",
              "      <td>https://blog.linkedin.com/2016/01/12/the-25-sk...</td>\n",
              "    </tr>\n",
              "    <tr>\n",
              "      <th>23</th>\n",
              "      <td>2016.0</td>\n",
              "      <td>2015</td>\n",
              "      <td>4.0</td>\n",
              "      <td>SEO/SEM Marketing</td>\n",
              "      <td>Global</td>\n",
              "      <td>Yes</td>\n",
              "      <td>https://blog.linkedin.com/2016/01/12/the-25-sk...</td>\n",
              "    </tr>\n",
              "    <tr>\n",
              "      <th>24</th>\n",
              "      <td>2016.0</td>\n",
              "      <td>2015</td>\n",
              "      <td>5.0</td>\n",
              "      <td>Middleware and Integration Software</td>\n",
              "      <td>Global</td>\n",
              "      <td>Yes</td>\n",
              "      <td>https://blog.linkedin.com/2016/01/12/the-25-sk...</td>\n",
              "    </tr>\n",
              "    <tr>\n",
              "      <th>25</th>\n",
              "      <td>2016.0</td>\n",
              "      <td>2015</td>\n",
              "      <td>6.0</td>\n",
              "      <td>Mobile Development</td>\n",
              "      <td>Global</td>\n",
              "      <td>Yes</td>\n",
              "      <td>https://blog.linkedin.com/2016/01/12/the-25-sk...</td>\n",
              "    </tr>\n",
              "    <tr>\n",
              "      <th>26</th>\n",
              "      <td>2016.0</td>\n",
              "      <td>2015</td>\n",
              "      <td>7.0</td>\n",
              "      <td>Network and Information Security</td>\n",
              "      <td>Global</td>\n",
              "      <td>Yes</td>\n",
              "      <td>https://blog.linkedin.com/2016/01/12/the-25-sk...</td>\n",
              "    </tr>\n",
              "    <tr>\n",
              "      <th>27</th>\n",
              "      <td>2016.0</td>\n",
              "      <td>2015</td>\n",
              "      <td>8.0</td>\n",
              "      <td>Storage Systems and Management</td>\n",
              "      <td>Global</td>\n",
              "      <td>Yes</td>\n",
              "      <td>https://blog.linkedin.com/2016/01/12/the-25-sk...</td>\n",
              "    </tr>\n",
              "    <tr>\n",
              "      <th>28</th>\n",
              "      <td>2016.0</td>\n",
              "      <td>2015</td>\n",
              "      <td>9.0</td>\n",
              "      <td>Web Architecture and Development Framework</td>\n",
              "      <td>Global</td>\n",
              "      <td>Yes</td>\n",
              "      <td>https://blog.linkedin.com/2016/01/12/the-25-sk...</td>\n",
              "    </tr>\n",
              "    <tr>\n",
              "      <th>29</th>\n",
              "      <td>2016.0</td>\n",
              "      <td>2015</td>\n",
              "      <td>10.0</td>\n",
              "      <td>User Interface Design</td>\n",
              "      <td>Global</td>\n",
              "      <td>Yes</td>\n",
              "      <td>https://blog.linkedin.com/2016/01/12/the-25-sk...</td>\n",
              "    </tr>\n",
              "    <tr>\n",
              "      <th>30</th>\n",
              "      <td>2015.0</td>\n",
              "      <td>2014</td>\n",
              "      <td>1.0</td>\n",
              "      <td>Statistical Analysis and Data Mining</td>\n",
              "      <td>Global</td>\n",
              "      <td>No</td>\n",
              "      <td>https://blog.linkedin.com/2014/12/17/the-25-ho...</td>\n",
              "    </tr>\n",
              "    <tr>\n",
              "      <th>31</th>\n",
              "      <td>2015.0</td>\n",
              "      <td>2014</td>\n",
              "      <td>2.0</td>\n",
              "      <td>Middleware and Integration Software</td>\n",
              "      <td>Global</td>\n",
              "      <td>No</td>\n",
              "      <td>https://blog.linkedin.com/2014/12/17/the-25-ho...</td>\n",
              "    </tr>\n",
              "    <tr>\n",
              "      <th>32</th>\n",
              "      <td>2015.0</td>\n",
              "      <td>2014</td>\n",
              "      <td>3.0</td>\n",
              "      <td>Storage Systems and Management</td>\n",
              "      <td>Global</td>\n",
              "      <td>No</td>\n",
              "      <td>https://blog.linkedin.com/2014/12/17/the-25-ho...</td>\n",
              "    </tr>\n",
              "    <tr>\n",
              "      <th>33</th>\n",
              "      <td>2015.0</td>\n",
              "      <td>2014</td>\n",
              "      <td>4.0</td>\n",
              "      <td>Network and Information Security</td>\n",
              "      <td>Global</td>\n",
              "      <td>No</td>\n",
              "      <td>https://blog.linkedin.com/2014/12/17/the-25-ho...</td>\n",
              "    </tr>\n",
              "    <tr>\n",
              "      <th>34</th>\n",
              "      <td>2015.0</td>\n",
              "      <td>2014</td>\n",
              "      <td>5.0</td>\n",
              "      <td>SEO/SEM Marketing</td>\n",
              "      <td>Global</td>\n",
              "      <td>No</td>\n",
              "      <td>https://blog.linkedin.com/2014/12/17/the-25-ho...</td>\n",
              "    </tr>\n",
              "    <tr>\n",
              "      <th>35</th>\n",
              "      <td>2015.0</td>\n",
              "      <td>2014</td>\n",
              "      <td>6.0</td>\n",
              "      <td>Business Intelligence</td>\n",
              "      <td>Global</td>\n",
              "      <td>No</td>\n",
              "      <td>https://blog.linkedin.com/2014/12/17/the-25-ho...</td>\n",
              "    </tr>\n",
              "    <tr>\n",
              "      <th>36</th>\n",
              "      <td>2015.0</td>\n",
              "      <td>2014</td>\n",
              "      <td>7.0</td>\n",
              "      <td>Mobile Development</td>\n",
              "      <td>Global</td>\n",
              "      <td>No</td>\n",
              "      <td>https://blog.linkedin.com/2014/12/17/the-25-ho...</td>\n",
              "    </tr>\n",
              "    <tr>\n",
              "      <th>37</th>\n",
              "      <td>2015.0</td>\n",
              "      <td>2014</td>\n",
              "      <td>8.0</td>\n",
              "      <td>Web Architecture and Development Framework</td>\n",
              "      <td>Global</td>\n",
              "      <td>No</td>\n",
              "      <td>https://blog.linkedin.com/2014/12/17/the-25-ho...</td>\n",
              "    </tr>\n",
              "    <tr>\n",
              "      <th>38</th>\n",
              "      <td>2015.0</td>\n",
              "      <td>2014</td>\n",
              "      <td>9.0</td>\n",
              "      <td>Algorithm Design</td>\n",
              "      <td>Global</td>\n",
              "      <td>No</td>\n",
              "      <td>https://blog.linkedin.com/2014/12/17/the-25-ho...</td>\n",
              "    </tr>\n",
              "    <tr>\n",
              "      <th>39</th>\n",
              "      <td>2015.0</td>\n",
              "      <td>2014</td>\n",
              "      <td>10.0</td>\n",
              "      <td>Perl/Python/Ruby</td>\n",
              "      <td>Global</td>\n",
              "      <td>No</td>\n",
              "      <td>https://blog.linkedin.com/2014/12/17/the-25-ho...</td>\n",
              "    </tr>\n",
              "    <tr>\n",
              "      <th>40</th>\n",
              "      <td>2014.0</td>\n",
              "      <td>2013</td>\n",
              "      <td>1.0</td>\n",
              "      <td>Social Media Marketing</td>\n",
              "      <td>NaN</td>\n",
              "      <td>NaN</td>\n",
              "      <td>https://blog.linkedin.com/2013/12/18/the-25-ho...</td>\n",
              "    </tr>\n",
              "    <tr>\n",
              "      <th>41</th>\n",
              "      <td>2014.0</td>\n",
              "      <td>2013</td>\n",
              "      <td>2.0</td>\n",
              "      <td>Mobile Development</td>\n",
              "      <td>NaN</td>\n",
              "      <td>NaN</td>\n",
              "      <td>https://blog.linkedin.com/2013/12/18/the-25-ho...</td>\n",
              "    </tr>\n",
              "    <tr>\n",
              "      <th>42</th>\n",
              "      <td>2014.0</td>\n",
              "      <td>2013</td>\n",
              "      <td>3.0</td>\n",
              "      <td>Cloud and Distributed Computing</td>\n",
              "      <td>NaN</td>\n",
              "      <td>NaN</td>\n",
              "      <td>https://blog.linkedin.com/2013/12/18/the-25-ho...</td>\n",
              "    </tr>\n",
              "    <tr>\n",
              "      <th>43</th>\n",
              "      <td>2014.0</td>\n",
              "      <td>2013</td>\n",
              "      <td>4.0</td>\n",
              "      <td>Perl/Python/Ruby</td>\n",
              "      <td>NaN</td>\n",
              "      <td>NaN</td>\n",
              "      <td>https://blog.linkedin.com/2013/12/18/the-25-ho...</td>\n",
              "    </tr>\n",
              "    <tr>\n",
              "      <th>44</th>\n",
              "      <td>2014.0</td>\n",
              "      <td>2013</td>\n",
              "      <td>5.0</td>\n",
              "      <td>Statistical Analysis and Data Mining</td>\n",
              "      <td>NaN</td>\n",
              "      <td>NaN</td>\n",
              "      <td>https://blog.linkedin.com/2013/12/18/the-25-ho...</td>\n",
              "    </tr>\n",
              "    <tr>\n",
              "      <th>45</th>\n",
              "      <td>2014.0</td>\n",
              "      <td>2013</td>\n",
              "      <td>6.0</td>\n",
              "      <td>User Interface Design</td>\n",
              "      <td>NaN</td>\n",
              "      <td>NaN</td>\n",
              "      <td>https://blog.linkedin.com/2013/12/18/the-25-ho...</td>\n",
              "    </tr>\n",
              "    <tr>\n",
              "      <th>46</th>\n",
              "      <td>2014.0</td>\n",
              "      <td>2013</td>\n",
              "      <td>7.0</td>\n",
              "      <td>Digital and Online Marketing</td>\n",
              "      <td>NaN</td>\n",
              "      <td>NaN</td>\n",
              "      <td>https://blog.linkedin.com/2013/12/18/the-25-ho...</td>\n",
              "    </tr>\n",
              "    <tr>\n",
              "      <th>47</th>\n",
              "      <td>2014.0</td>\n",
              "      <td>2013</td>\n",
              "      <td>8.0</td>\n",
              "      <td>Recruiting</td>\n",
              "      <td>NaN</td>\n",
              "      <td>NaN</td>\n",
              "      <td>https://blog.linkedin.com/2013/12/18/the-25-ho...</td>\n",
              "    </tr>\n",
              "    <tr>\n",
              "      <th>48</th>\n",
              "      <td>2014.0</td>\n",
              "      <td>2013</td>\n",
              "      <td>9.0</td>\n",
              "      <td>Business Development/Relationship Management</td>\n",
              "      <td>NaN</td>\n",
              "      <td>NaN</td>\n",
              "      <td>https://blog.linkedin.com/2013/12/18/the-25-ho...</td>\n",
              "    </tr>\n",
              "    <tr>\n",
              "      <th>49</th>\n",
              "      <td>2014.0</td>\n",
              "      <td>2013</td>\n",
              "      <td>10.0</td>\n",
              "      <td>Retail Payment and Information Systems</td>\n",
              "      <td>NaN</td>\n",
              "      <td>NaN</td>\n",
              "      <td>https://blog.linkedin.com/2013/12/18/the-25-ho...</td>\n",
              "    </tr>\n",
              "    <tr>\n",
              "      <th>50</th>\n",
              "      <td>NaN</td>\n",
              "      <td>p</td>\n",
              "      <td>NaN</td>\n",
              "      <td>NaN</td>\n",
              "      <td>NaN</td>\n",
              "      <td>NaN</td>\n",
              "      <td>NaN</td>\n",
              "    </tr>\n",
              "  </tbody>\n",
              "</table>\n",
              "</div>"
            ],
            "text/plain": [
              "    Year Published  ...                                                URL\n",
              "0           2018.0  ...  https://blog.linkedin.com/2018/january/11/link...\n",
              "1           2018.0  ...  https://blog.linkedin.com/2018/january/11/link...\n",
              "2           2018.0  ...  https://blog.linkedin.com/2018/january/11/link...\n",
              "3           2018.0  ...  https://blog.linkedin.com/2018/january/11/link...\n",
              "4           2018.0  ...  https://blog.linkedin.com/2018/january/11/link...\n",
              "5           2018.0  ...  https://blog.linkedin.com/2018/january/11/link...\n",
              "6           2018.0  ...  https://blog.linkedin.com/2018/january/11/link...\n",
              "7           2018.0  ...  https://blog.linkedin.com/2018/january/11/link...\n",
              "8           2018.0  ...  https://blog.linkedin.com/2018/january/11/link...\n",
              "9           2018.0  ...  https://blog.linkedin.com/2018/january/11/link...\n",
              "10          2017.0  ...  https://blog.linkedin.com/2016/10/20/top-skill...\n",
              "11          2017.0  ...  https://blog.linkedin.com/2016/10/20/top-skill...\n",
              "12          2017.0  ...  https://blog.linkedin.com/2016/10/20/top-skill...\n",
              "13          2017.0  ...  https://blog.linkedin.com/2016/10/20/top-skill...\n",
              "14          2017.0  ...  https://blog.linkedin.com/2016/10/20/top-skill...\n",
              "15          2017.0  ...  https://blog.linkedin.com/2016/10/20/top-skill...\n",
              "16          2017.0  ...  https://blog.linkedin.com/2016/10/20/top-skill...\n",
              "17          2017.0  ...  https://blog.linkedin.com/2016/10/20/top-skill...\n",
              "18          2017.0  ...  https://blog.linkedin.com/2016/10/20/top-skill...\n",
              "19          2017.0  ...  https://blog.linkedin.com/2016/10/20/top-skill...\n",
              "20          2016.0  ...  https://blog.linkedin.com/2016/01/12/the-25-sk...\n",
              "21          2016.0  ...  https://blog.linkedin.com/2016/01/12/the-25-sk...\n",
              "22          2016.0  ...  https://blog.linkedin.com/2016/01/12/the-25-sk...\n",
              "23          2016.0  ...  https://blog.linkedin.com/2016/01/12/the-25-sk...\n",
              "24          2016.0  ...  https://blog.linkedin.com/2016/01/12/the-25-sk...\n",
              "25          2016.0  ...  https://blog.linkedin.com/2016/01/12/the-25-sk...\n",
              "26          2016.0  ...  https://blog.linkedin.com/2016/01/12/the-25-sk...\n",
              "27          2016.0  ...  https://blog.linkedin.com/2016/01/12/the-25-sk...\n",
              "28          2016.0  ...  https://blog.linkedin.com/2016/01/12/the-25-sk...\n",
              "29          2016.0  ...  https://blog.linkedin.com/2016/01/12/the-25-sk...\n",
              "30          2015.0  ...  https://blog.linkedin.com/2014/12/17/the-25-ho...\n",
              "31          2015.0  ...  https://blog.linkedin.com/2014/12/17/the-25-ho...\n",
              "32          2015.0  ...  https://blog.linkedin.com/2014/12/17/the-25-ho...\n",
              "33          2015.0  ...  https://blog.linkedin.com/2014/12/17/the-25-ho...\n",
              "34          2015.0  ...  https://blog.linkedin.com/2014/12/17/the-25-ho...\n",
              "35          2015.0  ...  https://blog.linkedin.com/2014/12/17/the-25-ho...\n",
              "36          2015.0  ...  https://blog.linkedin.com/2014/12/17/the-25-ho...\n",
              "37          2015.0  ...  https://blog.linkedin.com/2014/12/17/the-25-ho...\n",
              "38          2015.0  ...  https://blog.linkedin.com/2014/12/17/the-25-ho...\n",
              "39          2015.0  ...  https://blog.linkedin.com/2014/12/17/the-25-ho...\n",
              "40          2014.0  ...  https://blog.linkedin.com/2013/12/18/the-25-ho...\n",
              "41          2014.0  ...  https://blog.linkedin.com/2013/12/18/the-25-ho...\n",
              "42          2014.0  ...  https://blog.linkedin.com/2013/12/18/the-25-ho...\n",
              "43          2014.0  ...  https://blog.linkedin.com/2013/12/18/the-25-ho...\n",
              "44          2014.0  ...  https://blog.linkedin.com/2013/12/18/the-25-ho...\n",
              "45          2014.0  ...  https://blog.linkedin.com/2013/12/18/the-25-ho...\n",
              "46          2014.0  ...  https://blog.linkedin.com/2013/12/18/the-25-ho...\n",
              "47          2014.0  ...  https://blog.linkedin.com/2013/12/18/the-25-ho...\n",
              "48          2014.0  ...  https://blog.linkedin.com/2013/12/18/the-25-ho...\n",
              "49          2014.0  ...  https://blog.linkedin.com/2013/12/18/the-25-ho...\n",
              "50             NaN  ...                                                NaN\n",
              "\n",
              "[51 rows x 7 columns]"
            ]
          },
          "metadata": {
            "tags": []
          },
          "execution_count": 40
        }
      ]
    },
    {
      "cell_type": "markdown",
      "metadata": {
        "id": "nebnaHHP6i4h",
        "colab_type": "text"
      },
      "source": [
        "*   It is evident from the data that Web Architecture and Development Framework\tis becoming more and more popular in the recent years according to the top skills dataset by LinkedIn. While it overpasses Business Intelligence and SEO/SEM Marketing after 2015,\n",
        "User Interface Design\tis gaining more and more popularity. Web Architecture and Development Framework was listed at fourth in the top skills of 2018.\n",
        "This is similar to the data we have seen from udemy which infers that web development courses are more popular than any other courses evidenced from their high frequency, more subscribers, and more reviews.\n",
        "\n",
        "\n"
      ]
    },
    {
      "cell_type": "code",
      "metadata": {
        "id": "d2A1ZJORR-0A",
        "colab_type": "code",
        "colab": {
          "base_uri": "https://localhost:8080/",
          "height": 784
        },
        "outputId": "7fad848e-f417-4cce-c43c-d4151c961c66"
      },
      "source": [
        "df_12 = pd.read_csv(\"2012 Stack Overflow Survey Results.csv\",encoding = \"iso-8859-1\")\n",
        "df_12.head()"
      ],
      "execution_count": null,
      "outputs": [
        {
          "output_type": "execute_result",
          "data": {
            "text/html": [
              "<div>\n",
              "<style scoped>\n",
              "    .dataframe tbody tr th:only-of-type {\n",
              "        vertical-align: middle;\n",
              "    }\n",
              "\n",
              "    .dataframe tbody tr th {\n",
              "        vertical-align: top;\n",
              "    }\n",
              "\n",
              "    .dataframe thead th {\n",
              "        text-align: right;\n",
              "    }\n",
              "</style>\n",
              "<table border=\"1\" class=\"dataframe\">\n",
              "  <thead>\n",
              "    <tr style=\"text-align: right;\">\n",
              "      <th></th>\n",
              "      <th>What Country or Region do you live in?</th>\n",
              "      <th>Which US State or Territory do you live in?</th>\n",
              "      <th>How old are you?</th>\n",
              "      <th>How many years of IT/Programming experience do you have?</th>\n",
              "      <th>How would you best describe the industry you currently work in?</th>\n",
              "      <th>Which best describes the size of your company?</th>\n",
              "      <th>Which of the following best describes your occupation?</th>\n",
              "      <th>What is your involvement in purchasing products or services for the company you work for? (You can choose more than one)</th>\n",
              "      <th>Unnamed: 8</th>\n",
              "      <th>Unnamed: 9</th>\n",
              "      <th>Unnamed: 10</th>\n",
              "      <th>Unnamed: 11</th>\n",
              "      <th>Unnamed: 12</th>\n",
              "      <th>Unnamed: 13</th>\n",
              "      <th>What types of purchases are you involved in?</th>\n",
              "      <th>Unnamed: 15</th>\n",
              "      <th>Unnamed: 16</th>\n",
              "      <th>Unnamed: 17</th>\n",
              "      <th>Unnamed: 18</th>\n",
              "      <th>Unnamed: 19</th>\n",
              "      <th>What is your budget for outside expenditures (hardware, software, consulting, etc) for 2011?</th>\n",
              "      <th>What type of project are you developing?</th>\n",
              "      <th>Which languages are you proficient in?</th>\n",
              "      <th>Unnamed: 23</th>\n",
              "      <th>Unnamed: 24</th>\n",
              "      <th>Unnamed: 25</th>\n",
              "      <th>Unnamed: 26</th>\n",
              "      <th>Unnamed: 27</th>\n",
              "      <th>Unnamed: 28</th>\n",
              "      <th>Unnamed: 29</th>\n",
              "      <th>Unnamed: 30</th>\n",
              "      <th>Unnamed: 31</th>\n",
              "      <th>Unnamed: 32</th>\n",
              "      <th>Unnamed: 33</th>\n",
              "      <th>Unnamed: 34</th>\n",
              "      <th>Unnamed: 35</th>\n",
              "      <th>Unnamed: 36</th>\n",
              "      <th>Which desktop operating system do you use the most?</th>\n",
              "      <th>What best describes your career / job satisfaction?</th>\n",
              "      <th>Including bonus, what is your annual compensation in USD?</th>\n",
              "      <th>Have you visited / Are you aware of Stack Overflow Careers?</th>\n",
              "      <th>Do you have a Stack Overflow Careers Profile?</th>\n",
              "      <th>You answered you don't have a Careers profile, can you elaborate why?</th>\n",
              "      <th>Unnamed: 43</th>\n",
              "      <th>Which technology products do you own? (You can choose more than one)</th>\n",
              "      <th>Unnamed: 45</th>\n",
              "      <th>Unnamed: 46</th>\n",
              "      <th>Unnamed: 47</th>\n",
              "      <th>Unnamed: 48</th>\n",
              "      <th>Unnamed: 49</th>\n",
              "      <th>Unnamed: 50</th>\n",
              "      <th>Unnamed: 51</th>\n",
              "      <th>Unnamed: 52</th>\n",
              "      <th>Unnamed: 53</th>\n",
              "      <th>Unnamed: 54</th>\n",
              "      <th>Unnamed: 55</th>\n",
              "      <th>Unnamed: 56</th>\n",
              "      <th>Unnamed: 57</th>\n",
              "      <th>Unnamed: 58</th>\n",
              "      <th>Unnamed: 59</th>\n",
              "      <th>Unnamed: 60</th>\n",
              "      <th>Unnamed: 61</th>\n",
              "      <th>Unnamed: 62</th>\n",
              "      <th>Unnamed: 63</th>\n",
              "      <th>In the last 12 months, how much money have you spent on personal technology-related purchases?</th>\n",
              "      <th>Please rate the advertising you've seen on Stack Overflow</th>\n",
              "      <th>Unnamed: 66</th>\n",
              "      <th>Unnamed: 67</th>\n",
              "      <th>Unnamed: 68</th>\n",
              "      <th>Unnamed: 69</th>\n",
              "      <th>Unnamed: 70</th>\n",
              "      <th>What advertisers do you remember seeing on Stack Overflow?</th>\n",
              "      <th>What is your current Stack Overflow reputation?</th>\n",
              "      <th>Which of our sites do you frequent most?</th>\n",
              "      <th>Unnamed: 74</th>\n",
              "    </tr>\n",
              "  </thead>\n",
              "  <tbody>\n",
              "    <tr>\n",
              "      <th>0</th>\n",
              "      <td>Response</td>\n",
              "      <td>Response</td>\n",
              "      <td>Response</td>\n",
              "      <td>Response</td>\n",
              "      <td>Response</td>\n",
              "      <td>Response</td>\n",
              "      <td>Response</td>\n",
              "      <td>Influencer</td>\n",
              "      <td>Recommender</td>\n",
              "      <td>Approver</td>\n",
              "      <td>Purchaser</td>\n",
              "      <td>Check Writer</td>\n",
              "      <td>No Involvement</td>\n",
              "      <td>I'm a Seller</td>\n",
              "      <td>Hardware</td>\n",
              "      <td>Servers</td>\n",
              "      <td>Software</td>\n",
              "      <td>User Equipment: Monitors, PCs, Laptops</td>\n",
              "      <td>Consultants</td>\n",
              "      <td>Other</td>\n",
              "      <td>Response</td>\n",
              "      <td>Response</td>\n",
              "      <td>Java</td>\n",
              "      <td>JavaScript</td>\n",
              "      <td>CSS</td>\n",
              "      <td>PHP</td>\n",
              "      <td>Python</td>\n",
              "      <td>Objective-C</td>\n",
              "      <td>Ruby</td>\n",
              "      <td>SQL</td>\n",
              "      <td>C#</td>\n",
              "      <td>C++</td>\n",
              "      <td>C</td>\n",
              "      <td>Perl</td>\n",
              "      <td>HTML5</td>\n",
              "      <td>None</td>\n",
              "      <td>Other (please specify)</td>\n",
              "      <td>Response</td>\n",
              "      <td>Response</td>\n",
              "      <td>Response</td>\n",
              "      <td>Response</td>\n",
              "      <td>Response</td>\n",
              "      <td>Response</td>\n",
              "      <td>Other (please specify)</td>\n",
              "      <td>iPhone</td>\n",
              "      <td>Android</td>\n",
              "      <td>Blackberry</td>\n",
              "      <td>Windows Phone</td>\n",
              "      <td>Other Smart Phone</td>\n",
              "      <td>Regular Mobile Phone</td>\n",
              "      <td>Kindle</td>\n",
              "      <td>Nook</td>\n",
              "      <td>AppleTV</td>\n",
              "      <td>Boxee</td>\n",
              "      <td>Other media streaming device</td>\n",
              "      <td>Netbook</td>\n",
              "      <td>PS3</td>\n",
              "      <td>Xbox</td>\n",
              "      <td>Wii</td>\n",
              "      <td>Other gaming system</td>\n",
              "      <td>Kindle Fire</td>\n",
              "      <td>iPad</td>\n",
              "      <td>Other tablet</td>\n",
              "      <td>Other (please specify)</td>\n",
              "      <td>Response</td>\n",
              "      <td>The ads are relevant</td>\n",
              "      <td>The ads are entertaining</td>\n",
              "      <td>The ads are Informative</td>\n",
              "      <td>I click on ads that interest me</td>\n",
              "      <td>I've taken a trial/purchased a product from ads</td>\n",
              "      <td>What ads? I use an ad blocker</td>\n",
              "      <td>Open-Ended Response</td>\n",
              "      <td>Response</td>\n",
              "      <td>Response</td>\n",
              "      <td>Other Stack Exchange (please specify)</td>\n",
              "    </tr>\n",
              "    <tr>\n",
              "      <th>1</th>\n",
              "      <td>India</td>\n",
              "      <td>NaN</td>\n",
              "      <td>20-24</td>\n",
              "      <td>&lt;2</td>\n",
              "      <td>Consulting</td>\n",
              "      <td>Fortune 1000 (1,000+)</td>\n",
              "      <td>Server Programmer</td>\n",
              "      <td>Influencer</td>\n",
              "      <td>Recommender</td>\n",
              "      <td>NaN</td>\n",
              "      <td>NaN</td>\n",
              "      <td>NaN</td>\n",
              "      <td>NaN</td>\n",
              "      <td>NaN</td>\n",
              "      <td>Hardware</td>\n",
              "      <td>Servers</td>\n",
              "      <td>Software</td>\n",
              "      <td>User Equipment: Monitors, PCs, Laptops</td>\n",
              "      <td>Consultants</td>\n",
              "      <td>NaN</td>\n",
              "      <td>&lt;$10,000</td>\n",
              "      <td>SaaS</td>\n",
              "      <td>Java</td>\n",
              "      <td>JavaScript</td>\n",
              "      <td>NaN</td>\n",
              "      <td>NaN</td>\n",
              "      <td>NaN</td>\n",
              "      <td>NaN</td>\n",
              "      <td>NaN</td>\n",
              "      <td>SQL</td>\n",
              "      <td>NaN</td>\n",
              "      <td>C++</td>\n",
              "      <td>C</td>\n",
              "      <td>NaN</td>\n",
              "      <td>NaN</td>\n",
              "      <td>NaN</td>\n",
              "      <td>NaN</td>\n",
              "      <td>Linux</td>\n",
              "      <td>Love my job</td>\n",
              "      <td>&lt;$20,000</td>\n",
              "      <td>Yes</td>\n",
              "      <td>No, but I want one! (Please provide email and ...</td>\n",
              "      <td>NaN</td>\n",
              "      <td>NaN</td>\n",
              "      <td>iPhone</td>\n",
              "      <td>Android</td>\n",
              "      <td>NaN</td>\n",
              "      <td>NaN</td>\n",
              "      <td>NaN</td>\n",
              "      <td>NaN</td>\n",
              "      <td>NaN</td>\n",
              "      <td>NaN</td>\n",
              "      <td>NaN</td>\n",
              "      <td>NaN</td>\n",
              "      <td>NaN</td>\n",
              "      <td>Netbook</td>\n",
              "      <td>NaN</td>\n",
              "      <td>NaN</td>\n",
              "      <td>NaN</td>\n",
              "      <td>NaN</td>\n",
              "      <td>NaN</td>\n",
              "      <td>NaN</td>\n",
              "      <td>NaN</td>\n",
              "      <td>NaN</td>\n",
              "      <td>$501-$1,000</td>\n",
              "      <td>NaN</td>\n",
              "      <td>NaN</td>\n",
              "      <td>NaN</td>\n",
              "      <td>NaN</td>\n",
              "      <td>NaN</td>\n",
              "      <td>NaN</td>\n",
              "      <td>NaN</td>\n",
              "      <td>NaN</td>\n",
              "      <td>NaN</td>\n",
              "      <td>NaN</td>\n",
              "    </tr>\n",
              "    <tr>\n",
              "      <th>2</th>\n",
              "      <td>Germany</td>\n",
              "      <td>NaN</td>\n",
              "      <td>25-29</td>\n",
              "      <td>&lt;2</td>\n",
              "      <td>Other</td>\n",
              "      <td>Mature Small Business (25-100)</td>\n",
              "      <td>Embedded Application Developer</td>\n",
              "      <td>NaN</td>\n",
              "      <td>Recommender</td>\n",
              "      <td>NaN</td>\n",
              "      <td>NaN</td>\n",
              "      <td>NaN</td>\n",
              "      <td>NaN</td>\n",
              "      <td>NaN</td>\n",
              "      <td>NaN</td>\n",
              "      <td>NaN</td>\n",
              "      <td>Software</td>\n",
              "      <td>NaN</td>\n",
              "      <td>Consultants</td>\n",
              "      <td>NaN</td>\n",
              "      <td>Don't know</td>\n",
              "      <td>Mobile</td>\n",
              "      <td>NaN</td>\n",
              "      <td>JavaScript</td>\n",
              "      <td>CSS</td>\n",
              "      <td>PHP</td>\n",
              "      <td>NaN</td>\n",
              "      <td>Objective-C</td>\n",
              "      <td>NaN</td>\n",
              "      <td>NaN</td>\n",
              "      <td>NaN</td>\n",
              "      <td>C++</td>\n",
              "      <td>NaN</td>\n",
              "      <td>NaN</td>\n",
              "      <td>HTML5</td>\n",
              "      <td>NaN</td>\n",
              "      <td>NaN</td>\n",
              "      <td>Windows 7</td>\n",
              "      <td>I enjoy going to work</td>\n",
              "      <td>$20,000 - $40,000</td>\n",
              "      <td>No</td>\n",
              "      <td>No thank you</td>\n",
              "      <td>Thought Careers site was just about finding a ...</td>\n",
              "      <td>NaN</td>\n",
              "      <td>NaN</td>\n",
              "      <td>NaN</td>\n",
              "      <td>NaN</td>\n",
              "      <td>NaN</td>\n",
              "      <td>NaN</td>\n",
              "      <td>NaN</td>\n",
              "      <td>NaN</td>\n",
              "      <td>NaN</td>\n",
              "      <td>NaN</td>\n",
              "      <td>NaN</td>\n",
              "      <td>NaN</td>\n",
              "      <td>NaN</td>\n",
              "      <td>NaN</td>\n",
              "      <td>NaN</td>\n",
              "      <td>NaN</td>\n",
              "      <td>NaN</td>\n",
              "      <td>NaN</td>\n",
              "      <td>NaN</td>\n",
              "      <td>NaN</td>\n",
              "      <td>NaN</td>\n",
              "      <td>$100-$250</td>\n",
              "      <td>Neutral</td>\n",
              "      <td>Agree</td>\n",
              "      <td>Agree</td>\n",
              "      <td>Strongly Disagree</td>\n",
              "      <td>Strongly Disagree</td>\n",
              "      <td>Disagree</td>\n",
              "      <td>NaN</td>\n",
              "      <td>Don't have an account</td>\n",
              "      <td>Stack Overflow</td>\n",
              "      <td>NaN</td>\n",
              "    </tr>\n",
              "    <tr>\n",
              "      <th>3</th>\n",
              "      <td>United Kingdom</td>\n",
              "      <td>NaN</td>\n",
              "      <td>20-24</td>\n",
              "      <td>41070</td>\n",
              "      <td>Finance / Banking</td>\n",
              "      <td>Mature Small Business (25-100)</td>\n",
              "      <td>Web Application Developer</td>\n",
              "      <td>Influencer</td>\n",
              "      <td>Recommender</td>\n",
              "      <td>NaN</td>\n",
              "      <td>NaN</td>\n",
              "      <td>NaN</td>\n",
              "      <td>NaN</td>\n",
              "      <td>NaN</td>\n",
              "      <td>Hardware</td>\n",
              "      <td>Servers</td>\n",
              "      <td>Software</td>\n",
              "      <td>User Equipment: Monitors, PCs, Laptops</td>\n",
              "      <td>NaN</td>\n",
              "      <td>NaN</td>\n",
              "      <td>$25,001 - $40,000</td>\n",
              "      <td>Web Platform</td>\n",
              "      <td>NaN</td>\n",
              "      <td>NaN</td>\n",
              "      <td>CSS</td>\n",
              "      <td>PHP</td>\n",
              "      <td>NaN</td>\n",
              "      <td>Objective-C</td>\n",
              "      <td>NaN</td>\n",
              "      <td>SQL</td>\n",
              "      <td>NaN</td>\n",
              "      <td>NaN</td>\n",
              "      <td>NaN</td>\n",
              "      <td>NaN</td>\n",
              "      <td>HTML5</td>\n",
              "      <td>NaN</td>\n",
              "      <td>NaN</td>\n",
              "      <td>Mac OS X</td>\n",
              "      <td>I enjoy going to work</td>\n",
              "      <td>$20,000 - $40,000</td>\n",
              "      <td>Yes</td>\n",
              "      <td>No thank you</td>\n",
              "      <td>Thought Careers site was just about finding a ...</td>\n",
              "      <td>NaN</td>\n",
              "      <td>iPhone</td>\n",
              "      <td>NaN</td>\n",
              "      <td>Blackberry</td>\n",
              "      <td>NaN</td>\n",
              "      <td>NaN</td>\n",
              "      <td>NaN</td>\n",
              "      <td>NaN</td>\n",
              "      <td>NaN</td>\n",
              "      <td>NaN</td>\n",
              "      <td>NaN</td>\n",
              "      <td>Other media streaming device</td>\n",
              "      <td>NaN</td>\n",
              "      <td>NaN</td>\n",
              "      <td>Xbox</td>\n",
              "      <td>NaN</td>\n",
              "      <td>NaN</td>\n",
              "      <td>NaN</td>\n",
              "      <td>iPad</td>\n",
              "      <td>NaN</td>\n",
              "      <td>NaN</td>\n",
              "      <td>$1,001-$2,000</td>\n",
              "      <td>Neutral</td>\n",
              "      <td>Neutral</td>\n",
              "      <td>Neutral</td>\n",
              "      <td>Neutral</td>\n",
              "      <td>Neutral</td>\n",
              "      <td>Strongly Agree</td>\n",
              "      <td>NaN</td>\n",
              "      <td>1</td>\n",
              "      <td>Stack Overflow</td>\n",
              "      <td>NaN</td>\n",
              "    </tr>\n",
              "    <tr>\n",
              "      <th>4</th>\n",
              "      <td>France</td>\n",
              "      <td>NaN</td>\n",
              "      <td>20-24</td>\n",
              "      <td>40944</td>\n",
              "      <td>Software Products</td>\n",
              "      <td>Mature Small Business (25-100)</td>\n",
              "      <td>Embedded Application Developer</td>\n",
              "      <td>NaN</td>\n",
              "      <td>NaN</td>\n",
              "      <td>NaN</td>\n",
              "      <td>NaN</td>\n",
              "      <td>NaN</td>\n",
              "      <td>No Involvement</td>\n",
              "      <td>NaN</td>\n",
              "      <td>NaN</td>\n",
              "      <td>NaN</td>\n",
              "      <td>NaN</td>\n",
              "      <td>NaN</td>\n",
              "      <td>NaN</td>\n",
              "      <td>NaN</td>\n",
              "      <td>NaN</td>\n",
              "      <td>Mobile</td>\n",
              "      <td>Java</td>\n",
              "      <td>NaN</td>\n",
              "      <td>NaN</td>\n",
              "      <td>NaN</td>\n",
              "      <td>NaN</td>\n",
              "      <td>NaN</td>\n",
              "      <td>NaN</td>\n",
              "      <td>NaN</td>\n",
              "      <td>NaN</td>\n",
              "      <td>C++</td>\n",
              "      <td>NaN</td>\n",
              "      <td>NaN</td>\n",
              "      <td>NaN</td>\n",
              "      <td>NaN</td>\n",
              "      <td>NaN</td>\n",
              "      <td>Linux</td>\n",
              "      <td>I'm not happy in my job</td>\n",
              "      <td>$20,000 - $40,000</td>\n",
              "      <td>Yes</td>\n",
              "      <td>No, but I want one! (Please provide email and ...</td>\n",
              "      <td>NaN</td>\n",
              "      <td>NaN</td>\n",
              "      <td>NaN</td>\n",
              "      <td>Android</td>\n",
              "      <td>NaN</td>\n",
              "      <td>NaN</td>\n",
              "      <td>NaN</td>\n",
              "      <td>NaN</td>\n",
              "      <td>NaN</td>\n",
              "      <td>NaN</td>\n",
              "      <td>NaN</td>\n",
              "      <td>NaN</td>\n",
              "      <td>NaN</td>\n",
              "      <td>NaN</td>\n",
              "      <td>NaN</td>\n",
              "      <td>NaN</td>\n",
              "      <td>NaN</td>\n",
              "      <td>NaN</td>\n",
              "      <td>NaN</td>\n",
              "      <td>iPad</td>\n",
              "      <td>NaN</td>\n",
              "      <td>NaN</td>\n",
              "      <td>$1,001-$2,000</td>\n",
              "      <td>Agree</td>\n",
              "      <td>Strongly Disagree</td>\n",
              "      <td>Disagree</td>\n",
              "      <td>Disagree</td>\n",
              "      <td>Strongly Disagree</td>\n",
              "      <td>Disagree</td>\n",
              "      <td>None !</td>\n",
              "      <td>Don't have an account</td>\n",
              "      <td>Stack Overflow</td>\n",
              "      <td>NaN</td>\n",
              "    </tr>\n",
              "  </tbody>\n",
              "</table>\n",
              "</div>"
            ],
            "text/plain": [
              "  What Country or Region do you live in?  ...                            Unnamed: 74\n",
              "0                               Response  ...  Other Stack Exchange (please specify)\n",
              "1                                  India  ...                                    NaN\n",
              "2                                Germany  ...                                    NaN\n",
              "3                         United Kingdom  ...                                    NaN\n",
              "4                                 France  ...                                    NaN\n",
              "\n",
              "[5 rows x 75 columns]"
            ]
          },
          "metadata": {
            "tags": []
          },
          "execution_count": 41
        }
      ]
    },
    {
      "cell_type": "code",
      "metadata": {
        "id": "M5RrZB19Y7aq",
        "colab_type": "code",
        "colab": {
          "base_uri": "https://localhost:8080/",
          "height": 1000
        },
        "outputId": "7e37371e-aab5-4f8a-b454-b908b595e077"
      },
      "source": [
        "list(df_12.columns.values)\n"
      ],
      "execution_count": null,
      "outputs": [
        {
          "output_type": "execute_result",
          "data": {
            "text/plain": [
              "['What Country or Region do you live in?',\n",
              " 'Which US State or Territory do you live in?',\n",
              " 'How old are you?',\n",
              " 'How many years of IT/Programming experience do you have?',\n",
              " 'How would you best describe the industry you currently work in?',\n",
              " 'Which best describes the size of your company?',\n",
              " 'Which of the following best describes your occupation?',\n",
              " 'What is your involvement in purchasing products or services for the company you work for? (You can choose more than one)',\n",
              " 'Unnamed: 8',\n",
              " 'Unnamed: 9',\n",
              " 'Unnamed: 10',\n",
              " 'Unnamed: 11',\n",
              " 'Unnamed: 12',\n",
              " 'Unnamed: 13',\n",
              " 'What types of purchases are you involved in?',\n",
              " 'Unnamed: 15',\n",
              " 'Unnamed: 16',\n",
              " 'Unnamed: 17',\n",
              " 'Unnamed: 18',\n",
              " 'Unnamed: 19',\n",
              " 'What is your budget for outside expenditures (hardware, software, consulting, etc) for 2011?',\n",
              " 'What type of project are you developing?',\n",
              " 'Which languages are you proficient in?',\n",
              " 'Unnamed: 23',\n",
              " 'Unnamed: 24',\n",
              " 'Unnamed: 25',\n",
              " 'Unnamed: 26',\n",
              " 'Unnamed: 27',\n",
              " 'Unnamed: 28',\n",
              " 'Unnamed: 29',\n",
              " 'Unnamed: 30',\n",
              " 'Unnamed: 31',\n",
              " 'Unnamed: 32',\n",
              " 'Unnamed: 33',\n",
              " 'Unnamed: 34',\n",
              " 'Unnamed: 35',\n",
              " 'Unnamed: 36',\n",
              " 'Which desktop operating system do you use the most?',\n",
              " 'What best describes your career / job satisfaction? ',\n",
              " 'Including bonus, what is your annual compensation in USD?',\n",
              " 'Have you visited / Are you aware of Stack Overflow Careers?',\n",
              " 'Do you have a Stack Overflow Careers Profile?',\n",
              " \"You answered you don't have a Careers profile, can you elaborate why?\",\n",
              " 'Unnamed: 43',\n",
              " 'Which technology products do you own? (You can choose more than one)',\n",
              " 'Unnamed: 45',\n",
              " 'Unnamed: 46',\n",
              " 'Unnamed: 47',\n",
              " 'Unnamed: 48',\n",
              " 'Unnamed: 49',\n",
              " 'Unnamed: 50',\n",
              " 'Unnamed: 51',\n",
              " 'Unnamed: 52',\n",
              " 'Unnamed: 53',\n",
              " 'Unnamed: 54',\n",
              " 'Unnamed: 55',\n",
              " 'Unnamed: 56',\n",
              " 'Unnamed: 57',\n",
              " 'Unnamed: 58',\n",
              " 'Unnamed: 59',\n",
              " 'Unnamed: 60',\n",
              " 'Unnamed: 61',\n",
              " 'Unnamed: 62',\n",
              " 'Unnamed: 63',\n",
              " 'In the last 12 months, how much money have you spent on personal technology-related purchases? ',\n",
              " \"Please rate the advertising you've seen on Stack Overflow\",\n",
              " 'Unnamed: 66',\n",
              " 'Unnamed: 67',\n",
              " 'Unnamed: 68',\n",
              " 'Unnamed: 69',\n",
              " 'Unnamed: 70',\n",
              " 'What advertisers do you remember seeing on Stack Overflow?',\n",
              " 'What is your current Stack Overflow reputation?',\n",
              " 'Which of our sites do you frequent most?',\n",
              " 'Unnamed: 74']"
            ]
          },
          "metadata": {
            "tags": []
          },
          "execution_count": 42
        }
      ]
    },
    {
      "cell_type": "code",
      "metadata": {
        "id": "7uzjiZQGY-Tn",
        "colab_type": "code",
        "colab": {
          "base_uri": "https://localhost:8080/",
          "height": 490
        },
        "outputId": "350bc9ed-4662-4af8-e2af-6b66afa24a38"
      },
      "source": [
        "df_lang_12 = df_12[list(df_12.columns.values)[22:36]]\n",
        "df_lang_12"
      ],
      "execution_count": null,
      "outputs": [
        {
          "output_type": "execute_result",
          "data": {
            "text/html": [
              "<div>\n",
              "<style scoped>\n",
              "    .dataframe tbody tr th:only-of-type {\n",
              "        vertical-align: middle;\n",
              "    }\n",
              "\n",
              "    .dataframe tbody tr th {\n",
              "        vertical-align: top;\n",
              "    }\n",
              "\n",
              "    .dataframe thead th {\n",
              "        text-align: right;\n",
              "    }\n",
              "</style>\n",
              "<table border=\"1\" class=\"dataframe\">\n",
              "  <thead>\n",
              "    <tr style=\"text-align: right;\">\n",
              "      <th></th>\n",
              "      <th>Which languages are you proficient in?</th>\n",
              "      <th>Unnamed: 23</th>\n",
              "      <th>Unnamed: 24</th>\n",
              "      <th>Unnamed: 25</th>\n",
              "      <th>Unnamed: 26</th>\n",
              "      <th>Unnamed: 27</th>\n",
              "      <th>Unnamed: 28</th>\n",
              "      <th>Unnamed: 29</th>\n",
              "      <th>Unnamed: 30</th>\n",
              "      <th>Unnamed: 31</th>\n",
              "      <th>Unnamed: 32</th>\n",
              "      <th>Unnamed: 33</th>\n",
              "      <th>Unnamed: 34</th>\n",
              "      <th>Unnamed: 35</th>\n",
              "    </tr>\n",
              "  </thead>\n",
              "  <tbody>\n",
              "    <tr>\n",
              "      <th>0</th>\n",
              "      <td>Java</td>\n",
              "      <td>JavaScript</td>\n",
              "      <td>CSS</td>\n",
              "      <td>PHP</td>\n",
              "      <td>Python</td>\n",
              "      <td>Objective-C</td>\n",
              "      <td>Ruby</td>\n",
              "      <td>SQL</td>\n",
              "      <td>C#</td>\n",
              "      <td>C++</td>\n",
              "      <td>C</td>\n",
              "      <td>Perl</td>\n",
              "      <td>HTML5</td>\n",
              "      <td>None</td>\n",
              "    </tr>\n",
              "    <tr>\n",
              "      <th>1</th>\n",
              "      <td>Java</td>\n",
              "      <td>JavaScript</td>\n",
              "      <td>NaN</td>\n",
              "      <td>NaN</td>\n",
              "      <td>NaN</td>\n",
              "      <td>NaN</td>\n",
              "      <td>NaN</td>\n",
              "      <td>SQL</td>\n",
              "      <td>NaN</td>\n",
              "      <td>C++</td>\n",
              "      <td>C</td>\n",
              "      <td>NaN</td>\n",
              "      <td>NaN</td>\n",
              "      <td>NaN</td>\n",
              "    </tr>\n",
              "    <tr>\n",
              "      <th>2</th>\n",
              "      <td>NaN</td>\n",
              "      <td>JavaScript</td>\n",
              "      <td>CSS</td>\n",
              "      <td>PHP</td>\n",
              "      <td>NaN</td>\n",
              "      <td>Objective-C</td>\n",
              "      <td>NaN</td>\n",
              "      <td>NaN</td>\n",
              "      <td>NaN</td>\n",
              "      <td>C++</td>\n",
              "      <td>NaN</td>\n",
              "      <td>NaN</td>\n",
              "      <td>HTML5</td>\n",
              "      <td>NaN</td>\n",
              "    </tr>\n",
              "    <tr>\n",
              "      <th>3</th>\n",
              "      <td>NaN</td>\n",
              "      <td>NaN</td>\n",
              "      <td>CSS</td>\n",
              "      <td>PHP</td>\n",
              "      <td>NaN</td>\n",
              "      <td>Objective-C</td>\n",
              "      <td>NaN</td>\n",
              "      <td>SQL</td>\n",
              "      <td>NaN</td>\n",
              "      <td>NaN</td>\n",
              "      <td>NaN</td>\n",
              "      <td>NaN</td>\n",
              "      <td>HTML5</td>\n",
              "      <td>NaN</td>\n",
              "    </tr>\n",
              "    <tr>\n",
              "      <th>4</th>\n",
              "      <td>Java</td>\n",
              "      <td>NaN</td>\n",
              "      <td>NaN</td>\n",
              "      <td>NaN</td>\n",
              "      <td>NaN</td>\n",
              "      <td>NaN</td>\n",
              "      <td>NaN</td>\n",
              "      <td>NaN</td>\n",
              "      <td>NaN</td>\n",
              "      <td>C++</td>\n",
              "      <td>NaN</td>\n",
              "      <td>NaN</td>\n",
              "      <td>NaN</td>\n",
              "      <td>NaN</td>\n",
              "    </tr>\n",
              "    <tr>\n",
              "      <th>...</th>\n",
              "      <td>...</td>\n",
              "      <td>...</td>\n",
              "      <td>...</td>\n",
              "      <td>...</td>\n",
              "      <td>...</td>\n",
              "      <td>...</td>\n",
              "      <td>...</td>\n",
              "      <td>...</td>\n",
              "      <td>...</td>\n",
              "      <td>...</td>\n",
              "      <td>...</td>\n",
              "      <td>...</td>\n",
              "      <td>...</td>\n",
              "      <td>...</td>\n",
              "    </tr>\n",
              "    <tr>\n",
              "      <th>6239</th>\n",
              "      <td>Java</td>\n",
              "      <td>NaN</td>\n",
              "      <td>NaN</td>\n",
              "      <td>NaN</td>\n",
              "      <td>NaN</td>\n",
              "      <td>NaN</td>\n",
              "      <td>NaN</td>\n",
              "      <td>NaN</td>\n",
              "      <td>NaN</td>\n",
              "      <td>NaN</td>\n",
              "      <td>NaN</td>\n",
              "      <td>NaN</td>\n",
              "      <td>NaN</td>\n",
              "      <td>NaN</td>\n",
              "    </tr>\n",
              "    <tr>\n",
              "      <th>6240</th>\n",
              "      <td>NaN</td>\n",
              "      <td>NaN</td>\n",
              "      <td>CSS</td>\n",
              "      <td>NaN</td>\n",
              "      <td>NaN</td>\n",
              "      <td>NaN</td>\n",
              "      <td>NaN</td>\n",
              "      <td>NaN</td>\n",
              "      <td>NaN</td>\n",
              "      <td>NaN</td>\n",
              "      <td>NaN</td>\n",
              "      <td>NaN</td>\n",
              "      <td>NaN</td>\n",
              "      <td>NaN</td>\n",
              "    </tr>\n",
              "    <tr>\n",
              "      <th>6241</th>\n",
              "      <td>Java</td>\n",
              "      <td>NaN</td>\n",
              "      <td>NaN</td>\n",
              "      <td>NaN</td>\n",
              "      <td>NaN</td>\n",
              "      <td>NaN</td>\n",
              "      <td>NaN</td>\n",
              "      <td>NaN</td>\n",
              "      <td>NaN</td>\n",
              "      <td>NaN</td>\n",
              "      <td>NaN</td>\n",
              "      <td>NaN</td>\n",
              "      <td>NaN</td>\n",
              "      <td>NaN</td>\n",
              "    </tr>\n",
              "    <tr>\n",
              "      <th>6242</th>\n",
              "      <td>NaN</td>\n",
              "      <td>NaN</td>\n",
              "      <td>NaN</td>\n",
              "      <td>NaN</td>\n",
              "      <td>NaN</td>\n",
              "      <td>NaN</td>\n",
              "      <td>NaN</td>\n",
              "      <td>NaN</td>\n",
              "      <td>NaN</td>\n",
              "      <td>NaN</td>\n",
              "      <td>NaN</td>\n",
              "      <td>NaN</td>\n",
              "      <td>NaN</td>\n",
              "      <td>NaN</td>\n",
              "    </tr>\n",
              "    <tr>\n",
              "      <th>6243</th>\n",
              "      <td>NaN</td>\n",
              "      <td>NaN</td>\n",
              "      <td>CSS</td>\n",
              "      <td>NaN</td>\n",
              "      <td>NaN</td>\n",
              "      <td>NaN</td>\n",
              "      <td>NaN</td>\n",
              "      <td>SQL</td>\n",
              "      <td>C#</td>\n",
              "      <td>NaN</td>\n",
              "      <td>NaN</td>\n",
              "      <td>NaN</td>\n",
              "      <td>NaN</td>\n",
              "      <td>NaN</td>\n",
              "    </tr>\n",
              "  </tbody>\n",
              "</table>\n",
              "<p>6244 rows × 14 columns</p>\n",
              "</div>"
            ],
            "text/plain": [
              "     Which languages are you proficient in? Unnamed: 23  ... Unnamed: 34 Unnamed: 35\n",
              "0                                      Java  JavaScript  ...       HTML5        None\n",
              "1                                      Java  JavaScript  ...         NaN         NaN\n",
              "2                                       NaN  JavaScript  ...       HTML5         NaN\n",
              "3                                       NaN         NaN  ...       HTML5         NaN\n",
              "4                                      Java         NaN  ...         NaN         NaN\n",
              "...                                     ...         ...  ...         ...         ...\n",
              "6239                                   Java         NaN  ...         NaN         NaN\n",
              "6240                                    NaN         NaN  ...         NaN         NaN\n",
              "6241                                   Java         NaN  ...         NaN         NaN\n",
              "6242                                    NaN         NaN  ...         NaN         NaN\n",
              "6243                                    NaN         NaN  ...         NaN         NaN\n",
              "\n",
              "[6244 rows x 14 columns]"
            ]
          },
          "metadata": {
            "tags": []
          },
          "execution_count": 43
        }
      ]
    },
    {
      "cell_type": "code",
      "metadata": {
        "id": "vcDcOvUBZBDR",
        "colab_type": "code",
        "colab": {
          "base_uri": "https://localhost:8080/",
          "height": 770
        },
        "outputId": "66fe2c33-b505-40b5-f66d-3dde7fc6a8c0"
      },
      "source": [
        "columns = list(df_12.columns.values)[22:36]\n",
        "index = []\n",
        "values = []\n",
        "for column in columns:\n",
        "    print((df_lang_12[column].value_counts()/df_12.shape[0])*100)\n",
        "    print(\"-\"*40)\n",
        "    index.append(df_lang_12[column].value_counts().index.to_list()[0])\n",
        "    values.append(((df_lang_12[column].value_counts()/df_12.shape[0])*100).to_list()[0])\n",
        "print(index)\n",
        "print(values)"
      ],
      "execution_count": null,
      "outputs": [
        {
          "output_type": "stream",
          "text": [
            "Java    37.620115\n",
            "Name: Which languages are you proficient in?, dtype: float64\n",
            "----------------------------------------\n",
            "JavaScript    50.096092\n",
            "Name: Unnamed: 23, dtype: float64\n",
            "----------------------------------------\n",
            "CSS    45.243434\n",
            "Name: Unnamed: 24, dtype: float64\n",
            "----------------------------------------\n",
            "PHP    30.845612\n",
            "Name: Unnamed: 25, dtype: float64\n",
            "----------------------------------------\n",
            "Python    19.394619\n",
            "Name: Unnamed: 26, dtype: float64\n",
            "----------------------------------------\n",
            "Objective-C    9.705317\n",
            "Name: Unnamed: 27, dtype: float64\n",
            "----------------------------------------\n",
            "Ruby    9.256887\n",
            "Name: Unnamed: 28, dtype: float64\n",
            "----------------------------------------\n",
            "SQL    52.77066\n",
            "Name: Unnamed: 29, dtype: float64\n",
            "----------------------------------------\n",
            "C#    39.54196\n",
            "Name: Unnamed: 30, dtype: float64\n",
            "----------------------------------------\n",
            "C++    24.455477\n",
            "Name: Unnamed: 31, dtype: float64\n",
            "----------------------------------------\n",
            "C    23.782832\n",
            "Name: Unnamed: 32, dtype: float64\n",
            "----------------------------------------\n",
            "Perl    7.399103\n",
            "Name: Unnamed: 33, dtype: float64\n",
            "----------------------------------------\n",
            "HTML5    34.513133\n",
            "Name: Unnamed: 34, dtype: float64\n",
            "----------------------------------------\n",
            "None    0.096092\n",
            "Name: Unnamed: 35, dtype: float64\n",
            "----------------------------------------\n",
            "['Java', 'JavaScript', 'CSS', 'PHP', 'Python', 'Objective-C', 'Ruby', 'SQL', 'C#', 'C++', 'C', 'Perl', 'HTML5', 'None']\n",
            "[37.620115310698274, 50.09609224855862, 45.2434336963485, 30.845611787315825, 19.394618834080717, 9.705317104420244, 9.256886611146701, 52.77065983344011, 39.541960281870594, 24.45547725816784, 23.782831518257527, 7.399103139013453, 34.51313260730301, 0.09609224855861628]\n"
          ],
          "name": "stdout"
        }
      ]
    },
    {
      "cell_type": "code",
      "metadata": {
        "id": "1ZY_icJG6bcH",
        "colab_type": "code",
        "colab": {
          "base_uri": "https://localhost:8080/",
          "height": 282
        },
        "outputId": "59f41704-9820-426d-a5c1-5c87acf7a92e"
      },
      "source": [
        "sns.barplot(x=index,y=values)"
      ],
      "execution_count": null,
      "outputs": [
        {
          "output_type": "execute_result",
          "data": {
            "text/plain": [
              "<matplotlib.axes._subplots.AxesSubplot at 0x7f7a5ecee1d0>"
            ]
          },
          "metadata": {
            "tags": []
          },
          "execution_count": 45
        },
        {
          "output_type": "display_data",
          "data": {
            "image/png": "[encoded data removed]",
            "text/plain": [
              "<Figure size 432x288 with 1 Axes>"
            ]
          },
          "metadata": {
            "tags": [],
            "needs_background": "light"
          }
        }
      ]
    },
    {
      "cell_type": "code",
      "metadata": {
        "id": "MIowR7TtZDJb",
        "colab_type": "code",
        "colab": {
          "base_uri": "https://localhost:8080/",
          "height": 296
        },
        "outputId": "bf50d49c-99b1-4973-ad08-8111ddcae665"
      },
      "source": [
        "df_12['What type of project are you developing?'].value_counts()\n",
        "sns.countplot(x = \"What type of project are you developing?\",data = df_12)"
      ],
      "execution_count": null,
      "outputs": [
        {
          "output_type": "execute_result",
          "data": {
            "text/plain": [
              "<matplotlib.axes._subplots.AxesSubplot at 0x7f7a5ec0e0b8>"
            ]
          },
          "metadata": {
            "tags": []
          },
          "execution_count": 46
        },
        {
          "output_type": "display_data",
          "data": {
            "image/png": "[encoded data removed]",
            "text/plain": [
              "<Figure size 432x288 with 1 Axes>"
            ]
          },
          "metadata": {
            "tags": [],
            "needs_background": "light"
          }
        }
      ]
    },
    {
      "cell_type": "code",
      "metadata": {
        "id": "Q9ZJzXa65UrF",
        "colab_type": "code",
        "colab": {}
      },
      "source": [
        ""
      ],
      "execution_count": null,
      "outputs": []
    },
    {
      "cell_type": "code",
      "metadata": {
        "id": "tGYnxIncmVv3",
        "colab_type": "code",
        "colab": {
          "base_uri": "https://localhost:8080/",
          "height": 1000
        },
        "outputId": "6fbc3bf3-04cd-4088-e402-475089028844"
      },
      "source": [
        "df_18 = pd.read_csv(\"/content/drive/My Drive/2018 Stack Overflow Survey Results.csv\")\n",
        "df_18.head(10)"
      ],
      "execution_count": null,
      "outputs": [
        {
          "output_type": "stream",
          "text": [
            "/usr/local/lib/python3.6/dist-packages/IPython/core/interactiveshell.py:2718: DtypeWarning:\n",
            "\n",
            "Columns (8,12,13,14,15,16,50,51,52,53,55,56,57,58,59,60,61,62,63,64,65,66,67,68,69,70,71,72,73,74,75,76,77,78,79,80,81,82,83,84,85,93,94,95,96,97,98,99,100,101,102,103,104,105,106,107,108,109,110,111,112,113,114,115,116,117,118,119,120,121,122,123,124,125,126,127,128) have mixed types.Specify dtype option on import or set low_memory=False.\n",
            "\n"
          ],
          "name": "stderr"
        },
        {
          "output_type": "execute_result",
          "data": {
            "text/html": [
              "<div>\n",
              "<style scoped>\n",
              "    .dataframe tbody tr th:only-of-type {\n",
              "        vertical-align: middle;\n",
              "    }\n",
              "\n",
              "    .dataframe tbody tr th {\n",
              "        vertical-align: top;\n",
              "    }\n",
              "\n",
              "    .dataframe thead th {\n",
              "        text-align: right;\n",
              "    }\n",
              "</style>\n",
              "<table border=\"1\" class=\"dataframe\">\n",
              "  <thead>\n",
              "    <tr style=\"text-align: right;\">\n",
              "      <th></th>\n",
              "      <th>Respondent</th>\n",
              "      <th>Hobby</th>\n",
              "      <th>OpenSource</th>\n",
              "      <th>Country</th>\n",
              "      <th>Student</th>\n",
              "      <th>Employment</th>\n",
              "      <th>FormalEducation</th>\n",
              "      <th>UndergradMajor</th>\n",
              "      <th>CompanySize</th>\n",
              "      <th>DevType</th>\n",
              "      <th>YearsCoding</th>\n",
              "      <th>YearsCodingProf</th>\n",
              "      <th>JobSatisfaction</th>\n",
              "      <th>CareerSatisfaction</th>\n",
              "      <th>HopeFiveYears</th>\n",
              "      <th>JobSearchStatus</th>\n",
              "      <th>LastNewJob</th>\n",
              "      <th>AssessJob1</th>\n",
              "      <th>AssessJob2</th>\n",
              "      <th>AssessJob3</th>\n",
              "      <th>AssessJob4</th>\n",
              "      <th>AssessJob5</th>\n",
              "      <th>AssessJob6</th>\n",
              "      <th>AssessJob7</th>\n",
              "      <th>AssessJob8</th>\n",
              "      <th>AssessJob9</th>\n",
              "      <th>AssessJob10</th>\n",
              "      <th>AssessBenefits1</th>\n",
              "      <th>AssessBenefits2</th>\n",
              "      <th>AssessBenefits3</th>\n",
              "      <th>AssessBenefits4</th>\n",
              "      <th>AssessBenefits5</th>\n",
              "      <th>AssessBenefits6</th>\n",
              "      <th>AssessBenefits7</th>\n",
              "      <th>AssessBenefits8</th>\n",
              "      <th>AssessBenefits9</th>\n",
              "      <th>AssessBenefits10</th>\n",
              "      <th>AssessBenefits11</th>\n",
              "      <th>JobContactPriorities1</th>\n",
              "      <th>JobContactPriorities2</th>\n",
              "      <th>...</th>\n",
              "      <th>AdsPriorities4</th>\n",
              "      <th>AdsPriorities5</th>\n",
              "      <th>AdsPriorities6</th>\n",
              "      <th>AdsPriorities7</th>\n",
              "      <th>AIDangerous</th>\n",
              "      <th>AIInteresting</th>\n",
              "      <th>AIResponsible</th>\n",
              "      <th>AIFuture</th>\n",
              "      <th>EthicsChoice</th>\n",
              "      <th>EthicsReport</th>\n",
              "      <th>EthicsResponsible</th>\n",
              "      <th>EthicalImplications</th>\n",
              "      <th>StackOverflowRecommend</th>\n",
              "      <th>StackOverflowVisit</th>\n",
              "      <th>StackOverflowHasAccount</th>\n",
              "      <th>StackOverflowParticipate</th>\n",
              "      <th>StackOverflowJobs</th>\n",
              "      <th>StackOverflowDevStory</th>\n",
              "      <th>StackOverflowJobsRecommend</th>\n",
              "      <th>StackOverflowConsiderMember</th>\n",
              "      <th>HypotheticalTools1</th>\n",
              "      <th>HypotheticalTools2</th>\n",
              "      <th>HypotheticalTools3</th>\n",
              "      <th>HypotheticalTools4</th>\n",
              "      <th>HypotheticalTools5</th>\n",
              "      <th>WakeTime</th>\n",
              "      <th>HoursComputer</th>\n",
              "      <th>HoursOutside</th>\n",
              "      <th>SkipMeals</th>\n",
              "      <th>ErgonomicDevices</th>\n",
              "      <th>Exercise</th>\n",
              "      <th>Gender</th>\n",
              "      <th>SexualOrientation</th>\n",
              "      <th>EducationParents</th>\n",
              "      <th>RaceEthnicity</th>\n",
              "      <th>Age</th>\n",
              "      <th>Dependents</th>\n",
              "      <th>MilitaryUS</th>\n",
              "      <th>SurveyTooLong</th>\n",
              "      <th>SurveyEasy</th>\n",
              "    </tr>\n",
              "  </thead>\n",
              "  <tbody>\n",
              "    <tr>\n",
              "      <th>0</th>\n",
              "      <td>1</td>\n",
              "      <td>Yes</td>\n",
              "      <td>No</td>\n",
              "      <td>Kenya</td>\n",
              "      <td>No</td>\n",
              "      <td>Employed part-time</td>\n",
              "      <td>Bachelor’s degree (BA, BS, B.Eng., etc.)</td>\n",
              "      <td>Mathematics or statistics</td>\n",
              "      <td>20 to 99 employees</td>\n",
              "      <td>Full-stack developer</td>\n",
              "      <td>3-5 years</td>\n",
              "      <td>3-5 years</td>\n",
              "      <td>Extremely satisfied</td>\n",
              "      <td>Extremely satisfied</td>\n",
              "      <td>Working as a founder or co-founder of my own c...</td>\n",
              "      <td>I’m not actively looking, but I am open to new...</td>\n",
              "      <td>Less than a year ago</td>\n",
              "      <td>10.0</td>\n",
              "      <td>7.0</td>\n",
              "      <td>8.0</td>\n",
              "      <td>1.0</td>\n",
              "      <td>2.0</td>\n",
              "      <td>5.0</td>\n",
              "      <td>3.0</td>\n",
              "      <td>4.0</td>\n",
              "      <td>9.0</td>\n",
              "      <td>6.0</td>\n",
              "      <td>NaN</td>\n",
              "      <td>NaN</td>\n",
              "      <td>NaN</td>\n",
              "      <td>NaN</td>\n",
              "      <td>NaN</td>\n",
              "      <td>NaN</td>\n",
              "      <td>NaN</td>\n",
              "      <td>NaN</td>\n",
              "      <td>NaN</td>\n",
              "      <td>NaN</td>\n",
              "      <td>NaN</td>\n",
              "      <td>3.0</td>\n",
              "      <td>1.0</td>\n",
              "      <td>...</td>\n",
              "      <td>7.0</td>\n",
              "      <td>2.0</td>\n",
              "      <td>6.0</td>\n",
              "      <td>3.0</td>\n",
              "      <td>Artificial intelligence surpassing human intel...</td>\n",
              "      <td>Algorithms making important decisions</td>\n",
              "      <td>The developers or the people creating the AI</td>\n",
              "      <td>I'm excited about the possibilities more than ...</td>\n",
              "      <td>No</td>\n",
              "      <td>Yes, and publicly</td>\n",
              "      <td>Upper management at the company/organization</td>\n",
              "      <td>Yes</td>\n",
              "      <td>10 (Very Likely)</td>\n",
              "      <td>Multiple times per day</td>\n",
              "      <td>Yes</td>\n",
              "      <td>I have never participated in Q&amp;A on Stack Over...</td>\n",
              "      <td>No, I knew that Stack Overflow had a jobs boar...</td>\n",
              "      <td>Yes</td>\n",
              "      <td>NaN</td>\n",
              "      <td>Yes</td>\n",
              "      <td>Extremely interested</td>\n",
              "      <td>Extremely interested</td>\n",
              "      <td>Extremely interested</td>\n",
              "      <td>Extremely interested</td>\n",
              "      <td>Extremely interested</td>\n",
              "      <td>Between 5:00 - 6:00 AM</td>\n",
              "      <td>9 - 12 hours</td>\n",
              "      <td>1 - 2 hours</td>\n",
              "      <td>Never</td>\n",
              "      <td>Standing desk</td>\n",
              "      <td>3 - 4 times per week</td>\n",
              "      <td>Male</td>\n",
              "      <td>Straight or heterosexual</td>\n",
              "      <td>Bachelor’s degree (BA, BS, B.Eng., etc.)</td>\n",
              "      <td>Black or of African descent</td>\n",
              "      <td>25 - 34 years old</td>\n",
              "      <td>Yes</td>\n",
              "      <td>NaN</td>\n",
              "      <td>The survey was an appropriate length</td>\n",
              "      <td>Very easy</td>\n",
              "    </tr>\n",
              "    <tr>\n",
              "      <th>1</th>\n",
              "      <td>3</td>\n",
              "      <td>Yes</td>\n",
              "      <td>Yes</td>\n",
              "      <td>United Kingdom</td>\n",
              "      <td>No</td>\n",
              "      <td>Employed full-time</td>\n",
              "      <td>Bachelor’s degree (BA, BS, B.Eng., etc.)</td>\n",
              "      <td>A natural science (ex. biology, chemistry, phy...</td>\n",
              "      <td>10,000 or more employees</td>\n",
              "      <td>Database administrator;DevOps specialist;Full-...</td>\n",
              "      <td>30 or more years</td>\n",
              "      <td>18-20 years</td>\n",
              "      <td>Moderately dissatisfied</td>\n",
              "      <td>Neither satisfied nor dissatisfied</td>\n",
              "      <td>Working in a different or more specialized tec...</td>\n",
              "      <td>I am actively looking for a job</td>\n",
              "      <td>More than 4 years ago</td>\n",
              "      <td>1.0</td>\n",
              "      <td>7.0</td>\n",
              "      <td>10.0</td>\n",
              "      <td>8.0</td>\n",
              "      <td>2.0</td>\n",
              "      <td>5.0</td>\n",
              "      <td>4.0</td>\n",
              "      <td>3.0</td>\n",
              "      <td>6.0</td>\n",
              "      <td>9.0</td>\n",
              "      <td>1.0</td>\n",
              "      <td>5.0</td>\n",
              "      <td>3.0</td>\n",
              "      <td>7.0</td>\n",
              "      <td>10.0</td>\n",
              "      <td>4.0</td>\n",
              "      <td>11.0</td>\n",
              "      <td>9.0</td>\n",
              "      <td>6.0</td>\n",
              "      <td>2.0</td>\n",
              "      <td>8.0</td>\n",
              "      <td>3.0</td>\n",
              "      <td>1.0</td>\n",
              "      <td>...</td>\n",
              "      <td>4.0</td>\n",
              "      <td>6.0</td>\n",
              "      <td>7.0</td>\n",
              "      <td>2.0</td>\n",
              "      <td>Increasing automation of jobs</td>\n",
              "      <td>Increasing automation of jobs</td>\n",
              "      <td>The developers or the people creating the AI</td>\n",
              "      <td>I'm excited about the possibilities more than ...</td>\n",
              "      <td>Depends on what it is</td>\n",
              "      <td>Depends on what it is</td>\n",
              "      <td>Upper management at the company/organization</td>\n",
              "      <td>Yes</td>\n",
              "      <td>10 (Very Likely)</td>\n",
              "      <td>A few times per month or weekly</td>\n",
              "      <td>Yes</td>\n",
              "      <td>A few times per month or weekly</td>\n",
              "      <td>Yes</td>\n",
              "      <td>No, I have one but it's out of date</td>\n",
              "      <td>7</td>\n",
              "      <td>Yes</td>\n",
              "      <td>A little bit interested</td>\n",
              "      <td>A little bit interested</td>\n",
              "      <td>A little bit interested</td>\n",
              "      <td>A little bit interested</td>\n",
              "      <td>A little bit interested</td>\n",
              "      <td>Between 6:01 - 7:00 AM</td>\n",
              "      <td>5 - 8 hours</td>\n",
              "      <td>30 - 59 minutes</td>\n",
              "      <td>Never</td>\n",
              "      <td>Ergonomic keyboard or mouse</td>\n",
              "      <td>Daily or almost every day</td>\n",
              "      <td>Male</td>\n",
              "      <td>Straight or heterosexual</td>\n",
              "      <td>Bachelor’s degree (BA, BS, B.Eng., etc.)</td>\n",
              "      <td>White or of European descent</td>\n",
              "      <td>35 - 44 years old</td>\n",
              "      <td>Yes</td>\n",
              "      <td>NaN</td>\n",
              "      <td>The survey was an appropriate length</td>\n",
              "      <td>Somewhat easy</td>\n",
              "    </tr>\n",
              "    <tr>\n",
              "      <th>2</th>\n",
              "      <td>4</td>\n",
              "      <td>Yes</td>\n",
              "      <td>Yes</td>\n",
              "      <td>United States</td>\n",
              "      <td>No</td>\n",
              "      <td>Employed full-time</td>\n",
              "      <td>Associate degree</td>\n",
              "      <td>Computer science, computer engineering, or sof...</td>\n",
              "      <td>20 to 99 employees</td>\n",
              "      <td>Engineering manager;Full-stack developer</td>\n",
              "      <td>24-26 years</td>\n",
              "      <td>6-8 years</td>\n",
              "      <td>Moderately satisfied</td>\n",
              "      <td>Moderately satisfied</td>\n",
              "      <td>Working as a founder or co-founder of my own c...</td>\n",
              "      <td>I’m not actively looking, but I am open to new...</td>\n",
              "      <td>Less than a year ago</td>\n",
              "      <td>NaN</td>\n",
              "      <td>NaN</td>\n",
              "      <td>NaN</td>\n",
              "      <td>NaN</td>\n",
              "      <td>NaN</td>\n",
              "      <td>NaN</td>\n",
              "      <td>NaN</td>\n",
              "      <td>NaN</td>\n",
              "      <td>NaN</td>\n",
              "      <td>NaN</td>\n",
              "      <td>NaN</td>\n",
              "      <td>NaN</td>\n",
              "      <td>NaN</td>\n",
              "      <td>NaN</td>\n",
              "      <td>NaN</td>\n",
              "      <td>NaN</td>\n",
              "      <td>NaN</td>\n",
              "      <td>NaN</td>\n",
              "      <td>NaN</td>\n",
              "      <td>NaN</td>\n",
              "      <td>NaN</td>\n",
              "      <td>NaN</td>\n",
              "      <td>NaN</td>\n",
              "      <td>...</td>\n",
              "      <td>NaN</td>\n",
              "      <td>NaN</td>\n",
              "      <td>NaN</td>\n",
              "      <td>NaN</td>\n",
              "      <td>NaN</td>\n",
              "      <td>NaN</td>\n",
              "      <td>NaN</td>\n",
              "      <td>NaN</td>\n",
              "      <td>NaN</td>\n",
              "      <td>NaN</td>\n",
              "      <td>NaN</td>\n",
              "      <td>NaN</td>\n",
              "      <td>NaN</td>\n",
              "      <td>NaN</td>\n",
              "      <td>NaN</td>\n",
              "      <td>NaN</td>\n",
              "      <td>NaN</td>\n",
              "      <td>NaN</td>\n",
              "      <td>NaN</td>\n",
              "      <td>NaN</td>\n",
              "      <td>NaN</td>\n",
              "      <td>NaN</td>\n",
              "      <td>NaN</td>\n",
              "      <td>NaN</td>\n",
              "      <td>NaN</td>\n",
              "      <td>NaN</td>\n",
              "      <td>NaN</td>\n",
              "      <td>NaN</td>\n",
              "      <td>NaN</td>\n",
              "      <td>NaN</td>\n",
              "      <td>NaN</td>\n",
              "      <td>NaN</td>\n",
              "      <td>NaN</td>\n",
              "      <td>NaN</td>\n",
              "      <td>NaN</td>\n",
              "      <td>NaN</td>\n",
              "      <td>NaN</td>\n",
              "      <td>NaN</td>\n",
              "      <td>NaN</td>\n",
              "      <td>NaN</td>\n",
              "    </tr>\n",
              "    <tr>\n",
              "      <th>3</th>\n",
              "      <td>5</td>\n",
              "      <td>No</td>\n",
              "      <td>No</td>\n",
              "      <td>United States</td>\n",
              "      <td>No</td>\n",
              "      <td>Employed full-time</td>\n",
              "      <td>Bachelor’s degree (BA, BS, B.Eng., etc.)</td>\n",
              "      <td>Computer science, computer engineering, or sof...</td>\n",
              "      <td>100 to 499 employees</td>\n",
              "      <td>Full-stack developer</td>\n",
              "      <td>18-20 years</td>\n",
              "      <td>12-14 years</td>\n",
              "      <td>Neither satisfied nor dissatisfied</td>\n",
              "      <td>Slightly dissatisfied</td>\n",
              "      <td>Working as a founder or co-founder of my own c...</td>\n",
              "      <td>I’m not actively looking, but I am open to new...</td>\n",
              "      <td>Less than a year ago</td>\n",
              "      <td>NaN</td>\n",
              "      <td>NaN</td>\n",
              "      <td>NaN</td>\n",
              "      <td>NaN</td>\n",
              "      <td>NaN</td>\n",
              "      <td>NaN</td>\n",
              "      <td>NaN</td>\n",
              "      <td>NaN</td>\n",
              "      <td>NaN</td>\n",
              "      <td>NaN</td>\n",
              "      <td>NaN</td>\n",
              "      <td>NaN</td>\n",
              "      <td>NaN</td>\n",
              "      <td>NaN</td>\n",
              "      <td>NaN</td>\n",
              "      <td>NaN</td>\n",
              "      <td>NaN</td>\n",
              "      <td>NaN</td>\n",
              "      <td>NaN</td>\n",
              "      <td>NaN</td>\n",
              "      <td>NaN</td>\n",
              "      <td>NaN</td>\n",
              "      <td>NaN</td>\n",
              "      <td>...</td>\n",
              "      <td>NaN</td>\n",
              "      <td>NaN</td>\n",
              "      <td>NaN</td>\n",
              "      <td>NaN</td>\n",
              "      <td>Artificial intelligence surpassing human intel...</td>\n",
              "      <td>Artificial intelligence surpassing human intel...</td>\n",
              "      <td>A governmental or other regulatory body</td>\n",
              "      <td>I don't care about it, or I haven't thought ab...</td>\n",
              "      <td>No</td>\n",
              "      <td>Yes, but only within the company</td>\n",
              "      <td>Upper management at the company/organization</td>\n",
              "      <td>Yes</td>\n",
              "      <td>10 (Very Likely)</td>\n",
              "      <td>A few times per week</td>\n",
              "      <td>Yes</td>\n",
              "      <td>A few times per month or weekly</td>\n",
              "      <td>Yes</td>\n",
              "      <td>No, I have one but it's out of date</td>\n",
              "      <td>8</td>\n",
              "      <td>Yes</td>\n",
              "      <td>Somewhat interested</td>\n",
              "      <td>Somewhat interested</td>\n",
              "      <td>Somewhat interested</td>\n",
              "      <td>Somewhat interested</td>\n",
              "      <td>Somewhat interested</td>\n",
              "      <td>Between 6:01 - 7:00 AM</td>\n",
              "      <td>9 - 12 hours</td>\n",
              "      <td>Less than 30 minutes</td>\n",
              "      <td>3 - 4 times per week</td>\n",
              "      <td>NaN</td>\n",
              "      <td>I don't typically exercise</td>\n",
              "      <td>Male</td>\n",
              "      <td>Straight or heterosexual</td>\n",
              "      <td>Some college/university study without earning ...</td>\n",
              "      <td>White or of European descent</td>\n",
              "      <td>35 - 44 years old</td>\n",
              "      <td>No</td>\n",
              "      <td>No</td>\n",
              "      <td>The survey was an appropriate length</td>\n",
              "      <td>Somewhat easy</td>\n",
              "    </tr>\n",
              "    <tr>\n",
              "      <th>4</th>\n",
              "      <td>7</td>\n",
              "      <td>Yes</td>\n",
              "      <td>No</td>\n",
              "      <td>South Africa</td>\n",
              "      <td>Yes, part-time</td>\n",
              "      <td>Employed full-time</td>\n",
              "      <td>Some college/university study without earning ...</td>\n",
              "      <td>Computer science, computer engineering, or sof...</td>\n",
              "      <td>10,000 or more employees</td>\n",
              "      <td>Data or business analyst;Desktop or enterprise...</td>\n",
              "      <td>6-8 years</td>\n",
              "      <td>0-2 years</td>\n",
              "      <td>Slightly satisfied</td>\n",
              "      <td>Moderately satisfied</td>\n",
              "      <td>Working in a different or more specialized tec...</td>\n",
              "      <td>I’m not actively looking, but I am open to new...</td>\n",
              "      <td>Between 1 and 2 years ago</td>\n",
              "      <td>8.0</td>\n",
              "      <td>5.0</td>\n",
              "      <td>7.0</td>\n",
              "      <td>1.0</td>\n",
              "      <td>2.0</td>\n",
              "      <td>6.0</td>\n",
              "      <td>4.0</td>\n",
              "      <td>3.0</td>\n",
              "      <td>10.0</td>\n",
              "      <td>9.0</td>\n",
              "      <td>1.0</td>\n",
              "      <td>10.0</td>\n",
              "      <td>2.0</td>\n",
              "      <td>4.0</td>\n",
              "      <td>8.0</td>\n",
              "      <td>3.0</td>\n",
              "      <td>11.0</td>\n",
              "      <td>7.0</td>\n",
              "      <td>5.0</td>\n",
              "      <td>9.0</td>\n",
              "      <td>6.0</td>\n",
              "      <td>2.0</td>\n",
              "      <td>1.0</td>\n",
              "      <td>...</td>\n",
              "      <td>6.0</td>\n",
              "      <td>1.0</td>\n",
              "      <td>7.0</td>\n",
              "      <td>5.0</td>\n",
              "      <td>Algorithms making important decisions</td>\n",
              "      <td>Algorithms making important decisions</td>\n",
              "      <td>The developers or the people creating the AI</td>\n",
              "      <td>I'm excited about the possibilities more than ...</td>\n",
              "      <td>No</td>\n",
              "      <td>Yes, but only within the company</td>\n",
              "      <td>Upper management at the company/organization</td>\n",
              "      <td>Yes</td>\n",
              "      <td>10 (Very Likely)</td>\n",
              "      <td>Daily or almost daily</td>\n",
              "      <td>Yes</td>\n",
              "      <td>Less than once per month or monthly</td>\n",
              "      <td>No, I knew that Stack Overflow had a jobs boar...</td>\n",
              "      <td>No, I know what it is but I don't have one</td>\n",
              "      <td>NaN</td>\n",
              "      <td>Yes</td>\n",
              "      <td>Extremely interested</td>\n",
              "      <td>Extremely interested</td>\n",
              "      <td>Extremely interested</td>\n",
              "      <td>Extremely interested</td>\n",
              "      <td>Extremely interested</td>\n",
              "      <td>Before 5:00 AM</td>\n",
              "      <td>Over 12 hours</td>\n",
              "      <td>1 - 2 hours</td>\n",
              "      <td>Never</td>\n",
              "      <td>NaN</td>\n",
              "      <td>3 - 4 times per week</td>\n",
              "      <td>Male</td>\n",
              "      <td>Straight or heterosexual</td>\n",
              "      <td>Some college/university study without earning ...</td>\n",
              "      <td>White or of European descent</td>\n",
              "      <td>18 - 24 years old</td>\n",
              "      <td>Yes</td>\n",
              "      <td>NaN</td>\n",
              "      <td>The survey was an appropriate length</td>\n",
              "      <td>Somewhat easy</td>\n",
              "    </tr>\n",
              "    <tr>\n",
              "      <th>5</th>\n",
              "      <td>8</td>\n",
              "      <td>Yes</td>\n",
              "      <td>No</td>\n",
              "      <td>United Kingdom</td>\n",
              "      <td>No</td>\n",
              "      <td>Employed full-time</td>\n",
              "      <td>Bachelor’s degree (BA, BS, B.Eng., etc.)</td>\n",
              "      <td>Computer science, computer engineering, or sof...</td>\n",
              "      <td>10 to 19 employees</td>\n",
              "      <td>Back-end developer;Database administrator;Fron...</td>\n",
              "      <td>6-8 years</td>\n",
              "      <td>3-5 years</td>\n",
              "      <td>Moderately satisfied</td>\n",
              "      <td>Slightly satisfied</td>\n",
              "      <td>Working in a different or more specialized tec...</td>\n",
              "      <td>I am actively looking for a job</td>\n",
              "      <td>Between 2 and 4 years ago</td>\n",
              "      <td>8.0</td>\n",
              "      <td>5.0</td>\n",
              "      <td>4.0</td>\n",
              "      <td>9.0</td>\n",
              "      <td>1.0</td>\n",
              "      <td>3.0</td>\n",
              "      <td>6.0</td>\n",
              "      <td>2.0</td>\n",
              "      <td>10.0</td>\n",
              "      <td>7.0</td>\n",
              "      <td>1.0</td>\n",
              "      <td>3.0</td>\n",
              "      <td>4.0</td>\n",
              "      <td>10.0</td>\n",
              "      <td>9.0</td>\n",
              "      <td>2.0</td>\n",
              "      <td>6.0</td>\n",
              "      <td>5.0</td>\n",
              "      <td>11.0</td>\n",
              "      <td>7.0</td>\n",
              "      <td>8.0</td>\n",
              "      <td>4.0</td>\n",
              "      <td>2.0</td>\n",
              "      <td>...</td>\n",
              "      <td>2.0</td>\n",
              "      <td>7.0</td>\n",
              "      <td>5.0</td>\n",
              "      <td>6.0</td>\n",
              "      <td>Increasing automation of jobs</td>\n",
              "      <td>Algorithms making important decisions</td>\n",
              "      <td>A governmental or other regulatory body</td>\n",
              "      <td>I'm excited about the possibilities more than ...</td>\n",
              "      <td>Depends on what it is</td>\n",
              "      <td>Depends on what it is</td>\n",
              "      <td>Upper management at the company/organization</td>\n",
              "      <td>Unsure / I don't know</td>\n",
              "      <td>7</td>\n",
              "      <td>A few times per month or weekly</td>\n",
              "      <td>Yes</td>\n",
              "      <td>Less than once per month or monthly</td>\n",
              "      <td>Yes</td>\n",
              "      <td>No, I have one but it's out of date</td>\n",
              "      <td>8</td>\n",
              "      <td>No</td>\n",
              "      <td>A little bit interested</td>\n",
              "      <td>Not at all interested</td>\n",
              "      <td>Very interested</td>\n",
              "      <td>Very interested</td>\n",
              "      <td>Extremely interested</td>\n",
              "      <td>Between 7:01 - 8:00 AM</td>\n",
              "      <td>9 - 12 hours</td>\n",
              "      <td>30 - 59 minutes</td>\n",
              "      <td>1 - 2 times per week</td>\n",
              "      <td>NaN</td>\n",
              "      <td>1 - 2 times per week</td>\n",
              "      <td>Male</td>\n",
              "      <td>Straight or heterosexual</td>\n",
              "      <td>Secondary school (e.g. American high school, G...</td>\n",
              "      <td>White or of European descent</td>\n",
              "      <td>18 - 24 years old</td>\n",
              "      <td>No</td>\n",
              "      <td>NaN</td>\n",
              "      <td>The survey was an appropriate length</td>\n",
              "      <td>Somewhat easy</td>\n",
              "    </tr>\n",
              "    <tr>\n",
              "      <th>6</th>\n",
              "      <td>9</td>\n",
              "      <td>Yes</td>\n",
              "      <td>Yes</td>\n",
              "      <td>United States</td>\n",
              "      <td>No</td>\n",
              "      <td>Employed full-time</td>\n",
              "      <td>Some college/university study without earning ...</td>\n",
              "      <td>Computer science, computer engineering, or sof...</td>\n",
              "      <td>10,000 or more employees</td>\n",
              "      <td>Back-end developer;Front-end developer;Full-st...</td>\n",
              "      <td>9-11 years</td>\n",
              "      <td>0-2 years</td>\n",
              "      <td>Slightly satisfied</td>\n",
              "      <td>Moderately satisfied</td>\n",
              "      <td>Working as a founder or co-founder of my own c...</td>\n",
              "      <td>I’m not actively looking, but I am open to new...</td>\n",
              "      <td>Less than a year ago</td>\n",
              "      <td>5.0</td>\n",
              "      <td>3.0</td>\n",
              "      <td>9.0</td>\n",
              "      <td>4.0</td>\n",
              "      <td>1.0</td>\n",
              "      <td>8.0</td>\n",
              "      <td>2.0</td>\n",
              "      <td>7.0</td>\n",
              "      <td>10.0</td>\n",
              "      <td>6.0</td>\n",
              "      <td>1.0</td>\n",
              "      <td>3.0</td>\n",
              "      <td>2.0</td>\n",
              "      <td>9.0</td>\n",
              "      <td>11.0</td>\n",
              "      <td>4.0</td>\n",
              "      <td>8.0</td>\n",
              "      <td>6.0</td>\n",
              "      <td>7.0</td>\n",
              "      <td>10.0</td>\n",
              "      <td>5.0</td>\n",
              "      <td>3.0</td>\n",
              "      <td>1.0</td>\n",
              "      <td>...</td>\n",
              "      <td>5.0</td>\n",
              "      <td>3.0</td>\n",
              "      <td>7.0</td>\n",
              "      <td>6.0</td>\n",
              "      <td>Algorithms making important decisions</td>\n",
              "      <td>Artificial intelligence surpassing human intel...</td>\n",
              "      <td>The developers or the people creating the AI</td>\n",
              "      <td>I'm excited about the possibilities more than ...</td>\n",
              "      <td>Depends on what it is</td>\n",
              "      <td>Yes, but only within the company</td>\n",
              "      <td>Upper management at the company/organization</td>\n",
              "      <td>Yes</td>\n",
              "      <td>10 (Very Likely)</td>\n",
              "      <td>Multiple times per day</td>\n",
              "      <td>Yes</td>\n",
              "      <td>I have never participated in Q&amp;A on Stack Over...</td>\n",
              "      <td>Yes</td>\n",
              "      <td>No, I have one but it's out of date</td>\n",
              "      <td>7</td>\n",
              "      <td>No</td>\n",
              "      <td>Very interested</td>\n",
              "      <td>A little bit interested</td>\n",
              "      <td>Extremely interested</td>\n",
              "      <td>Very interested</td>\n",
              "      <td>Very interested</td>\n",
              "      <td>Between 9:01 - 10:00 AM</td>\n",
              "      <td>Over 12 hours</td>\n",
              "      <td>Less than 30 minutes</td>\n",
              "      <td>1 - 2 times per week</td>\n",
              "      <td>NaN</td>\n",
              "      <td>I don't typically exercise</td>\n",
              "      <td>Male</td>\n",
              "      <td>Straight or heterosexual</td>\n",
              "      <td>Master’s degree (MA, MS, M.Eng., MBA, etc.)</td>\n",
              "      <td>White or of European descent</td>\n",
              "      <td>18 - 24 years old</td>\n",
              "      <td>No</td>\n",
              "      <td>No</td>\n",
              "      <td>The survey was an appropriate length</td>\n",
              "      <td>Somewhat easy</td>\n",
              "    </tr>\n",
              "    <tr>\n",
              "      <th>7</th>\n",
              "      <td>10</td>\n",
              "      <td>Yes</td>\n",
              "      <td>Yes</td>\n",
              "      <td>Nigeria</td>\n",
              "      <td>No</td>\n",
              "      <td>Employed full-time</td>\n",
              "      <td>Bachelor’s degree (BA, BS, B.Eng., etc.)</td>\n",
              "      <td>Computer science, computer engineering, or sof...</td>\n",
              "      <td>10 to 19 employees</td>\n",
              "      <td>Designer;Front-end developer;QA or test developer</td>\n",
              "      <td>0-2 years</td>\n",
              "      <td>3-5 years</td>\n",
              "      <td>Slightly satisfied</td>\n",
              "      <td>Moderately satisfied</td>\n",
              "      <td>Working as a founder or co-founder of my own c...</td>\n",
              "      <td>I’m not actively looking, but I am open to new...</td>\n",
              "      <td>Less than a year ago</td>\n",
              "      <td>6.0</td>\n",
              "      <td>5.0</td>\n",
              "      <td>4.0</td>\n",
              "      <td>2.0</td>\n",
              "      <td>7.0</td>\n",
              "      <td>8.0</td>\n",
              "      <td>10.0</td>\n",
              "      <td>1.0</td>\n",
              "      <td>9.0</td>\n",
              "      <td>3.0</td>\n",
              "      <td>1.0</td>\n",
              "      <td>3.0</td>\n",
              "      <td>5.0</td>\n",
              "      <td>7.0</td>\n",
              "      <td>6.0</td>\n",
              "      <td>2.0</td>\n",
              "      <td>11.0</td>\n",
              "      <td>9.0</td>\n",
              "      <td>4.0</td>\n",
              "      <td>10.0</td>\n",
              "      <td>8.0</td>\n",
              "      <td>1.0</td>\n",
              "      <td>3.0</td>\n",
              "      <td>...</td>\n",
              "      <td>NaN</td>\n",
              "      <td>NaN</td>\n",
              "      <td>NaN</td>\n",
              "      <td>NaN</td>\n",
              "      <td>Artificial intelligence surpassing human intel...</td>\n",
              "      <td>Evolving definitions of \"fairness\" in algorith...</td>\n",
              "      <td>NaN</td>\n",
              "      <td>I'm excited about the possibilities more than ...</td>\n",
              "      <td>Depends on what it is</td>\n",
              "      <td>Yes, but only within the company</td>\n",
              "      <td>The developer who wrote it</td>\n",
              "      <td>Yes</td>\n",
              "      <td>10 (Very Likely)</td>\n",
              "      <td>Daily or almost daily</td>\n",
              "      <td>Yes</td>\n",
              "      <td>A few times per month or weekly</td>\n",
              "      <td>No, I knew that Stack Overflow had a jobs boar...</td>\n",
              "      <td>No, and I don't know what that is</td>\n",
              "      <td>NaN</td>\n",
              "      <td>Yes</td>\n",
              "      <td>Very interested</td>\n",
              "      <td>Very interested</td>\n",
              "      <td>Very interested</td>\n",
              "      <td>A little bit interested</td>\n",
              "      <td>Extremely interested</td>\n",
              "      <td>I do not have a set schedule</td>\n",
              "      <td>Over 12 hours</td>\n",
              "      <td>1 - 2 hours</td>\n",
              "      <td>Daily or almost every day</td>\n",
              "      <td>NaN</td>\n",
              "      <td>1 - 2 times per week</td>\n",
              "      <td>Female</td>\n",
              "      <td>NaN</td>\n",
              "      <td>Primary/elementary school</td>\n",
              "      <td>Black or of African descent</td>\n",
              "      <td>25 - 34 years old</td>\n",
              "      <td>No</td>\n",
              "      <td>NaN</td>\n",
              "      <td>The survey was too long</td>\n",
              "      <td>Somewhat difficult</td>\n",
              "    </tr>\n",
              "    <tr>\n",
              "      <th>8</th>\n",
              "      <td>11</td>\n",
              "      <td>Yes</td>\n",
              "      <td>Yes</td>\n",
              "      <td>United States</td>\n",
              "      <td>No</td>\n",
              "      <td>Employed full-time</td>\n",
              "      <td>Some college/university study without earning ...</td>\n",
              "      <td>Fine arts or performing arts (ex. graphic desi...</td>\n",
              "      <td>100 to 499 employees</td>\n",
              "      <td>Back-end developer;C-suite executive (CEO, CTO...</td>\n",
              "      <td>30 or more years</td>\n",
              "      <td>21-23 years</td>\n",
              "      <td>Moderately satisfied</td>\n",
              "      <td>Moderately satisfied</td>\n",
              "      <td>Doing the same work</td>\n",
              "      <td>I’m not actively looking, but I am open to new...</td>\n",
              "      <td>Between 2 and 4 years ago</td>\n",
              "      <td>6.0</td>\n",
              "      <td>3.0</td>\n",
              "      <td>7.0</td>\n",
              "      <td>4.0</td>\n",
              "      <td>1.0</td>\n",
              "      <td>5.0</td>\n",
              "      <td>10.0</td>\n",
              "      <td>8.0</td>\n",
              "      <td>9.0</td>\n",
              "      <td>2.0</td>\n",
              "      <td>1.0</td>\n",
              "      <td>3.0</td>\n",
              "      <td>2.0</td>\n",
              "      <td>9.0</td>\n",
              "      <td>11.0</td>\n",
              "      <td>5.0</td>\n",
              "      <td>8.0</td>\n",
              "      <td>4.0</td>\n",
              "      <td>10.0</td>\n",
              "      <td>7.0</td>\n",
              "      <td>6.0</td>\n",
              "      <td>5.0</td>\n",
              "      <td>1.0</td>\n",
              "      <td>...</td>\n",
              "      <td>4.0</td>\n",
              "      <td>2.0</td>\n",
              "      <td>7.0</td>\n",
              "      <td>6.0</td>\n",
              "      <td>Algorithms making important decisions</td>\n",
              "      <td>Artificial intelligence surpassing human intel...</td>\n",
              "      <td>The developers or the people creating the AI</td>\n",
              "      <td>I'm worried about the dangers more than I'm ex...</td>\n",
              "      <td>No</td>\n",
              "      <td>Yes, and publicly</td>\n",
              "      <td>The person who came up with the idea</td>\n",
              "      <td>Yes</td>\n",
              "      <td>7</td>\n",
              "      <td>A few times per month or weekly</td>\n",
              "      <td>Yes</td>\n",
              "      <td>Less than once per month or monthly</td>\n",
              "      <td>Yes</td>\n",
              "      <td>Yes</td>\n",
              "      <td>7</td>\n",
              "      <td>No</td>\n",
              "      <td>Not at all interested</td>\n",
              "      <td>Not at all interested</td>\n",
              "      <td>Not at all interested</td>\n",
              "      <td>Not at all interested</td>\n",
              "      <td>Not at all interested</td>\n",
              "      <td>Between 8:01 - 9:00 AM</td>\n",
              "      <td>9 - 12 hours</td>\n",
              "      <td>Less than 30 minutes</td>\n",
              "      <td>1 - 2 times per week</td>\n",
              "      <td>Standing desk;Fatigue-relieving floor mat</td>\n",
              "      <td>I don't typically exercise</td>\n",
              "      <td>Male</td>\n",
              "      <td>Straight or heterosexual</td>\n",
              "      <td>Some college/university study without earning ...</td>\n",
              "      <td>White or of European descent</td>\n",
              "      <td>35 - 44 years old</td>\n",
              "      <td>Yes</td>\n",
              "      <td>No</td>\n",
              "      <td>The survey was an appropriate length</td>\n",
              "      <td>Very easy</td>\n",
              "    </tr>\n",
              "    <tr>\n",
              "      <th>9</th>\n",
              "      <td>16</td>\n",
              "      <td>No</td>\n",
              "      <td>Yes</td>\n",
              "      <td>India</td>\n",
              "      <td>No</td>\n",
              "      <td>Employed full-time</td>\n",
              "      <td>Bachelor’s degree (BA, BS, B.Eng., etc.)</td>\n",
              "      <td>Computer science, computer engineering, or sof...</td>\n",
              "      <td>500 to 999 employees</td>\n",
              "      <td>Designer</td>\n",
              "      <td>0-2 years</td>\n",
              "      <td>NaN</td>\n",
              "      <td>NaN</td>\n",
              "      <td>NaN</td>\n",
              "      <td>NaN</td>\n",
              "      <td>NaN</td>\n",
              "      <td>NaN</td>\n",
              "      <td>NaN</td>\n",
              "      <td>NaN</td>\n",
              "      <td>NaN</td>\n",
              "      <td>NaN</td>\n",
              "      <td>NaN</td>\n",
              "      <td>NaN</td>\n",
              "      <td>NaN</td>\n",
              "      <td>NaN</td>\n",
              "      <td>NaN</td>\n",
              "      <td>NaN</td>\n",
              "      <td>NaN</td>\n",
              "      <td>NaN</td>\n",
              "      <td>NaN</td>\n",
              "      <td>NaN</td>\n",
              "      <td>NaN</td>\n",
              "      <td>NaN</td>\n",
              "      <td>NaN</td>\n",
              "      <td>NaN</td>\n",
              "      <td>NaN</td>\n",
              "      <td>NaN</td>\n",
              "      <td>NaN</td>\n",
              "      <td>NaN</td>\n",
              "      <td>NaN</td>\n",
              "      <td>...</td>\n",
              "      <td>NaN</td>\n",
              "      <td>NaN</td>\n",
              "      <td>NaN</td>\n",
              "      <td>NaN</td>\n",
              "      <td>NaN</td>\n",
              "      <td>NaN</td>\n",
              "      <td>NaN</td>\n",
              "      <td>NaN</td>\n",
              "      <td>NaN</td>\n",
              "      <td>NaN</td>\n",
              "      <td>NaN</td>\n",
              "      <td>NaN</td>\n",
              "      <td>NaN</td>\n",
              "      <td>NaN</td>\n",
              "      <td>NaN</td>\n",
              "      <td>NaN</td>\n",
              "      <td>NaN</td>\n",
              "      <td>NaN</td>\n",
              "      <td>NaN</td>\n",
              "      <td>NaN</td>\n",
              "      <td>NaN</td>\n",
              "      <td>NaN</td>\n",
              "      <td>NaN</td>\n",
              "      <td>NaN</td>\n",
              "      <td>NaN</td>\n",
              "      <td>NaN</td>\n",
              "      <td>NaN</td>\n",
              "      <td>NaN</td>\n",
              "      <td>NaN</td>\n",
              "      <td>NaN</td>\n",
              "      <td>NaN</td>\n",
              "      <td>NaN</td>\n",
              "      <td>NaN</td>\n",
              "      <td>NaN</td>\n",
              "      <td>NaN</td>\n",
              "      <td>NaN</td>\n",
              "      <td>NaN</td>\n",
              "      <td>NaN</td>\n",
              "      <td>NaN</td>\n",
              "      <td>NaN</td>\n",
              "    </tr>\n",
              "  </tbody>\n",
              "</table>\n",
              "<p>10 rows × 129 columns</p>\n",
              "</div>"
            ],
            "text/plain": [
              "   Respondent Hobby  ...                         SurveyTooLong          SurveyEasy\n",
              "0           1   Yes  ...  The survey was an appropriate length           Very easy\n",
              "1           3   Yes  ...  The survey was an appropriate length       Somewhat easy\n",
              "2           4   Yes  ...                                   NaN                 NaN\n",
              "3           5    No  ...  The survey was an appropriate length       Somewhat easy\n",
              "4           7   Yes  ...  The survey was an appropriate length       Somewhat easy\n",
              "5           8   Yes  ...  The survey was an appropriate length       Somewhat easy\n",
              "6           9   Yes  ...  The survey was an appropriate length       Somewhat easy\n",
              "7          10   Yes  ...               The survey was too long  Somewhat difficult\n",
              "8          11   Yes  ...  The survey was an appropriate length           Very easy\n",
              "9          16    No  ...                                   NaN                 NaN\n",
              "\n",
              "[10 rows x 129 columns]"
            ]
          },
          "metadata": {
            "tags": []
          },
          "execution_count": 47
        }
      ]
    },
    {
      "cell_type": "code",
      "metadata": {
        "id": "Oqf-Nk_4m07G",
        "colab_type": "code",
        "colab": {
          "base_uri": "https://localhost:8080/",
          "height": 750
        },
        "outputId": "8da569b2-bb76-434b-8a86-8a96f4bc9ec3"
      },
      "source": [
        "columns = df_18.columns.values\n",
        "columns"
      ],
      "execution_count": null,
      "outputs": [
        {
          "output_type": "execute_result",
          "data": {
            "text/plain": [
              "array(['Respondent', 'Hobby', 'OpenSource', 'Country', 'Student',\n",
              "       'Employment', 'FormalEducation', 'UndergradMajor', 'CompanySize',\n",
              "       'DevType', 'YearsCoding', 'YearsCodingProf', 'JobSatisfaction',\n",
              "       'CareerSatisfaction', 'HopeFiveYears', 'JobSearchStatus',\n",
              "       'LastNewJob', 'AssessJob1', 'AssessJob2', 'AssessJob3',\n",
              "       'AssessJob4', 'AssessJob5', 'AssessJob6', 'AssessJob7',\n",
              "       'AssessJob8', 'AssessJob9', 'AssessJob10', 'AssessBenefits1',\n",
              "       'AssessBenefits2', 'AssessBenefits3', 'AssessBenefits4',\n",
              "       'AssessBenefits5', 'AssessBenefits6', 'AssessBenefits7',\n",
              "       'AssessBenefits8', 'AssessBenefits9', 'AssessBenefits10',\n",
              "       'AssessBenefits11', 'JobContactPriorities1',\n",
              "       'JobContactPriorities2', 'JobContactPriorities3',\n",
              "       'JobContactPriorities4', 'JobContactPriorities5',\n",
              "       'JobEmailPriorities1', 'JobEmailPriorities2',\n",
              "       'JobEmailPriorities3', 'JobEmailPriorities4',\n",
              "       'JobEmailPriorities5', 'JobEmailPriorities6',\n",
              "       'JobEmailPriorities7', 'UpdateCV', 'Currency', 'Salary',\n",
              "       'SalaryType', 'ConvertedSalary', 'CurrencySymbol',\n",
              "       'CommunicationTools', 'TimeFullyProductive', 'EducationTypes',\n",
              "       'SelfTaughtTypes', 'TimeAfterBootcamp', 'HackathonReasons',\n",
              "       'AgreeDisagree1', 'AgreeDisagree2', 'AgreeDisagree3',\n",
              "       'LanguageWorkedWith', 'LanguageDesireNextYear',\n",
              "       'DatabaseWorkedWith', 'DatabaseDesireNextYear',\n",
              "       'PlatformWorkedWith', 'PlatformDesireNextYear',\n",
              "       'FrameworkWorkedWith', 'FrameworkDesireNextYear', 'IDE',\n",
              "       'OperatingSystem', 'NumberMonitors', 'Methodology',\n",
              "       'VersionControl', 'CheckInCode', 'AdBlocker', 'AdBlockerDisable',\n",
              "       'AdBlockerReasons', 'AdsAgreeDisagree1', 'AdsAgreeDisagree2',\n",
              "       'AdsAgreeDisagree3', 'AdsActions', 'AdsPriorities1',\n",
              "       'AdsPriorities2', 'AdsPriorities3', 'AdsPriorities4',\n",
              "       'AdsPriorities5', 'AdsPriorities6', 'AdsPriorities7',\n",
              "       'AIDangerous', 'AIInteresting', 'AIResponsible', 'AIFuture',\n",
              "       'EthicsChoice', 'EthicsReport', 'EthicsResponsible',\n",
              "       'EthicalImplications', 'StackOverflowRecommend',\n",
              "       'StackOverflowVisit', 'StackOverflowHasAccount',\n",
              "       'StackOverflowParticipate', 'StackOverflowJobs',\n",
              "       'StackOverflowDevStory', 'StackOverflowJobsRecommend',\n",
              "       'StackOverflowConsiderMember', 'HypotheticalTools1',\n",
              "       'HypotheticalTools2', 'HypotheticalTools3', 'HypotheticalTools4',\n",
              "       'HypotheticalTools5', 'WakeTime', 'HoursComputer', 'HoursOutside',\n",
              "       'SkipMeals', 'ErgonomicDevices', 'Exercise', 'Gender',\n",
              "       'SexualOrientation', 'EducationParents', 'RaceEthnicity', 'Age',\n",
              "       'Dependents', 'MilitaryUS', 'SurveyTooLong', 'SurveyEasy'],\n",
              "      dtype=object)"
            ]
          },
          "metadata": {
            "tags": []
          },
          "execution_count": 48
        }
      ]
    },
    {
      "cell_type": "code",
      "metadata": {
        "id": "LT66GzDcr7Vk",
        "colab_type": "code",
        "colab": {
          "base_uri": "https://localhost:8080/",
          "height": 517
        },
        "outputId": "8fe1cd4a-e8eb-4e0b-bd45-c1b2605f799e"
      },
      "source": [
        "temp1 = pd.DataFrame(df_18['LanguageWorkedWith'].dropna().str.split(';').tolist()).stack()\n",
        "temp1 = temp1.value_counts().sort_values(ascending=False).head(20)\n",
        "temp2 = pd.DataFrame(df_18['LanguageDesireNextYear'].dropna().str.split(';').tolist()).stack()\n",
        "temp2 = temp2.value_counts().sort_values(ascending=False).head(20)\n",
        "trace1 = go.Bar(\n",
        "    y=temp1.index[::-1],\n",
        "    x=temp1.values[::-1],\n",
        "    orientation = 'h',\n",
        ")\n",
        "trace2 = go.Bar(\n",
        "    y=temp2.index[::-1],\n",
        "    x=temp2.values[::-1],\n",
        "    orientation = 'h',\n",
        ")\n",
        "\n",
        "fig = make_subplots(rows=1, cols=2, subplot_titles=('On which developers worked with ', 'On which developers want to work in over the next year'))\n",
        "                                                          \n",
        "\n",
        "fig.append_trace(trace1, 1, 1)\n",
        "fig.append_trace(trace2, 1, 2)\n",
        "fig['layout'].update(height=500, width=1000, title='Most popular languages')\n",
        "iplot(fig, filename='simple-subplot')"
      ],
      "execution_count": null,
      "outputs": [
        {
          "output_type": "display_data",
          "data": {
            "text/html": [
              "<html>\n",
              "<head><meta charset=\"utf-8\" /></head>\n",
              "<body>\n",
              "    <div>\n",
              "            <script src=\"https://cdnjs.cloudflare.com/ajax/libs/mathjax/2.7.5/MathJax.js?config=TeX-AMS-MML_SVG\"></script><script type=\"text/javascript\">if (window.MathJax) {MathJax.Hub.Config({SVG: {font: \"STIX-Web\"}});}</script>\n",
              "                <script type=\"text/javascript\">window.PlotlyConfig = {MathJaxConfig: 'local'};</script>\n",
              "        <script src=\"https://cdn.plot.ly/plotly-latest.min.js\"></script>    \n",
              "            <div id=\"8a9a62e7-6048-4495-a4d8-161511a1dd2c\" class=\"plotly-graph-div\" style=\"height:500px; width:1000px;\"></div>\n",
              "            <script type=\"text/javascript\">\n",
              "                \n",
              "                    window.PLOTLYENV=window.PLOTLYENV || {};\n",
              "                    \n",
              "                if (document.getElementById(\"8a9a62e7-6048-4495-a4d8-161511a1dd2c\")) {\n",
              "                    Plotly.newPlot(\n",
              "                        '8a9a62e7-6048-4495-a4d8-161511a1dd2c',\n",
              "                        [{\"orientation\": \"h\", \"type\": \"bar\", \"x\": [4564, 4813, 5254, 5510, 5532, 5760, 6310, 7911, 13626, 18042, 19872, 24071, 26954, 30359, 31172, 35521, 44670, 50979, 53628, 54686], \"xaxis\": \"x\", \"y\": [\"Matlab\", \"R\", \"VB.NET\", \"Objective-C\", \"Go\", \"Assembly\", \"Swift\", \"Ruby\", \"TypeScript\", \"C\", \"C++\", \"PHP\", \"C#\", \"Python\", \"Bash/Shell\", \"Java\", \"SQL\", \"CSS\", \"HTML\", \"JavaScript\"], \"yaxis\": \"y\"}, {\"orientation\": \"h\", \"type\": \"bar\", \"x\": [5117, 6219, 7041, 7824, 7857, 9708, 10316, 11992, 12244, 15289, 15529, 16896, 20419, 20751, 22556, 28011, 30199, 31789, 32795, 38465], \"xaxis\": \"x2\", \"y\": [\"Haskell\", \"Scala\", \"R\", \"Ruby\", \"Rust\", \"Swift\", \"C\", \"Kotlin\", \"PHP\", \"C++\", \"Go\", \"TypeScript\", \"C#\", \"Bash/Shell\", \"Java\", \"SQL\", \"CSS\", \"HTML\", \"Python\", \"JavaScript\"], \"yaxis\": \"y2\"}],\n",
              "                        {\"annotations\": [{\"font\": {\"size\": 16}, \"showarrow\": false, \"text\": \"On which developers worked with \", \"x\": 0.225, \"xanchor\": \"center\", \"xref\": \"paper\", \"y\": 1.0, \"yanchor\": \"bottom\", \"yref\": \"paper\"}, {\"font\": {\"size\": 16}, \"showarrow\": false, \"text\": \"On which developers want to work in over the next year\", \"x\": 0.775, \"xanchor\": \"center\", \"xref\": \"paper\", \"y\": 1.0, \"yanchor\": \"bottom\", \"yref\": \"paper\"}], \"height\": 500, \"template\": {\"data\": {\"bar\": [{\"error_x\": {\"color\": \"#2a3f5f\"}, \"error_y\": {\"color\": \"#2a3f5f\"}, \"marker\": {\"line\": {\"color\": \"#E5ECF6\", \"width\": 0.5}}, \"type\": \"bar\"}], \"barpolar\": [{\"marker\": {\"line\": {\"color\": \"#E5ECF6\", \"width\": 0.5}}, \"type\": \"barpolar\"}], \"carpet\": [{\"aaxis\": {\"endlinecolor\": \"#2a3f5f\", \"gridcolor\": \"white\", \"linecolor\": \"white\", \"minorgridcolor\": \"white\", \"startlinecolor\": \"#2a3f5f\"}, \"baxis\": {\"endlinecolor\": \"#2a3f5f\", \"gridcolor\": \"white\", \"linecolor\": \"white\", \"minorgridcolor\": \"white\", \"startlinecolor\": \"#2a3f5f\"}, \"type\": \"carpet\"}], \"choropleth\": [{\"colorbar\": {\"outlinewidth\": 0, \"ticks\": \"\"}, \"type\": \"choropleth\"}], \"contour\": [{\"colorbar\": {\"outlinewidth\": 0, \"ticks\": \"\"}, \"colorscale\": [[0.0, \"#0d0887\"], [0.1111111111111111, \"#46039f\"], [0.2222222222222222, \"#7201a8\"], [0.3333333333333333, \"#9c179e\"], [0.4444444444444444, \"#bd3786\"], [0.5555555555555556, \"#d8576b\"], [0.6666666666666666, \"#ed7953\"], [0.7777777777777778, \"#fb9f3a\"], [0.8888888888888888, \"#fdca26\"], [1.0, \"#f0f921\"]], \"type\": \"contour\"}], \"contourcarpet\": [{\"colorbar\": {\"outlinewidth\": 0, \"ticks\": \"\"}, \"type\": \"contourcarpet\"}], \"heatmap\": [{\"colorbar\": {\"outlinewidth\": 0, \"ticks\": \"\"}, \"colorscale\": [[0.0, \"#0d0887\"], [0.1111111111111111, \"#46039f\"], [0.2222222222222222, \"#7201a8\"], [0.3333333333333333, \"#9c179e\"], [0.4444444444444444, \"#bd3786\"], [0.5555555555555556, \"#d8576b\"], [0.6666666666666666, \"#ed7953\"], [0.7777777777777778, \"#fb9f3a\"], [0.8888888888888888, \"#fdca26\"], [1.0, \"#f0f921\"]], \"type\": \"heatmap\"}], \"heatmapgl\": [{\"colorbar\": {\"outlinewidth\": 0, \"ticks\": \"\"}, \"colorscale\": [[0.0, \"#0d0887\"], [0.1111111111111111, \"#46039f\"], [0.2222222222222222, \"#7201a8\"], [0.3333333333333333, \"#9c179e\"], [0.4444444444444444, \"#bd3786\"], [0.5555555555555556, \"#d8576b\"], [0.6666666666666666, \"#ed7953\"], [0.7777777777777778, \"#fb9f3a\"], [0.8888888888888888, \"#fdca26\"], [1.0, \"#f0f921\"]], \"type\": \"heatmapgl\"}], \"histogram\": [{\"marker\": {\"colorbar\": {\"outlinewidth\": 0, \"ticks\": \"\"}}, \"type\": \"histogram\"}], \"histogram2d\": [{\"colorbar\": {\"outlinewidth\": 0, \"ticks\": \"\"}, \"colorscale\": [[0.0, \"#0d0887\"], [0.1111111111111111, \"#46039f\"], [0.2222222222222222, \"#7201a8\"], [0.3333333333333333, \"#9c179e\"], [0.4444444444444444, \"#bd3786\"], [0.5555555555555556, \"#d8576b\"], [0.6666666666666666, \"#ed7953\"], [0.7777777777777778, \"#fb9f3a\"], [0.8888888888888888, \"#fdca26\"], [1.0, \"#f0f921\"]], \"type\": \"histogram2d\"}], \"histogram2dcontour\": [{\"colorbar\": {\"outlinewidth\": 0, \"ticks\": \"\"}, \"colorscale\": [[0.0, \"#0d0887\"], [0.1111111111111111, \"#46039f\"], [0.2222222222222222, \"#7201a8\"], [0.3333333333333333, \"#9c179e\"], [0.4444444444444444, \"#bd3786\"], [0.5555555555555556, \"#d8576b\"], [0.6666666666666666, \"#ed7953\"], [0.7777777777777778, \"#fb9f3a\"], [0.8888888888888888, \"#fdca26\"], [1.0, \"#f0f921\"]], \"type\": \"histogram2dcontour\"}], \"mesh3d\": [{\"colorbar\": {\"outlinewidth\": 0, \"ticks\": \"\"}, \"type\": \"mesh3d\"}], \"parcoords\": [{\"line\": {\"colorbar\": {\"outlinewidth\": 0, \"ticks\": \"\"}}, \"type\": \"parcoords\"}], \"pie\": [{\"automargin\": true, \"type\": \"pie\"}], \"scatter\": [{\"marker\": {\"colorbar\": {\"outlinewidth\": 0, \"ticks\": \"\"}}, \"type\": \"scatter\"}], \"scatter3d\": [{\"line\": {\"colorbar\": {\"outlinewidth\": 0, \"ticks\": \"\"}}, \"marker\": {\"colorbar\": {\"outlinewidth\": 0, \"ticks\": \"\"}}, \"type\": \"scatter3d\"}], \"scattercarpet\": [{\"marker\": {\"colorbar\": {\"outlinewidth\": 0, \"ticks\": \"\"}}, \"type\": \"scattercarpet\"}], \"scattergeo\": [{\"marker\": {\"colorbar\": {\"outlinewidth\": 0, \"ticks\": \"\"}}, \"type\": \"scattergeo\"}], \"scattergl\": [{\"marker\": {\"colorbar\": {\"outlinewidth\": 0, \"ticks\": \"\"}}, \"type\": \"scattergl\"}], \"scattermapbox\": [{\"marker\": {\"colorbar\": {\"outlinewidth\": 0, \"ticks\": \"\"}}, \"type\": \"scattermapbox\"}], \"scatterpolar\": [{\"marker\": {\"colorbar\": {\"outlinewidth\": 0, \"ticks\": \"\"}}, \"type\": \"scatterpolar\"}], \"scatterpolargl\": [{\"marker\": {\"colorbar\": {\"outlinewidth\": 0, \"ticks\": \"\"}}, \"type\": \"scatterpolargl\"}], \"scatterternary\": [{\"marker\": {\"colorbar\": {\"outlinewidth\": 0, \"ticks\": \"\"}}, \"type\": \"scatterternary\"}], \"surface\": [{\"colorbar\": {\"outlinewidth\": 0, \"ticks\": \"\"}, \"colorscale\": [[0.0, \"#0d0887\"], [0.1111111111111111, \"#46039f\"], [0.2222222222222222, \"#7201a8\"], [0.3333333333333333, \"#9c179e\"], [0.4444444444444444, \"#bd3786\"], [0.5555555555555556, \"#d8576b\"], [0.6666666666666666, \"#ed7953\"], [0.7777777777777778, \"#fb9f3a\"], [0.8888888888888888, \"#fdca26\"], [1.0, \"#f0f921\"]], \"type\": \"surface\"}], \"table\": [{\"cells\": {\"fill\": {\"color\": \"#EBF0F8\"}, \"line\": {\"color\": \"white\"}}, \"header\": {\"fill\": {\"color\": \"#C8D4E3\"}, \"line\": {\"color\": \"white\"}}, \"type\": \"table\"}]}, \"layout\": {\"annotationdefaults\": {\"arrowcolor\": \"#2a3f5f\", \"arrowhead\": 0, \"arrowwidth\": 1}, \"coloraxis\": {\"colorbar\": {\"outlinewidth\": 0, \"ticks\": \"\"}}, \"colorscale\": {\"diverging\": [[0, \"#8e0152\"], [0.1, \"#c51b7d\"], [0.2, \"#de77ae\"], [0.3, \"#f1b6da\"], [0.4, \"#fde0ef\"], [0.5, \"#f7f7f7\"], [0.6, \"#e6f5d0\"], [0.7, \"#b8e186\"], [0.8, \"#7fbc41\"], [0.9, \"#4d9221\"], [1, \"#276419\"]], \"sequential\": [[0.0, \"#0d0887\"], [0.1111111111111111, \"#46039f\"], [0.2222222222222222, \"#7201a8\"], [0.3333333333333333, \"#9c179e\"], [0.4444444444444444, \"#bd3786\"], [0.5555555555555556, \"#d8576b\"], [0.6666666666666666, \"#ed7953\"], [0.7777777777777778, \"#fb9f3a\"], [0.8888888888888888, \"#fdca26\"], [1.0, \"#f0f921\"]], \"sequentialminus\": [[0.0, \"#0d0887\"], [0.1111111111111111, \"#46039f\"], [0.2222222222222222, \"#7201a8\"], [0.3333333333333333, \"#9c179e\"], [0.4444444444444444, \"#bd3786\"], [0.5555555555555556, \"#d8576b\"], [0.6666666666666666, \"#ed7953\"], [0.7777777777777778, \"#fb9f3a\"], [0.8888888888888888, \"#fdca26\"], [1.0, \"#f0f921\"]]}, \"colorway\": [\"#636efa\", \"#EF553B\", \"#00cc96\", \"#ab63fa\", \"#FFA15A\", \"#19d3f3\", \"#FF6692\", \"#B6E880\", \"#FF97FF\", \"#FECB52\"], \"font\": {\"color\": \"#2a3f5f\"}, \"geo\": {\"bgcolor\": \"white\", \"lakecolor\": \"white\", \"landcolor\": \"#E5ECF6\", \"showlakes\": true, \"showland\": true, \"subunitcolor\": \"white\"}, \"hoverlabel\": {\"align\": \"left\"}, \"hovermode\": \"closest\", \"mapbox\": {\"style\": \"light\"}, \"paper_bgcolor\": \"white\", \"plot_bgcolor\": \"#E5ECF6\", \"polar\": {\"angularaxis\": {\"gridcolor\": \"white\", \"linecolor\": \"white\", \"ticks\": \"\"}, \"bgcolor\": \"#E5ECF6\", \"radialaxis\": {\"gridcolor\": \"white\", \"linecolor\": \"white\", \"ticks\": \"\"}}, \"scene\": {\"xaxis\": {\"backgroundcolor\": \"#E5ECF6\", \"gridcolor\": \"white\", \"gridwidth\": 2, \"linecolor\": \"white\", \"showbackground\": true, \"ticks\": \"\", \"zerolinecolor\": \"white\"}, \"yaxis\": {\"backgroundcolor\": \"#E5ECF6\", \"gridcolor\": \"white\", \"gridwidth\": 2, \"linecolor\": \"white\", \"showbackground\": true, \"ticks\": \"\", \"zerolinecolor\": \"white\"}, \"zaxis\": {\"backgroundcolor\": \"#E5ECF6\", \"gridcolor\": \"white\", \"gridwidth\": 2, \"linecolor\": \"white\", \"showbackground\": true, \"ticks\": \"\", \"zerolinecolor\": \"white\"}}, \"shapedefaults\": {\"line\": {\"color\": \"#2a3f5f\"}}, \"ternary\": {\"aaxis\": {\"gridcolor\": \"white\", \"linecolor\": \"white\", \"ticks\": \"\"}, \"baxis\": {\"gridcolor\": \"white\", \"linecolor\": \"white\", \"ticks\": \"\"}, \"bgcolor\": \"#E5ECF6\", \"caxis\": {\"gridcolor\": \"white\", \"linecolor\": \"white\", \"ticks\": \"\"}}, \"title\": {\"x\": 0.05}, \"xaxis\": {\"automargin\": true, \"gridcolor\": \"white\", \"linecolor\": \"white\", \"ticks\": \"\", \"title\": {\"standoff\": 15}, \"zerolinecolor\": \"white\", \"zerolinewidth\": 2}, \"yaxis\": {\"automargin\": true, \"gridcolor\": \"white\", \"linecolor\": \"white\", \"ticks\": \"\", \"title\": {\"standoff\": 15}, \"zerolinecolor\": \"white\", \"zerolinewidth\": 2}}}, \"title\": {\"text\": \"Most popular languages\"}, \"width\": 1000, \"xaxis\": {\"anchor\": \"y\", \"domain\": [0.0, 0.45]}, \"xaxis2\": {\"anchor\": \"y2\", \"domain\": [0.55, 1.0]}, \"yaxis\": {\"anchor\": \"x\", \"domain\": [0.0, 1.0]}, \"yaxis2\": {\"anchor\": \"x2\", \"domain\": [0.0, 1.0]}},\n",
              "                        {\"responsive\": true}\n",
              "                    ).then(function(){\n",
              "                            \n",
              "var gd = document.getElementById('8a9a62e7-6048-4495-a4d8-161511a1dd2c');\n",
              "var x = new MutationObserver(function (mutations, observer) {{\n",
              "        var display = window.getComputedStyle(gd).display;\n",
              "        if (!display || display === 'none') {{\n",
              "            console.log([gd, 'removed!']);\n",
              "            Plotly.purge(gd);\n",
              "            observer.disconnect();\n",
              "        }}\n",
              "}});\n",
              "\n",
              "// Listen for the removal of the full notebook cells\n",
              "var notebookContainer = gd.closest('#notebook-container');\n",
              "if (notebookContainer) {{\n",
              "    x.observe(notebookContainer, {childList: true});\n",
              "}}\n",
              "\n",
              "// Listen for the clearing of the current output cell\n",
              "var outputEl = gd.closest('.output');\n",
              "if (outputEl) {{\n",
              "    x.observe(outputEl, {childList: true});\n",
              "}}\n",
              "\n",
              "                        })\n",
              "                };\n",
              "                \n",
              "            </script>\n",
              "        </div>\n",
              "</body>\n",
              "</html>"
            ]
          },
          "metadata": {
            "tags": []
          }
        }
      ]
    },
    {
      "cell_type": "markdown",
      "metadata": {
        "id": "J0AI1Pktcohu",
        "colab_type": "text"
      },
      "source": [
        "*  According to developers survey 2012 by stackoverflow, javascript was second most skilled language in terms of developer proficiency. over 3128 people had proficiency in javascript. over 2060 developers were working on a project related to web platform which topped the list among other projects.\n",
        "*  According to developers survey 2018 by stackoverflow, javascript,html,css were the most popular language developers worked with, while most of the developers said they want to work with javascript,python,html,css in future.\n",
        "*  This indeed reflects to the all along popularity of web-development among  developers which correlates to the increase in web development courses over the years.\n",
        "\n",
        "\n",
        "links to dataset:\n",
        "*   https://insights.stackoverflow.com/#:~:text=Stack%20Overflow%20Annual%20Developer%20Survey,-2020&text=With%20nearly%2065%2C000%20responses%20fielded,opinions%20on%20open%20source%20software."
      ]
    },
    {
      "cell_type": "code",
      "metadata": {
        "id": "x_BMubCQvJGD",
        "colab_type": "code",
        "colab": {}
      },
      "source": [
        ""
      ],
      "execution_count": null,
      "outputs": []
    },
    {
      "cell_type": "code",
      "metadata": {
        "id": "UF5cGJgTbJQh",
        "colab_type": "code",
        "colab": {}
      },
      "source": [
        ""
      ],
      "execution_count": null,
      "outputs": []
    }
  ]
}