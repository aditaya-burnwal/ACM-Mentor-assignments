{
  "nbformat": 4,
  "nbformat_minor": 0,
  "metadata": {
    "colab": {
      "name": "acm week1",
      "provenance": [],
      "collapsed_sections": [],
      "toc_visible": true
    },
    "kernelspec": {
      "name": "python3",
      "display_name": "Python 3"
    }
  },
  "cells": [
    {
      "cell_type": "code",
      "metadata": {
        "id": "mYm5XAtpAXwt",
        "colab_type": "code",
        "colab": {}
      },
      "source": [
        "#importing libraries\n",
        "import numpy as np\n",
        "import pandas as pd\n",
        "import seaborn as sns\n",
        "from IPython.display import display\n",
        "import matplotlib.pyplot as plt\n",
        "import plotly.express as px\n",
        "%matplotlib inline"
      ],
      "execution_count": 3,
      "outputs": []
    },
    {
      "cell_type": "code",
      "metadata": {
        "id": "CrBJ0vehBJEF",
        "colab_type": "code",
        "colab": {
          "resources": {
            "http://localhost:8080/nbextensions/google.colab/files.js": {
              "data": "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",
              "ok": true,
              "headers": [
                [
                  "content-type",
                  "application/javascript"
                ]
              ],
              "status": 200,
              "status_text": ""
            }
          },
          "base_uri": "https://localhost:8080/",
          "height": 73
        },
        "outputId": "3d038d64-2de6-4f40-8583-2de14f61eaea"
      },
      "source": [
        "#uploading data files\n",
        "from google.colab import files\n",
        "upload = files.upload()"
      ],
      "execution_count": 108,
      "outputs": [
        {
          "output_type": "display_data",
          "data": {
            "text/html": [
              "\n",
              "     <input type=\"file\" id=\"files-ff94ba5d-9a3d-41f4-89ef-2dcedcd509a9\" name=\"files[]\" multiple disabled\n",
              "        style=\"border:none\" />\n",
              "     <output id=\"result-ff94ba5d-9a3d-41f4-89ef-2dcedcd509a9\">\n",
              "      Upload widget is only available when the cell has been executed in the\n",
              "      current browser session. Please rerun this cell to enable.\n",
              "      </output>\n",
              "      <script src=\"/nbextensions/google.colab/files.js\"></script> "
            ],
            "text/plain": [
              "<IPython.core.display.HTML object>"
            ]
          },
          "metadata": {
            "tags": []
          }
        },
        {
          "output_type": "stream",
          "text": [
            "Saving LinkedInTopSkillscsv.csv to LinkedInTopSkillscsv.csv\n"
          ],
          "name": "stdout"
        }
      ]
    },
    {
      "cell_type": "code",
      "metadata": {
        "id": "UkRngD3jBKrx",
        "colab_type": "code",
        "colab": {
          "base_uri": "https://localhost:8080/",
          "height": 499
        },
        "outputId": "4c6ce9d6-77c8-4a6a-8d01-b6d6b1d7630e"
      },
      "source": [
        "#reading data file using padas\n",
        "df = pd.read_csv(\"udemy_courses.csv\")\n",
        "df.head(5)"
      ],
      "execution_count": 63,
      "outputs": [
        {
          "output_type": "execute_result",
          "data": {
            "text/html": [
              "<div>\n",
              "<style scoped>\n",
              "    .dataframe tbody tr th:only-of-type {\n",
              "        vertical-align: middle;\n",
              "    }\n",
              "\n",
              "    .dataframe tbody tr th {\n",
              "        vertical-align: top;\n",
              "    }\n",
              "\n",
              "    .dataframe thead th {\n",
              "        text-align: right;\n",
              "    }\n",
              "</style>\n",
              "<table border=\"1\" class=\"dataframe\">\n",
              "  <thead>\n",
              "    <tr style=\"text-align: right;\">\n",
              "      <th></th>\n",
              "      <th>course_id</th>\n",
              "      <th>course_title</th>\n",
              "      <th>url</th>\n",
              "      <th>is_paid</th>\n",
              "      <th>price</th>\n",
              "      <th>num_subscribers</th>\n",
              "      <th>num_reviews</th>\n",
              "      <th>num_lectures</th>\n",
              "      <th>level</th>\n",
              "      <th>content_duration</th>\n",
              "      <th>published_timestamp</th>\n",
              "      <th>subject</th>\n",
              "    </tr>\n",
              "  </thead>\n",
              "  <tbody>\n",
              "    <tr>\n",
              "      <th>0</th>\n",
              "      <td>1070968</td>\n",
              "      <td>Ultimate Investment Banking Course</td>\n",
              "      <td>https://www.udemy.com/ultimate-investment-bank...</td>\n",
              "      <td>True</td>\n",
              "      <td>200</td>\n",
              "      <td>2147</td>\n",
              "      <td>23</td>\n",
              "      <td>51</td>\n",
              "      <td>All Levels</td>\n",
              "      <td>1.5</td>\n",
              "      <td>2017-01-18T20:58:58Z</td>\n",
              "      <td>Business Finance</td>\n",
              "    </tr>\n",
              "    <tr>\n",
              "      <th>1</th>\n",
              "      <td>1113822</td>\n",
              "      <td>Complete GST Course &amp; Certification - Grow You...</td>\n",
              "      <td>https://www.udemy.com/goods-and-services-tax/</td>\n",
              "      <td>True</td>\n",
              "      <td>75</td>\n",
              "      <td>2792</td>\n",
              "      <td>923</td>\n",
              "      <td>274</td>\n",
              "      <td>All Levels</td>\n",
              "      <td>39.0</td>\n",
              "      <td>2017-03-09T16:34:20Z</td>\n",
              "      <td>Business Finance</td>\n",
              "    </tr>\n",
              "    <tr>\n",
              "      <th>2</th>\n",
              "      <td>1006314</td>\n",
              "      <td>Financial Modeling for Business Analysts and C...</td>\n",
              "      <td>https://www.udemy.com/financial-modeling-for-b...</td>\n",
              "      <td>True</td>\n",
              "      <td>45</td>\n",
              "      <td>2174</td>\n",
              "      <td>74</td>\n",
              "      <td>51</td>\n",
              "      <td>Intermediate Level</td>\n",
              "      <td>2.5</td>\n",
              "      <td>2016-12-19T19:26:30Z</td>\n",
              "      <td>Business Finance</td>\n",
              "    </tr>\n",
              "    <tr>\n",
              "      <th>3</th>\n",
              "      <td>1210588</td>\n",
              "      <td>Beginner to Pro - Financial Analysis in Excel ...</td>\n",
              "      <td>https://www.udemy.com/complete-excel-finance-c...</td>\n",
              "      <td>True</td>\n",
              "      <td>95</td>\n",
              "      <td>2451</td>\n",
              "      <td>11</td>\n",
              "      <td>36</td>\n",
              "      <td>All Levels</td>\n",
              "      <td>3.0</td>\n",
              "      <td>2017-05-30T20:07:24Z</td>\n",
              "      <td>Business Finance</td>\n",
              "    </tr>\n",
              "    <tr>\n",
              "      <th>4</th>\n",
              "      <td>1011058</td>\n",
              "      <td>How To Maximize Your Profits Trading Options</td>\n",
              "      <td>https://www.udemy.com/how-to-maximize-your-pro...</td>\n",
              "      <td>True</td>\n",
              "      <td>200</td>\n",
              "      <td>1276</td>\n",
              "      <td>45</td>\n",
              "      <td>26</td>\n",
              "      <td>Intermediate Level</td>\n",
              "      <td>2.0</td>\n",
              "      <td>2016-12-13T14:57:18Z</td>\n",
              "      <td>Business Finance</td>\n",
              "    </tr>\n",
              "  </tbody>\n",
              "</table>\n",
              "</div>"
            ],
            "text/plain": [
              "   course_id  ...           subject\n",
              "0    1070968  ...  Business Finance\n",
              "1    1113822  ...  Business Finance\n",
              "2    1006314  ...  Business Finance\n",
              "3    1210588  ...  Business Finance\n",
              "4    1011058  ...  Business Finance\n",
              "\n",
              "[5 rows x 12 columns]"
            ]
          },
          "metadata": {
            "tags": []
          },
          "execution_count": 63
        }
      ]
    },
    {
      "cell_type": "code",
      "metadata": {
        "id": "D9nTV225UNve",
        "colab_type": "code",
        "colab": {
          "base_uri": "https://localhost:8080/",
          "height": 104
        },
        "outputId": "a8c6b8df-83e5-4d17-ddc1-6e3545a45756"
      },
      "source": [
        "print(df.columns)\n",
        "print(df.shape)"
      ],
      "execution_count": 64,
      "outputs": [
        {
          "output_type": "stream",
          "text": [
            "Index(['course_id', 'course_title', 'url', 'is_paid', 'price',\n",
            "       'num_subscribers', 'num_reviews', 'num_lectures', 'level',\n",
            "       'content_duration', 'published_timestamp', 'subject'],\n",
            "      dtype='object')\n",
            "(3678, 12)\n"
          ],
          "name": "stdout"
        }
      ]
    },
    {
      "cell_type": "code",
      "metadata": {
        "id": "KaAQ0KJAT3Ax",
        "colab_type": "code",
        "colab": {
          "base_uri": "https://localhost:8080/",
          "height": 243
        },
        "outputId": "bb4aac5e-187a-414d-c82d-7f93bcd2f255"
      },
      "source": [
        "print(f\"Dataframe shape : {df.shape}\")\n",
        "for column in df.columns:\n",
        "    print(f\"{column} : {len(df[column].value_counts())}\")\n",
        "#number of unique values in each column"
      ],
      "execution_count": 65,
      "outputs": [
        {
          "output_type": "stream",
          "text": [
            "Dataframe shape : (3678, 12)\n",
            "course_id : 3672\n",
            "course_title : 3663\n",
            "url : 3672\n",
            "is_paid : 2\n",
            "price : 38\n",
            "num_subscribers : 2197\n",
            "num_reviews : 511\n",
            "num_lectures : 229\n",
            "level : 4\n",
            "content_duration : 105\n",
            "published_timestamp : 3672\n",
            "subject : 4\n"
          ],
          "name": "stdout"
        }
      ]
    },
    {
      "cell_type": "markdown",
      "metadata": {
        "id": "f_fA99MxYBVM",
        "colab_type": "text"
      },
      "source": [
        "The shape of Dataframe is (3678,10) but the number of course id's are 3672 so there must be some duplicate rows in the dataframe"
      ]
    },
    {
      "cell_type": "code",
      "metadata": {
        "id": "4qNYmedUUCAM",
        "colab_type": "code",
        "colab": {
          "base_uri": "https://localhost:8080/",
          "height": 35
        },
        "outputId": "bea7fd36-a200-403e-9979-9bdf9a562a62"
      },
      "source": [
        "df = df.drop_duplicates() #removing duplicates\n",
        "print(df.shape) "
      ],
      "execution_count": 66,
      "outputs": [
        {
          "output_type": "stream",
          "text": [
            "(3672, 12)\n"
          ],
          "name": "stdout"
        }
      ]
    },
    {
      "cell_type": "markdown",
      "metadata": {
        "id": "4Nu0hkpFYtYy",
        "colab_type": "text"
      },
      "source": [
        "duplicate rows are removed"
      ]
    },
    {
      "cell_type": "code",
      "metadata": {
        "id": "2tqj1t3UZB_K",
        "colab_type": "code",
        "colab": {
          "base_uri": "https://localhost:8080/",
          "height": 243
        },
        "outputId": "6e421b3f-0ff7-46c0-f0af-a1355bdc9118"
      },
      "source": [
        "df.isnull().sum() #check if there are any null values"
      ],
      "execution_count": 67,
      "outputs": [
        {
          "output_type": "execute_result",
          "data": {
            "text/plain": [
              "course_id              0\n",
              "course_title           0\n",
              "url                    0\n",
              "is_paid                0\n",
              "price                  0\n",
              "num_subscribers        0\n",
              "num_reviews            0\n",
              "num_lectures           0\n",
              "level                  0\n",
              "content_duration       0\n",
              "published_timestamp    0\n",
              "subject                0\n",
              "dtype: int64"
            ]
          },
          "metadata": {
            "tags": []
          },
          "execution_count": 67
        }
      ]
    },
    {
      "cell_type": "markdown",
      "metadata": {
        "id": "6xIaDraVZD_u",
        "colab_type": "text"
      },
      "source": [
        "There are no null values in the dataframe"
      ]
    },
    {
      "cell_type": "code",
      "metadata": {
        "id": "X9-SdlpGBvSZ",
        "colab_type": "code",
        "colab": {
          "base_uri": "https://localhost:8080/",
          "height": 294
        },
        "outputId": "0334cdf0-96f2-493b-b6f2-9e9cf9a578a0"
      },
      "source": [
        "#analyse all numeric columns using describe()\n",
        "df.describe()"
      ],
      "execution_count": 68,
      "outputs": [
        {
          "output_type": "execute_result",
          "data": {
            "text/html": [
              "<div>\n",
              "<style scoped>\n",
              "    .dataframe tbody tr th:only-of-type {\n",
              "        vertical-align: middle;\n",
              "    }\n",
              "\n",
              "    .dataframe tbody tr th {\n",
              "        vertical-align: top;\n",
              "    }\n",
              "\n",
              "    .dataframe thead th {\n",
              "        text-align: right;\n",
              "    }\n",
              "</style>\n",
              "<table border=\"1\" class=\"dataframe\">\n",
              "  <thead>\n",
              "    <tr style=\"text-align: right;\">\n",
              "      <th></th>\n",
              "      <th>course_id</th>\n",
              "      <th>price</th>\n",
              "      <th>num_subscribers</th>\n",
              "      <th>num_reviews</th>\n",
              "      <th>num_lectures</th>\n",
              "      <th>content_duration</th>\n",
              "    </tr>\n",
              "  </thead>\n",
              "  <tbody>\n",
              "    <tr>\n",
              "      <th>count</th>\n",
              "      <td>3.672000e+03</td>\n",
              "      <td>3672.000000</td>\n",
              "      <td>3672.000000</td>\n",
              "      <td>3672.000000</td>\n",
              "      <td>3672.000000</td>\n",
              "      <td>3672.000000</td>\n",
              "    </tr>\n",
              "    <tr>\n",
              "      <th>mean</th>\n",
              "      <td>6.758977e+05</td>\n",
              "      <td>66.102941</td>\n",
              "      <td>3190.586874</td>\n",
              "      <td>156.371460</td>\n",
              "      <td>40.140251</td>\n",
              "      <td>4.097603</td>\n",
              "    </tr>\n",
              "    <tr>\n",
              "      <th>std</th>\n",
              "      <td>3.430720e+05</td>\n",
              "      <td>61.035920</td>\n",
              "      <td>9488.105448</td>\n",
              "      <td>936.178649</td>\n",
              "      <td>50.417102</td>\n",
              "      <td>6.057830</td>\n",
              "    </tr>\n",
              "    <tr>\n",
              "      <th>min</th>\n",
              "      <td>8.324000e+03</td>\n",
              "      <td>0.000000</td>\n",
              "      <td>0.000000</td>\n",
              "      <td>0.000000</td>\n",
              "      <td>0.000000</td>\n",
              "      <td>0.000000</td>\n",
              "    </tr>\n",
              "    <tr>\n",
              "      <th>25%</th>\n",
              "      <td>4.077615e+05</td>\n",
              "      <td>20.000000</td>\n",
              "      <td>111.750000</td>\n",
              "      <td>4.000000</td>\n",
              "      <td>15.000000</td>\n",
              "      <td>1.000000</td>\n",
              "    </tr>\n",
              "    <tr>\n",
              "      <th>50%</th>\n",
              "      <td>6.876920e+05</td>\n",
              "      <td>45.000000</td>\n",
              "      <td>912.000000</td>\n",
              "      <td>18.000000</td>\n",
              "      <td>25.000000</td>\n",
              "      <td>2.000000</td>\n",
              "    </tr>\n",
              "    <tr>\n",
              "      <th>75%</th>\n",
              "      <td>9.608140e+05</td>\n",
              "      <td>95.000000</td>\n",
              "      <td>2548.750000</td>\n",
              "      <td>67.000000</td>\n",
              "      <td>46.000000</td>\n",
              "      <td>4.500000</td>\n",
              "    </tr>\n",
              "    <tr>\n",
              "      <th>max</th>\n",
              "      <td>1.282064e+06</td>\n",
              "      <td>200.000000</td>\n",
              "      <td>268923.000000</td>\n",
              "      <td>27445.000000</td>\n",
              "      <td>779.000000</td>\n",
              "      <td>78.500000</td>\n",
              "    </tr>\n",
              "  </tbody>\n",
              "</table>\n",
              "</div>"
            ],
            "text/plain": [
              "          course_id        price  ...  num_lectures  content_duration\n",
              "count  3.672000e+03  3672.000000  ...   3672.000000       3672.000000\n",
              "mean   6.758977e+05    66.102941  ...     40.140251          4.097603\n",
              "std    3.430720e+05    61.035920  ...     50.417102          6.057830\n",
              "min    8.324000e+03     0.000000  ...      0.000000          0.000000\n",
              "25%    4.077615e+05    20.000000  ...     15.000000          1.000000\n",
              "50%    6.876920e+05    45.000000  ...     25.000000          2.000000\n",
              "75%    9.608140e+05    95.000000  ...     46.000000          4.500000\n",
              "max    1.282064e+06   200.000000  ...    779.000000         78.500000\n",
              "\n",
              "[8 rows x 6 columns]"
            ]
          },
          "metadata": {
            "tags": []
          },
          "execution_count": 68
        }
      ]
    },
    {
      "cell_type": "markdown",
      "metadata": {
        "id": "iVkQnovnY4c-",
        "colab_type": "text"
      },
      "source": [
        "# Major conclusions from the above table are as follows:\n",
        "\n",
        "1.  There are courses containing no lectures as well as no content duration\n",
        "2.  content duration and number of lectures at 75th percentile are only 4.5 hrs and 26 while their maximum is 78.5 and 779\n",
        "3.  number of subscribers at 75th percentile is 2548.75 while its maximum is 268923.0\n",
        "4.  number of reviews at 75th percentile are 67 while its maximum is 27445\n",
        "5.  maximum price of any course is 200\n",
        "6.  There are courses with 0 subscribers\n",
        "7.  maximum content duration is 78.5 hrs"
      ]
    },
    {
      "cell_type": "code",
      "metadata": {
        "id": "yT5E8L-DB7tg",
        "colab_type": "code",
        "colab": {
          "base_uri": "https://localhost:8080/",
          "height": 87
        },
        "outputId": "d4d68011-4bf2-4177-bbaf-c3251c319046"
      },
      "source": [
        "print(df[\"level\"].unique())\n",
        "print(df[\"subject\"].unique())\n",
        "print(df[\"is_paid\"].unique())"
      ],
      "execution_count": 69,
      "outputs": [
        {
          "output_type": "stream",
          "text": [
            "['All Levels' 'Intermediate Level' 'Beginner Level' 'Expert Level']\n",
            "['Business Finance' 'Graphic Design' 'Musical Instruments'\n",
            " 'Web Development']\n",
            "[ True False]\n"
          ],
          "name": "stdout"
        }
      ]
    },
    {
      "cell_type": "code",
      "metadata": {
        "id": "wUifRW4uIHNs",
        "colab_type": "code",
        "colab": {}
      },
      "source": [
        "df.loc[:,\"levels\"] = -1\n",
        "df.loc[df[\"level\"]==\"All Levels\",\"levels\"]=0\n",
        "df.loc[df[\"level\"]==\"Intermediate Level\",\"levels\"]=2\n",
        "df.loc[df[\"level\"]==\"Beginner Level\",\"levels\"]=1\n",
        "df.loc[df[\"level\"]==\"Expert Level\",\"levels\"]=3\n",
        "\n",
        "df.loc[:,\"subjects\"] = -1\n",
        "df.loc[df[\"subject\"]==\"Business Finance\",\"subjects\"]=0\n",
        "df.loc[df[\"subject\"]==\"Graphic Design\",\"subjects\"]=2\n",
        "df.loc[df[\"subject\"]==\"Musical Instruments\",\"subjects\"]=1\n",
        "df.loc[df[\"subject\"]==\"Web Development\",\"subjects\"]=3\n",
        "\n",
        "df.loc[:,\"paid_or_not\"] = -1\n",
        "df.loc[df[\"is_paid\"]== False,\"paid_or_not\"] = 0\n",
        "df.loc[df[\"is_paid\"]== True,\"paid_or_not\"] = 1\n",
        "\n",
        "df.loc[:,\"publish_timestamp\"] = -1\n",
        "for i in range(len(df[\"published_timestamp\"])):\n",
        "  df.loc[i,\"publish_timestamp\"] = int(df.published_timestamp.values[i][:4])"
      ],
      "execution_count": 70,
      "outputs": []
    },
    {
      "cell_type": "code",
      "metadata": {
        "id": "neZKnqDDLmR0",
        "colab_type": "code",
        "colab": {}
      },
      "source": [
        "df = df.drop(columns = [\"level\",\"subject\",\"is_paid\",\"published_timestamp\"] )"
      ],
      "execution_count": 71,
      "outputs": []
    },
    {
      "cell_type": "code",
      "metadata": {
        "id": "XEdruVY8MF58",
        "colab_type": "code",
        "colab": {
          "base_uri": "https://localhost:8080/",
          "height": 499
        },
        "outputId": "e09e4ea8-952f-4004-8186-7e535a88f858"
      },
      "source": [
        "df.head(5)"
      ],
      "execution_count": 72,
      "outputs": [
        {
          "output_type": "execute_result",
          "data": {
            "text/html": [
              "<div>\n",
              "<style scoped>\n",
              "    .dataframe tbody tr th:only-of-type {\n",
              "        vertical-align: middle;\n",
              "    }\n",
              "\n",
              "    .dataframe tbody tr th {\n",
              "        vertical-align: top;\n",
              "    }\n",
              "\n",
              "    .dataframe thead th {\n",
              "        text-align: right;\n",
              "    }\n",
              "</style>\n",
              "<table border=\"1\" class=\"dataframe\">\n",
              "  <thead>\n",
              "    <tr style=\"text-align: right;\">\n",
              "      <th></th>\n",
              "      <th>course_id</th>\n",
              "      <th>course_title</th>\n",
              "      <th>url</th>\n",
              "      <th>price</th>\n",
              "      <th>num_subscribers</th>\n",
              "      <th>num_reviews</th>\n",
              "      <th>num_lectures</th>\n",
              "      <th>content_duration</th>\n",
              "      <th>levels</th>\n",
              "      <th>subjects</th>\n",
              "      <th>paid_or_not</th>\n",
              "      <th>publish_timestamp</th>\n",
              "    </tr>\n",
              "  </thead>\n",
              "  <tbody>\n",
              "    <tr>\n",
              "      <th>0</th>\n",
              "      <td>1070968.0</td>\n",
              "      <td>Ultimate Investment Banking Course</td>\n",
              "      <td>https://www.udemy.com/ultimate-investment-bank...</td>\n",
              "      <td>200.0</td>\n",
              "      <td>2147.0</td>\n",
              "      <td>23.0</td>\n",
              "      <td>51.0</td>\n",
              "      <td>1.5</td>\n",
              "      <td>0.0</td>\n",
              "      <td>0.0</td>\n",
              "      <td>1.0</td>\n",
              "      <td>2017.0</td>\n",
              "    </tr>\n",
              "    <tr>\n",
              "      <th>1</th>\n",
              "      <td>1113822.0</td>\n",
              "      <td>Complete GST Course &amp; Certification - Grow You...</td>\n",
              "      <td>https://www.udemy.com/goods-and-services-tax/</td>\n",
              "      <td>75.0</td>\n",
              "      <td>2792.0</td>\n",
              "      <td>923.0</td>\n",
              "      <td>274.0</td>\n",
              "      <td>39.0</td>\n",
              "      <td>0.0</td>\n",
              "      <td>0.0</td>\n",
              "      <td>1.0</td>\n",
              "      <td>2017.0</td>\n",
              "    </tr>\n",
              "    <tr>\n",
              "      <th>2</th>\n",
              "      <td>1006314.0</td>\n",
              "      <td>Financial Modeling for Business Analysts and C...</td>\n",
              "      <td>https://www.udemy.com/financial-modeling-for-b...</td>\n",
              "      <td>45.0</td>\n",
              "      <td>2174.0</td>\n",
              "      <td>74.0</td>\n",
              "      <td>51.0</td>\n",
              "      <td>2.5</td>\n",
              "      <td>2.0</td>\n",
              "      <td>0.0</td>\n",
              "      <td>1.0</td>\n",
              "      <td>2016.0</td>\n",
              "    </tr>\n",
              "    <tr>\n",
              "      <th>3</th>\n",
              "      <td>1210588.0</td>\n",
              "      <td>Beginner to Pro - Financial Analysis in Excel ...</td>\n",
              "      <td>https://www.udemy.com/complete-excel-finance-c...</td>\n",
              "      <td>95.0</td>\n",
              "      <td>2451.0</td>\n",
              "      <td>11.0</td>\n",
              "      <td>36.0</td>\n",
              "      <td>3.0</td>\n",
              "      <td>0.0</td>\n",
              "      <td>0.0</td>\n",
              "      <td>1.0</td>\n",
              "      <td>2017.0</td>\n",
              "    </tr>\n",
              "    <tr>\n",
              "      <th>4</th>\n",
              "      <td>1011058.0</td>\n",
              "      <td>How To Maximize Your Profits Trading Options</td>\n",
              "      <td>https://www.udemy.com/how-to-maximize-your-pro...</td>\n",
              "      <td>200.0</td>\n",
              "      <td>1276.0</td>\n",
              "      <td>45.0</td>\n",
              "      <td>26.0</td>\n",
              "      <td>2.0</td>\n",
              "      <td>2.0</td>\n",
              "      <td>0.0</td>\n",
              "      <td>1.0</td>\n",
              "      <td>2016.0</td>\n",
              "    </tr>\n",
              "  </tbody>\n",
              "</table>\n",
              "</div>"
            ],
            "text/plain": [
              "   course_id  ... publish_timestamp\n",
              "0  1070968.0  ...            2017.0\n",
              "1  1113822.0  ...            2017.0\n",
              "2  1006314.0  ...            2016.0\n",
              "3  1210588.0  ...            2017.0\n",
              "4  1011058.0  ...            2016.0\n",
              "\n",
              "[5 rows x 12 columns]"
            ]
          },
          "metadata": {
            "tags": []
          },
          "execution_count": 72
        }
      ]
    },
    {
      "cell_type": "code",
      "metadata": {
        "id": "785QU5NCB-q-",
        "colab_type": "code",
        "colab": {
          "base_uri": "https://localhost:8080/",
          "height": 1000
        },
        "outputId": "97f271be-8529-4b52-b7bb-70b8b912b42e"
      },
      "source": [
        "#plotting barplots for categorical data\n",
        "p1 = sns.distplot(df[\"price\"],kde = True)\n",
        "plt.show()\n",
        "p2 = sns.distplot(df[\"levels\"],kde = False)\n",
        "plt.show()\n",
        "p3 = sns.distplot(df[\"subjects\"],kde = False)\n",
        "plt.show()\n",
        "p4 = sns.distplot(df[\"paid_or_not\"],kde = False)\n",
        "plt.show()\n",
        "p4 = sns.distplot(df[\"publish_timestamp\"],kde = False)\n",
        "plt.show()"
      ],
      "execution_count": 95,
      "outputs": [
        {
          "output_type": "display_data",
          "data": {
            "image/png": "[encoded data removed]",
            "text/plain": [
              "<Figure size 432x288 with 1 Axes>"
            ]
          },
          "metadata": {
            "tags": [],
            "needs_background": "light"
          }
        },
        {
          "output_type": "display_data",
          "data": {
            "image/png": "[encoded data removed]",
            "text/plain": [
              "<Figure size 432x288 with 1 Axes>"
            ]
          },
          "metadata": {
            "tags": [],
            "needs_background": "light"
          }
        },
        {
          "output_type": "display_data",
          "data": {
            "image/png": "[encoded data removed]",
            "text/plain": [
              "<Figure size 432x288 with 1 Axes>"
            ]
          },
          "metadata": {
            "tags": [],
            "needs_background": "light"
          }
        },
        {
          "output_type": "display_data",
          "data": {
            "image/png": "[encoded data removed]",
            "text/plain": [
              "<Figure size 432x288 with 1 Axes>"
            ]
          },
          "metadata": {
            "tags": [],
            "needs_background": "light"
          }
        },
        {
          "output_type": "display_data",
          "data": {
            "image/png": "[encoded data removed]",
            "text/plain": [
              "<Figure size 432x288 with 1 Axes>"
            ]
          },
          "metadata": {
            "tags": [],
            "needs_background": "light"
          }
        }
      ]
    },
    {
      "cell_type": "code",
      "metadata": {
        "id": "d6fXjHwWiv3x",
        "colab_type": "code",
        "colab": {
          "base_uri": "https://localhost:8080/",
          "height": 468
        },
        "outputId": "a438980a-642c-40a1-938b-56a450ded8cf"
      },
      "source": [
        "print(df[\"paid_or_not\"].value_counts())\n",
        "print(\"-\"*20)\n",
        "print(df[\"levels\"].value_counts())\n",
        "print(\"-\"*20)\n",
        "print(df[\"subjects\"].value_counts())\n",
        "print(\"-\"*20)\n",
        "print(df[\"publish_timestamp\"].value_counts())\n",
        "print(\"-\"*20)"
      ],
      "execution_count": 96,
      "outputs": [
        {
          "output_type": "stream",
          "text": [
            "1.0    3362\n",
            "0.0     310\n",
            "Name: paid_or_not, dtype: int64\n",
            "--------------------\n",
            "0.0    1925\n",
            "1.0    1268\n",
            "2.0     421\n",
            "3.0      58\n",
            "Name: levels, dtype: int64\n",
            "--------------------\n",
            "3.0    1199\n",
            "0.0    1191\n",
            "1.0     680\n",
            "2.0     602\n",
            "Name: subjects, dtype: int64\n",
            "--------------------\n",
            " 2016.0    1204\n",
            " 2015.0    1014\n",
            " 2017.0     713\n",
            " 2014.0     490\n",
            " 2013.0     201\n",
            " 2012.0      45\n",
            "-1.0          6\n",
            " 2011.0       5\n",
            "Name: publish_timestamp, dtype: int64\n",
            "--------------------\n"
          ],
          "name": "stdout"
        }
      ]
    },
    {
      "cell_type": "markdown",
      "metadata": {
        "id": "EX-j6vJ3k7Xf",
        "colab_type": "text"
      },
      "source": [
        "# Conclusions from above:\n",
        "\n",
        "*   The number of paid courses are much higher than non_paid\n",
        "*   number of \"All levels\" courses courses are most,much higher than \"Expert Level\" courses followed by \"Intermediate level\" courses\n",
        "*   number of \"web development\" and \"Business Finance\" courses are comparable and higher than the other two\n",
        "*   most of the courses have price range between 0-50\n"
      ]
    },
    {
      "cell_type": "code",
      "metadata": {
        "id": "J6ehZg2kDZi8",
        "colab_type": "code",
        "colab": {
          "base_uri": "https://localhost:8080/",
          "height": 371
        },
        "outputId": "a29481a9-0880-4975-c2ee-6b7ce30a8333"
      },
      "source": [
        "sns.heatmap(df[['paid_or_not', 'price',\n",
        "       'num_subscribers', 'num_reviews', 'num_lectures', 'levels',\n",
        "       'content_duration', 'subjects',\"publish_timestamp\"]].corr())"
      ],
      "execution_count": 97,
      "outputs": [
        {
          "output_type": "execute_result",
          "data": {
            "text/plain": [
              "<matplotlib.axes._subplots.AxesSubplot at 0x7f6ae3429240>"
            ]
          },
          "metadata": {
            "tags": []
          },
          "execution_count": 97
        },
        {
          "output_type": "display_data",
          "data": {
            "image/png": "[encoded data removed]",
            "text/plain": [
              "<Figure size 432x288 with 2 Axes>"
            ]
          },
          "metadata": {
            "tags": [],
            "needs_background": "light"
          }
        }
      ]
    },
    {
      "cell_type": "code",
      "metadata": {
        "id": "gzqVyFKElCp5",
        "colab_type": "code",
        "colab": {
          "base_uri": "https://localhost:8080/",
          "height": 345
        },
        "outputId": "45b1e626-7981-48d8-cfc5-c6279ebc86f4"
      },
      "source": [
        "df[['paid_or_not', 'price',\n",
        "       'num_subscribers', 'num_reviews', 'num_lectures', 'levels',\n",
        "       'content_duration', 'subjects',\"publish_timestamp\"]].corr()"
      ],
      "execution_count": 98,
      "outputs": [
        {
          "output_type": "execute_result",
          "data": {
            "text/html": [
              "<div>\n",
              "<style scoped>\n",
              "    .dataframe tbody tr th:only-of-type {\n",
              "        vertical-align: middle;\n",
              "    }\n",
              "\n",
              "    .dataframe tbody tr th {\n",
              "        vertical-align: top;\n",
              "    }\n",
              "\n",
              "    .dataframe thead th {\n",
              "        text-align: right;\n",
              "    }\n",
              "</style>\n",
              "<table border=\"1\" class=\"dataframe\">\n",
              "  <thead>\n",
              "    <tr style=\"text-align: right;\">\n",
              "      <th></th>\n",
              "      <th>paid_or_not</th>\n",
              "      <th>price</th>\n",
              "      <th>num_subscribers</th>\n",
              "      <th>num_reviews</th>\n",
              "      <th>num_lectures</th>\n",
              "      <th>levels</th>\n",
              "      <th>content_duration</th>\n",
              "      <th>subjects</th>\n",
              "      <th>publish_timestamp</th>\n",
              "    </tr>\n",
              "  </thead>\n",
              "  <tbody>\n",
              "    <tr>\n",
              "      <th>paid_or_not</th>\n",
              "      <td>1.000000</td>\n",
              "      <td>0.328910</td>\n",
              "      <td>-0.267056</td>\n",
              "      <td>-0.087445</td>\n",
              "      <td>0.112788</td>\n",
              "      <td>-0.032982</td>\n",
              "      <td>0.094594</td>\n",
              "      <td>-0.041110</td>\n",
              "      <td>-0.012320</td>\n",
              "    </tr>\n",
              "    <tr>\n",
              "      <th>price</th>\n",
              "      <td>0.328910</td>\n",
              "      <td>1.000000</td>\n",
              "      <td>0.050436</td>\n",
              "      <td>0.113568</td>\n",
              "      <td>0.329944</td>\n",
              "      <td>-0.073455</td>\n",
              "      <td>0.293200</td>\n",
              "      <td>0.065144</td>\n",
              "      <td>-0.000882</td>\n",
              "    </tr>\n",
              "    <tr>\n",
              "      <th>num_subscribers</th>\n",
              "      <td>-0.267056</td>\n",
              "      <td>0.050436</td>\n",
              "      <td>1.000000</td>\n",
              "      <td>0.651070</td>\n",
              "      <td>0.158351</td>\n",
              "      <td>-0.061454</td>\n",
              "      <td>0.162118</td>\n",
              "      <td>0.214254</td>\n",
              "      <td>0.011027</td>\n",
              "    </tr>\n",
              "    <tr>\n",
              "      <th>num_reviews</th>\n",
              "      <td>-0.087445</td>\n",
              "      <td>0.113568</td>\n",
              "      <td>0.651070</td>\n",
              "      <td>1.000000</td>\n",
              "      <td>0.243019</td>\n",
              "      <td>-0.055654</td>\n",
              "      <td>0.228852</td>\n",
              "      <td>0.125489</td>\n",
              "      <td>0.004743</td>\n",
              "    </tr>\n",
              "    <tr>\n",
              "      <th>num_lectures</th>\n",
              "      <td>0.112788</td>\n",
              "      <td>0.329944</td>\n",
              "      <td>0.158351</td>\n",
              "      <td>0.243019</td>\n",
              "      <td>1.000000</td>\n",
              "      <td>-0.102552</td>\n",
              "      <td>0.801624</td>\n",
              "      <td>0.150738</td>\n",
              "      <td>-0.009205</td>\n",
              "    </tr>\n",
              "    <tr>\n",
              "      <th>levels</th>\n",
              "      <td>-0.032982</td>\n",
              "      <td>-0.073455</td>\n",
              "      <td>-0.061454</td>\n",
              "      <td>-0.055654</td>\n",
              "      <td>-0.102552</td>\n",
              "      <td>1.000000</td>\n",
              "      <td>-0.107397</td>\n",
              "      <td>-0.008831</td>\n",
              "      <td>0.015830</td>\n",
              "    </tr>\n",
              "    <tr>\n",
              "      <th>content_duration</th>\n",
              "      <td>0.094594</td>\n",
              "      <td>0.293200</td>\n",
              "      <td>0.162118</td>\n",
              "      <td>0.228852</td>\n",
              "      <td>0.801624</td>\n",
              "      <td>-0.107397</td>\n",
              "      <td>1.000000</td>\n",
              "      <td>0.141784</td>\n",
              "      <td>-0.005593</td>\n",
              "    </tr>\n",
              "    <tr>\n",
              "      <th>subjects</th>\n",
              "      <td>-0.041110</td>\n",
              "      <td>0.065144</td>\n",
              "      <td>0.214254</td>\n",
              "      <td>0.125489</td>\n",
              "      <td>0.150738</td>\n",
              "      <td>-0.008831</td>\n",
              "      <td>0.141784</td>\n",
              "      <td>1.000000</td>\n",
              "      <td>-0.048035</td>\n",
              "    </tr>\n",
              "    <tr>\n",
              "      <th>publish_timestamp</th>\n",
              "      <td>-0.012320</td>\n",
              "      <td>-0.000882</td>\n",
              "      <td>0.011027</td>\n",
              "      <td>0.004743</td>\n",
              "      <td>-0.009205</td>\n",
              "      <td>0.015830</td>\n",
              "      <td>-0.005593</td>\n",
              "      <td>-0.048035</td>\n",
              "      <td>1.000000</td>\n",
              "    </tr>\n",
              "  </tbody>\n",
              "</table>\n",
              "</div>"
            ],
            "text/plain": [
              "                   paid_or_not     price  ...  subjects  publish_timestamp\n",
              "paid_or_not           1.000000  0.328910  ... -0.041110          -0.012320\n",
              "price                 0.328910  1.000000  ...  0.065144          -0.000882\n",
              "num_subscribers      -0.267056  0.050436  ...  0.214254           0.011027\n",
              "num_reviews          -0.087445  0.113568  ...  0.125489           0.004743\n",
              "num_lectures          0.112788  0.329944  ...  0.150738          -0.009205\n",
              "levels               -0.032982 -0.073455  ... -0.008831           0.015830\n",
              "content_duration      0.094594  0.293200  ...  0.141784          -0.005593\n",
              "subjects             -0.041110  0.065144  ...  1.000000          -0.048035\n",
              "publish_timestamp    -0.012320 -0.000882  ... -0.048035           1.000000\n",
              "\n",
              "[9 rows x 9 columns]"
            ]
          },
          "metadata": {
            "tags": []
          },
          "execution_count": 98
        }
      ]
    },
    {
      "cell_type": "markdown",
      "metadata": {
        "id": "XWgd4N9_Ffrl",
        "colab_type": "text"
      },
      "source": [
        "#  Analysing the data distribution by paid and non paid courses:"
      ]
    },
    {
      "cell_type": "code",
      "metadata": {
        "id": "Uya0nTYZl6Em",
        "colab_type": "code",
        "colab": {
          "base_uri": "https://localhost:8080/",
          "height": 366
        },
        "outputId": "cd693666-2b6f-4121-bf15-528c27890201"
      },
      "source": [
        "sns.barplot(x = \"levels\",y = \"paid_or_not\",data = df)\n",
        "print(\"Total paid courses:{}, Total unpaid courses:{}\".format(df[\"paid_or_not\"].value_counts().values[0],df[\"paid_or_not\"].value_counts().values[1]))\n",
        "print(pd.crosstab(df[\"paid_or_not\"], df[\"levels\"]))\n",
        "#levels and the if paid or not\n",
        "#shows that 1.Expert level is not included in unpaid courses\n",
        "#2."
      ],
      "execution_count": 77,
      "outputs": [
        {
          "output_type": "stream",
          "text": [
            "Total paid courses:3362, Total unpaid courses:310\n",
            "levels        0.0   1.0  2.0  3.0\n",
            "paid_or_not                      \n",
            "0.0           122   158   30    0\n",
            "1.0          1803  1110  391   58\n"
          ],
          "name": "stdout"
        },
        {
          "output_type": "display_data",
          "data": {
            "image/png": "[encoded data removed]",
            "text/plain": [
              "<Figure size 432x288 with 1 Axes>"
            ]
          },
          "metadata": {
            "tags": [],
            "needs_background": "light"
          }
        }
      ]
    },
    {
      "cell_type": "code",
      "metadata": {
        "id": "VpyP8nSbpmrm",
        "colab_type": "code",
        "colab": {
          "base_uri": "https://localhost:8080/",
          "height": 347
        },
        "outputId": "3d43127f-913e-40d7-a3d1-63d2222c9a17"
      },
      "source": [
        "print(df.loc[df[\"paid_or_not\"]==0,\"num_subscribers\"].to_frame().describe())\n",
        "print(\"-\"*30)\n",
        "print(df.loc[df[\"paid_or_not\"]==1,\"num_subscribers\"].to_frame().describe())"
      ],
      "execution_count": 78,
      "outputs": [
        {
          "output_type": "stream",
          "text": [
            "       num_subscribers\n",
            "count       310.000000\n",
            "mean      11533.951613\n",
            "std       23620.569473\n",
            "min           1.000000\n",
            "25%        2222.250000\n",
            "50%        4869.500000\n",
            "75%       10637.500000\n",
            "max      268923.000000\n",
            "------------------------------\n",
            "       num_subscribers\n",
            "count      3362.000000\n",
            "mean       2421.270077\n",
            "std        6326.164761\n",
            "min           0.000000\n",
            "25%          90.250000\n",
            "50%         736.000000\n",
            "75%        2058.250000\n",
            "max      121584.000000\n"
          ],
          "name": "stdout"
        }
      ]
    },
    {
      "cell_type": "code",
      "metadata": {
        "id": "NRzfLQWfv1d_",
        "colab_type": "code",
        "colab": {
          "base_uri": "https://localhost:8080/",
          "height": 297
        },
        "outputId": "401c5f40-4636-4cfb-f7df-ed084ec79085"
      },
      "source": [
        "sns.barplot(x = df[\"levels\"],y=df[\"num_subscribers\"],hue = df[\"paid_or_not\"])"
      ],
      "execution_count": 79,
      "outputs": [
        {
          "output_type": "execute_result",
          "data": {
            "text/plain": [
              "<matplotlib.axes._subplots.AxesSubplot at 0x7f6ae39ea278>"
            ]
          },
          "metadata": {
            "tags": []
          },
          "execution_count": 79
        },
        {
          "output_type": "display_data",
          "data": {
            "image/png": "[encoded data removed]",
            "text/plain": [
              "<Figure size 432x288 with 1 Axes>"
            ]
          },
          "metadata": {
            "tags": [],
            "needs_background": "light"
          }
        }
      ]
    },
    {
      "cell_type": "code",
      "metadata": {
        "id": "6KZTZIKGxlW6",
        "colab_type": "code",
        "colab": {
          "base_uri": "https://localhost:8080/",
          "height": 297
        },
        "outputId": "5c6c30b3-6346-418e-919b-38c7c87e4244"
      },
      "source": [
        "sns.barplot(x = df[\"paid_or_not\"],y = df[\"content_duration\"])"
      ],
      "execution_count": 80,
      "outputs": [
        {
          "output_type": "execute_result",
          "data": {
            "text/plain": [
              "<matplotlib.axes._subplots.AxesSubplot at 0x7f6ae3968cf8>"
            ]
          },
          "metadata": {
            "tags": []
          },
          "execution_count": 80
        },
        {
          "output_type": "display_data",
          "data": {
            "image/png": "[encoded data removed]",
            "text/plain": [
              "<Figure size 432x288 with 1 Axes>"
            ]
          },
          "metadata": {
            "tags": [],
            "needs_background": "light"
          }
        }
      ]
    },
    {
      "cell_type": "markdown",
      "metadata": {
        "id": "FY7Oc2AX-S3O",
        "colab_type": "text"
      },
      "source": [
        "\n",
        "*   There are no non paid courses for \"expert level\" courses\n",
        "*   Most of the non paid courses are of \"Intermediate level\"\n",
        "*  While paid courses are much more than non paid courses (almost 10 times in number), the average number of subscribers in non paid courses are more(11533 vs 2421)\n",
        "*  maxixmum number of subscribers in non paid courses are  268923 more than double of number of paid courses 121584\n",
        "*  Number of subscribers in the non paid courses with \"All level\" courses are most\n",
        "*  Average content duration of paid courses is more than unpaid\n",
        "\n"
      ]
    },
    {
      "cell_type": "markdown",
      "metadata": {
        "id": "RzeHfF20Gb9Z",
        "colab_type": "text"
      },
      "source": [
        "#  Effect of number of views on the number of subscribers:"
      ]
    },
    {
      "cell_type": "code",
      "metadata": {
        "id": "N2aIVgv-uV4W",
        "colab_type": "code",
        "colab": {
          "base_uri": "https://localhost:8080/",
          "height": 721
        },
        "outputId": "3f109ea3-056a-4e89-e3c0-cea96a287834"
      },
      "source": [
        "sns.relplot(x = \"num_reviews\",y = \"num_subscribers\",hue = \"subjects\",data = df)\n",
        "plt.show()\n",
        "sns.relplot(x = \"num_reviews\",y = \"num_subscribers\",kind = \"line\",data = df)\n",
        "plt.show()\n"
      ],
      "execution_count": 81,
      "outputs": [
        {
          "output_type": "display_data",
          "data": {
            "image/png": "[encoded data removed]",
            "text/plain": [
              "<Figure size 437.5x360 with 1 Axes>"
            ]
          },
          "metadata": {
            "tags": [],
            "needs_background": "light"
          }
        },
        {
          "output_type": "display_data",
          "data": {
            "image/png": "[encoded data removed]",
            "text/plain": [
              "<Figure size 360x360 with 1 Axes>"
            ]
          },
          "metadata": {
            "tags": [],
            "needs_background": "light"
          }
        }
      ]
    },
    {
      "cell_type": "markdown",
      "metadata": {
        "id": "tbbUzn0HKFGj",
        "colab_type": "text"
      },
      "source": [
        "*   according to heatmap number of reviews has the most effects on subscribers\n",
        "*   we can see that generally as the  number of reviews increase the number of subscribers also increase\n",
        "*   Most courses with large number of subscribers are web development courses"
      ]
    },
    {
      "cell_type": "markdown",
      "metadata": {
        "id": "B39Pmwf8HqBo",
        "colab_type": "text"
      },
      "source": [
        "#  Analyzing data on the basis of subject:"
      ]
    },
    {
      "cell_type": "code",
      "metadata": {
        "id": "iz5pDVOLxq7K",
        "colab_type": "code",
        "colab": {
          "base_uri": "https://localhost:8080/",
          "height": 297
        },
        "outputId": "f649c0dc-d9a5-4491-d6e7-3d9410b56e32"
      },
      "source": [
        "sns.barplot(x = df[\"subjects\"],y = df[\"num_subscribers\"])\n",
        "plt.plot()"
      ],
      "execution_count": 82,
      "outputs": [
        {
          "output_type": "execute_result",
          "data": {
            "text/plain": [
              "[]"
            ]
          },
          "metadata": {
            "tags": []
          },
          "execution_count": 82
        },
        {
          "output_type": "display_data",
          "data": {
            "image/png": "[encoded data removed]",
            "text/plain": [
              "<Figure size 432x288 with 1 Axes>"
            ]
          },
          "metadata": {
            "tags": [],
            "needs_background": "light"
          }
        }
      ]
    },
    {
      "cell_type": "code",
      "metadata": {
        "id": "K7g_AoTQIT8v",
        "colab_type": "code",
        "colab": {
          "base_uri": "https://localhost:8080/",
          "height": 297
        },
        "outputId": "2c103486-3f7c-4b7d-c35c-5cb4cfc93fdc"
      },
      "source": [
        "sns.barplot(x = df[\"subjects\"],y = df[\"num_reviews\"])\n",
        "plt.plot()"
      ],
      "execution_count": 83,
      "outputs": [
        {
          "output_type": "execute_result",
          "data": {
            "text/plain": [
              "[]"
            ]
          },
          "metadata": {
            "tags": []
          },
          "execution_count": 83
        },
        {
          "output_type": "display_data",
          "data": {
            "image/png": "[encoded data removed]",
            "text/plain": [
              "<Figure size 432x288 with 1 Axes>"
            ]
          },
          "metadata": {
            "tags": [],
            "needs_background": "light"
          }
        }
      ]
    },
    {
      "cell_type": "code",
      "metadata": {
        "id": "awsUayfnKTDl",
        "colab_type": "code",
        "colab": {
          "base_uri": "https://localhost:8080/",
          "height": 297
        },
        "outputId": "ff0f1f42-1366-4893-e22e-f0f83847b95a"
      },
      "source": [
        "sns.barplot(x = df[\"subjects\"],y = df[\"num_lectures\"])\n",
        "plt.plot()"
      ],
      "execution_count": 84,
      "outputs": [
        {
          "output_type": "execute_result",
          "data": {
            "text/plain": [
              "[]"
            ]
          },
          "metadata": {
            "tags": []
          },
          "execution_count": 84
        },
        {
          "output_type": "display_data",
          "data": {
            "image/png": "[encoded data removed]",
            "text/plain": [
              "<Figure size 432x288 with 1 Axes>"
            ]
          },
          "metadata": {
            "tags": [],
            "needs_background": "light"
          }
        }
      ]
    },
    {
      "cell_type": "code",
      "metadata": {
        "id": "1usPu1RlKZyk",
        "colab_type": "code",
        "colab": {
          "base_uri": "https://localhost:8080/",
          "height": 297
        },
        "outputId": "dfb56804-3586-467a-e6e8-e7d7be8c8997"
      },
      "source": [
        "sns.barplot(x = df[\"subjects\"],y = df[\"content_duration\"])\n",
        "plt.plot()"
      ],
      "execution_count": 85,
      "outputs": [
        {
          "output_type": "execute_result",
          "data": {
            "text/plain": [
              "[]"
            ]
          },
          "metadata": {
            "tags": []
          },
          "execution_count": 85
        },
        {
          "output_type": "display_data",
          "data": {
            "image/png": "[encoded data removed]",
            "text/plain": [
              "<Figure size 432x288 with 1 Axes>"
            ]
          },
          "metadata": {
            "tags": [],
            "needs_background": "light"
          }
        }
      ]
    },
    {
      "cell_type": "markdown",
      "metadata": {
        "id": "-fW-IMr-4dy6",
        "colab_type": "text"
      },
      "source": [
        "\n",
        "*   web development courses have the most number of subscribers\n",
        "*   web development courses have the most number of reviews\n",
        "*   web development courses have the most number of lectures\n",
        "*   web development courses have the largest content duration\n",
        "\n",
        "\n"
      ]
    },
    {
      "cell_type": "markdown",
      "metadata": {
        "id": "gtbp09eyNtHz",
        "colab_type": "text"
      },
      "source": [
        "# Analyzing top 25 courses with most number of subscribers:"
      ]
    },
    {
      "cell_type": "code",
      "metadata": {
        "id": "c86XWUKC3M8V",
        "colab_type": "code",
        "colab": {
          "base_uri": "https://localhost:8080/",
          "height": 1000
        },
        "outputId": "521c94b3-304a-4a1c-d241-737a95a2bee6"
      },
      "source": [
        "df_sorted_sub = df.sort_values(['num_subscribers'],ascending=[False])[0:25]\n",
        "fig = sns.barplot(x = df_sorted_sub[\"course_title\"],y = df_sorted_sub[\"num_subscribers\"])\n",
        "fig.plot()\n",
        "df_sorted_sub"
      ],
      "execution_count": 86,
      "outputs": [
        {
          "output_type": "execute_result",
          "data": {
            "text/html": [
              "<div>\n",
              "<style scoped>\n",
              "    .dataframe tbody tr th:only-of-type {\n",
              "        vertical-align: middle;\n",
              "    }\n",
              "\n",
              "    .dataframe tbody tr th {\n",
              "        vertical-align: top;\n",
              "    }\n",
              "\n",
              "    .dataframe thead th {\n",
              "        text-align: right;\n",
              "    }\n",
              "</style>\n",
              "<table border=\"1\" class=\"dataframe\">\n",
              "  <thead>\n",
              "    <tr style=\"text-align: right;\">\n",
              "      <th></th>\n",
              "      <th>course_id</th>\n",
              "      <th>course_title</th>\n",
              "      <th>url</th>\n",
              "      <th>price</th>\n",
              "      <th>num_subscribers</th>\n",
              "      <th>num_reviews</th>\n",
              "      <th>num_lectures</th>\n",
              "      <th>content_duration</th>\n",
              "      <th>levels</th>\n",
              "      <th>subjects</th>\n",
              "      <th>paid_or_not</th>\n",
              "      <th>publish_timestamp</th>\n",
              "    </tr>\n",
              "  </thead>\n",
              "  <tbody>\n",
              "    <tr>\n",
              "      <th>2827</th>\n",
              "      <td>41295.0</td>\n",
              "      <td>Learn HTML5 Programming From Scratch</td>\n",
              "      <td>https://www.udemy.com/learn-html5-programming-...</td>\n",
              "      <td>0.0</td>\n",
              "      <td>268923.0</td>\n",
              "      <td>8629.0</td>\n",
              "      <td>45.0</td>\n",
              "      <td>10.5</td>\n",
              "      <td>0.0</td>\n",
              "      <td>3.0</td>\n",
              "      <td>0.0</td>\n",
              "      <td>2015.0</td>\n",
              "    </tr>\n",
              "    <tr>\n",
              "      <th>3032</th>\n",
              "      <td>59014.0</td>\n",
              "      <td>Coding for Entrepreneurs Basic</td>\n",
              "      <td>https://www.udemy.com/coding-for-entrepreneurs...</td>\n",
              "      <td>0.0</td>\n",
              "      <td>161029.0</td>\n",
              "      <td>279.0</td>\n",
              "      <td>27.0</td>\n",
              "      <td>3.5</td>\n",
              "      <td>1.0</td>\n",
              "      <td>3.0</td>\n",
              "      <td>0.0</td>\n",
              "      <td>2016.0</td>\n",
              "    </tr>\n",
              "    <tr>\n",
              "      <th>3230</th>\n",
              "      <td>625204.0</td>\n",
              "      <td>The Web Developer Bootcamp</td>\n",
              "      <td>https://www.udemy.com/the-web-developer-bootcamp/</td>\n",
              "      <td>200.0</td>\n",
              "      <td>121584.0</td>\n",
              "      <td>27445.0</td>\n",
              "      <td>342.0</td>\n",
              "      <td>43.0</td>\n",
              "      <td>0.0</td>\n",
              "      <td>3.0</td>\n",
              "      <td>1.0</td>\n",
              "      <td>2016.0</td>\n",
              "    </tr>\n",
              "    <tr>\n",
              "      <th>2783</th>\n",
              "      <td>173548.0</td>\n",
              "      <td>Build Your First Website in 1 Week with HTML5 ...</td>\n",
              "      <td>https://www.udemy.com/build-your-first-website...</td>\n",
              "      <td>0.0</td>\n",
              "      <td>120291.0</td>\n",
              "      <td>5924.0</td>\n",
              "      <td>30.0</td>\n",
              "      <td>3.0</td>\n",
              "      <td>1.0</td>\n",
              "      <td>3.0</td>\n",
              "      <td>0.0</td>\n",
              "      <td>2015.0</td>\n",
              "    </tr>\n",
              "    <tr>\n",
              "      <th>3232</th>\n",
              "      <td>764164.0</td>\n",
              "      <td>The Complete Web Developer Course 2.0</td>\n",
              "      <td>https://www.udemy.com/the-complete-web-develop...</td>\n",
              "      <td>200.0</td>\n",
              "      <td>114512.0</td>\n",
              "      <td>22412.0</td>\n",
              "      <td>304.0</td>\n",
              "      <td>30.5</td>\n",
              "      <td>0.0</td>\n",
              "      <td>3.0</td>\n",
              "      <td>1.0</td>\n",
              "      <td>2016.0</td>\n",
              "    </tr>\n",
              "    <tr>\n",
              "      <th>1896</th>\n",
              "      <td>19421.0</td>\n",
              "      <td>Free Beginner Electric Guitar Lessons</td>\n",
              "      <td>https://www.udemy.com/beginner-electric-guitar...</td>\n",
              "      <td>0.0</td>\n",
              "      <td>101154.0</td>\n",
              "      <td>1042.0</td>\n",
              "      <td>95.0</td>\n",
              "      <td>4.5</td>\n",
              "      <td>1.0</td>\n",
              "      <td>1.0</td>\n",
              "      <td>0.0</td>\n",
              "      <td>2014.0</td>\n",
              "    </tr>\n",
              "    <tr>\n",
              "      <th>2589</th>\n",
              "      <td>473160.0</td>\n",
              "      <td>Web Design for Web Developers: Build Beautiful...</td>\n",
              "      <td>https://www.udemy.com/web-design-secrets/</td>\n",
              "      <td>0.0</td>\n",
              "      <td>98867.0</td>\n",
              "      <td>6512.0</td>\n",
              "      <td>20.0</td>\n",
              "      <td>3.0</td>\n",
              "      <td>0.0</td>\n",
              "      <td>3.0</td>\n",
              "      <td>0.0</td>\n",
              "      <td>2016.0</td>\n",
              "    </tr>\n",
              "    <tr>\n",
              "      <th>2619</th>\n",
              "      <td>94430.0</td>\n",
              "      <td>Learn Javascript &amp; JQuery From Scratch</td>\n",
              "      <td>https://www.udemy.com/learn-javascript-jquery-...</td>\n",
              "      <td>30.0</td>\n",
              "      <td>84897.0</td>\n",
              "      <td>2685.0</td>\n",
              "      <td>10.0</td>\n",
              "      <td>2.0</td>\n",
              "      <td>0.0</td>\n",
              "      <td>3.0</td>\n",
              "      <td>1.0</td>\n",
              "      <td>2015.0</td>\n",
              "    </tr>\n",
              "    <tr>\n",
              "      <th>3289</th>\n",
              "      <td>130064.0</td>\n",
              "      <td>Practical PHP: Master the Basics and Code Dyna...</td>\n",
              "      <td>https://www.udemy.com/code-dynamic-websites/</td>\n",
              "      <td>0.0</td>\n",
              "      <td>83737.0</td>\n",
              "      <td>4598.0</td>\n",
              "      <td>45.0</td>\n",
              "      <td>6.5</td>\n",
              "      <td>0.0</td>\n",
              "      <td>3.0</td>\n",
              "      <td>0.0</td>\n",
              "      <td>2016.0</td>\n",
              "    </tr>\n",
              "    <tr>\n",
              "      <th>3247</th>\n",
              "      <td>364426.0</td>\n",
              "      <td>JavaScript: Understanding the Weird Parts</td>\n",
              "      <td>https://www.udemy.com/understand-javascript/</td>\n",
              "      <td>175.0</td>\n",
              "      <td>79612.0</td>\n",
              "      <td>16976.0</td>\n",
              "      <td>85.0</td>\n",
              "      <td>11.5</td>\n",
              "      <td>0.0</td>\n",
              "      <td>3.0</td>\n",
              "      <td>1.0</td>\n",
              "      <td>2016.0</td>\n",
              "    </tr>\n",
              "    <tr>\n",
              "      <th>1979</th>\n",
              "      <td>238934.0</td>\n",
              "      <td>Pianoforall - Incredible New Way To Learn Pian...</td>\n",
              "      <td>https://www.udemy.com/pianoforall-incredible-n...</td>\n",
              "      <td>200.0</td>\n",
              "      <td>75499.0</td>\n",
              "      <td>7676.0</td>\n",
              "      <td>362.0</td>\n",
              "      <td>30.0</td>\n",
              "      <td>0.0</td>\n",
              "      <td>1.0</td>\n",
              "      <td>1.0</td>\n",
              "      <td>2016.0</td>\n",
              "    </tr>\n",
              "    <tr>\n",
              "      <th>3204</th>\n",
              "      <td>756150.0</td>\n",
              "      <td>Angular 4 (formerly Angular 2) - The Complete ...</td>\n",
              "      <td>https://www.udemy.com/the-complete-guide-to-an...</td>\n",
              "      <td>190.0</td>\n",
              "      <td>73783.0</td>\n",
              "      <td>19649.0</td>\n",
              "      <td>329.0</td>\n",
              "      <td>22.0</td>\n",
              "      <td>0.0</td>\n",
              "      <td>3.0</td>\n",
              "      <td>1.0</td>\n",
              "      <td>2016.0</td>\n",
              "    </tr>\n",
              "    <tr>\n",
              "      <th>3665</th>\n",
              "      <td>21386.0</td>\n",
              "      <td>Beginner Photoshop to HTML5 and CSS3</td>\n",
              "      <td>https://www.udemy.com/psd-html5-css3/</td>\n",
              "      <td>0.0</td>\n",
              "      <td>73110.0</td>\n",
              "      <td>1716.0</td>\n",
              "      <td>22.0</td>\n",
              "      <td>2.0</td>\n",
              "      <td>0.0</td>\n",
              "      <td>3.0</td>\n",
              "      <td>0.0</td>\n",
              "      <td>2015.0</td>\n",
              "    </tr>\n",
              "    <tr>\n",
              "      <th>2782</th>\n",
              "      <td>65330.0</td>\n",
              "      <td>Web Development By Doing: HTML / CSS From Scratch</td>\n",
              "      <td>https://www.udemy.com/web-development-learn-by...</td>\n",
              "      <td>0.0</td>\n",
              "      <td>72932.0</td>\n",
              "      <td>2575.0</td>\n",
              "      <td>21.0</td>\n",
              "      <td>1.0</td>\n",
              "      <td>1.0</td>\n",
              "      <td>3.0</td>\n",
              "      <td>0.0</td>\n",
              "      <td>2015.0</td>\n",
              "    </tr>\n",
              "    <tr>\n",
              "      <th>3325</th>\n",
              "      <td>405926.0</td>\n",
              "      <td>HTML and CSS for Beginners - Build a Website &amp;...</td>\n",
              "      <td>https://www.udemy.com/html-and-css-for-beginne...</td>\n",
              "      <td>0.0</td>\n",
              "      <td>70773.0</td>\n",
              "      <td>5660.0</td>\n",
              "      <td>50.0</td>\n",
              "      <td>6.0</td>\n",
              "      <td>0.0</td>\n",
              "      <td>3.0</td>\n",
              "      <td>0.0</td>\n",
              "      <td>2015.0</td>\n",
              "    </tr>\n",
              "    <tr>\n",
              "      <th>2701</th>\n",
              "      <td>11174.0</td>\n",
              "      <td>Become a Web Developer from Scratch</td>\n",
              "      <td>https://www.udemy.com/how-to-become-a-web-deve...</td>\n",
              "      <td>120.0</td>\n",
              "      <td>69186.0</td>\n",
              "      <td>2408.0</td>\n",
              "      <td>197.0</td>\n",
              "      <td>27.5</td>\n",
              "      <td>0.0</td>\n",
              "      <td>3.0</td>\n",
              "      <td>1.0</td>\n",
              "      <td>2013.0</td>\n",
              "    </tr>\n",
              "    <tr>\n",
              "      <th>492</th>\n",
              "      <td>49798.0</td>\n",
              "      <td>Bitcoin or How I Learned to Stop Worrying and ...</td>\n",
              "      <td>https://www.udemy.com/bitcoin-or-how-i-learned...</td>\n",
              "      <td>0.0</td>\n",
              "      <td>65576.0</td>\n",
              "      <td>936.0</td>\n",
              "      <td>24.0</td>\n",
              "      <td>8.0</td>\n",
              "      <td>0.0</td>\n",
              "      <td>0.0</td>\n",
              "      <td>0.0</td>\n",
              "      <td>2013.0</td>\n",
              "    </tr>\n",
              "    <tr>\n",
              "      <th>2592</th>\n",
              "      <td>314462.0</td>\n",
              "      <td>Quickstart AngularJS</td>\n",
              "      <td>https://www.udemy.com/quickstart-angularjs/</td>\n",
              "      <td>0.0</td>\n",
              "      <td>64128.0</td>\n",
              "      <td>4047.0</td>\n",
              "      <td>17.0</td>\n",
              "      <td>1.5</td>\n",
              "      <td>1.0</td>\n",
              "      <td>3.0</td>\n",
              "      <td>0.0</td>\n",
              "      <td>2016.0</td>\n",
              "    </tr>\n",
              "    <tr>\n",
              "      <th>3219</th>\n",
              "      <td>128946.0</td>\n",
              "      <td>Learn Responsive Web Development from Scratch</td>\n",
              "      <td>https://www.udemy.com/learn-responsive-web-dev...</td>\n",
              "      <td>0.0</td>\n",
              "      <td>59639.0</td>\n",
              "      <td>2692.0</td>\n",
              "      <td>24.0</td>\n",
              "      <td>4.5</td>\n",
              "      <td>0.0</td>\n",
              "      <td>3.0</td>\n",
              "      <td>0.0</td>\n",
              "      <td>2017.0</td>\n",
              "    </tr>\n",
              "    <tr>\n",
              "      <th>3246</th>\n",
              "      <td>289230.0</td>\n",
              "      <td>Learn and Understand AngularJS</td>\n",
              "      <td>https://www.udemy.com/learn-angularjs/</td>\n",
              "      <td>175.0</td>\n",
              "      <td>59361.0</td>\n",
              "      <td>11580.0</td>\n",
              "      <td>55.0</td>\n",
              "      <td>7.0</td>\n",
              "      <td>0.0</td>\n",
              "      <td>3.0</td>\n",
              "      <td>1.0</td>\n",
              "      <td>2016.0</td>\n",
              "    </tr>\n",
              "    <tr>\n",
              "      <th>3251</th>\n",
              "      <td>461160.0</td>\n",
              "      <td>Learn and Understand NodeJS</td>\n",
              "      <td>https://www.udemy.com/understand-nodejs/</td>\n",
              "      <td>195.0</td>\n",
              "      <td>58208.0</td>\n",
              "      <td>11123.0</td>\n",
              "      <td>98.0</td>\n",
              "      <td>13.0</td>\n",
              "      <td>0.0</td>\n",
              "      <td>3.0</td>\n",
              "      <td>1.0</td>\n",
              "      <td>2017.0</td>\n",
              "    </tr>\n",
              "    <tr>\n",
              "      <th>2662</th>\n",
              "      <td>556248.0</td>\n",
              "      <td>The Complete HTML &amp; CSS Course - From Novice T...</td>\n",
              "      <td>https://www.udemy.com/htmlwebsite/</td>\n",
              "      <td>195.0</td>\n",
              "      <td>57422.0</td>\n",
              "      <td>874.0</td>\n",
              "      <td>84.0</td>\n",
              "      <td>7.5</td>\n",
              "      <td>0.0</td>\n",
              "      <td>3.0</td>\n",
              "      <td>1.0</td>\n",
              "      <td>2015.0</td>\n",
              "    </tr>\n",
              "    <tr>\n",
              "      <th>143</th>\n",
              "      <td>48841.0</td>\n",
              "      <td>Accounting in 60 Minutes - A Brief Introduction</td>\n",
              "      <td>https://www.udemy.com/accounting-in-60-minutes...</td>\n",
              "      <td>0.0</td>\n",
              "      <td>56659.0</td>\n",
              "      <td>4397.0</td>\n",
              "      <td>16.0</td>\n",
              "      <td>1.5</td>\n",
              "      <td>1.0</td>\n",
              "      <td>0.0</td>\n",
              "      <td>0.0</td>\n",
              "      <td>2013.0</td>\n",
              "    </tr>\n",
              "    <tr>\n",
              "      <th>3175</th>\n",
              "      <td>580466.0</td>\n",
              "      <td>Complete PHP Course With Bootstrap3 CMS System...</td>\n",
              "      <td>https://www.udemy.com/complete-php-course/</td>\n",
              "      <td>195.0</td>\n",
              "      <td>55332.0</td>\n",
              "      <td>1225.0</td>\n",
              "      <td>144.0</td>\n",
              "      <td>20.0</td>\n",
              "      <td>0.0</td>\n",
              "      <td>3.0</td>\n",
              "      <td>1.0</td>\n",
              "      <td>2014.0</td>\n",
              "    </tr>\n",
              "    <tr>\n",
              "      <th>1461</th>\n",
              "      <td>348116.0</td>\n",
              "      <td>Photoshop In-Depth: Master all of Photoshop's ...</td>\n",
              "      <td>https://www.udemy.com/photoshop-tools/</td>\n",
              "      <td>0.0</td>\n",
              "      <td>53851.0</td>\n",
              "      <td>1779.0</td>\n",
              "      <td>45.0</td>\n",
              "      <td>4.5</td>\n",
              "      <td>0.0</td>\n",
              "      <td>2.0</td>\n",
              "      <td>0.0</td>\n",
              "      <td>2016.0</td>\n",
              "    </tr>\n",
              "  </tbody>\n",
              "</table>\n",
              "</div>"
            ],
            "text/plain": [
              "      course_id  ... publish_timestamp\n",
              "2827    41295.0  ...            2015.0\n",
              "3032    59014.0  ...            2016.0\n",
              "3230   625204.0  ...            2016.0\n",
              "2783   173548.0  ...            2015.0\n",
              "3232   764164.0  ...            2016.0\n",
              "1896    19421.0  ...            2014.0\n",
              "2589   473160.0  ...            2016.0\n",
              "2619    94430.0  ...            2015.0\n",
              "3289   130064.0  ...            2016.0\n",
              "3247   364426.0  ...            2016.0\n",
              "1979   238934.0  ...            2016.0\n",
              "3204   756150.0  ...            2016.0\n",
              "3665    21386.0  ...            2015.0\n",
              "2782    65330.0  ...            2015.0\n",
              "3325   405926.0  ...            2015.0\n",
              "2701    11174.0  ...            2013.0\n",
              "492     49798.0  ...            2013.0\n",
              "2592   314462.0  ...            2016.0\n",
              "3219   128946.0  ...            2017.0\n",
              "3246   289230.0  ...            2016.0\n",
              "3251   461160.0  ...            2017.0\n",
              "2662   556248.0  ...            2015.0\n",
              "143     48841.0  ...            2013.0\n",
              "3175   580466.0  ...            2014.0\n",
              "1461   348116.0  ...            2016.0\n",
              "\n",
              "[25 rows x 12 columns]"
            ]
          },
          "metadata": {
            "tags": []
          },
          "execution_count": 86
        },
        {
          "output_type": "display_data",
          "data": {
            "image/png": "[encoded data removed]",
            "text/plain": [
              "<Figure size 432x288 with 1 Axes>"
            ]
          },
          "metadata": {
            "tags": [],
            "needs_background": "light"
          }
        }
      ]
    },
    {
      "cell_type": "code",
      "metadata": {
        "id": "_vNWluEHLQFO",
        "colab_type": "code",
        "colab": {
          "base_uri": "https://localhost:8080/",
          "height": 383
        },
        "outputId": "cbc3ba50-5ba1-4ea9-d3c9-a3e46d6a7f7d"
      },
      "source": [
        "print((df_sorted_sub[\"subjects\"].value_counts()/25.0)*100)\n",
        "fig = sns.distplot(df_sorted_sub[\"subjects\"],kde = False)\n",
        "fig.plot()\n"
      ],
      "execution_count": 87,
      "outputs": [
        {
          "output_type": "stream",
          "text": [
            "3.0    80.0\n",
            "0.0     8.0\n",
            "1.0     8.0\n",
            "2.0     4.0\n",
            "Name: subjects, dtype: float64\n"
          ],
          "name": "stdout"
        },
        {
          "output_type": "execute_result",
          "data": {
            "text/plain": [
              "[]"
            ]
          },
          "metadata": {
            "tags": []
          },
          "execution_count": 87
        },
        {
          "output_type": "display_data",
          "data": {
            "image/png": "[encoded data removed]",
            "text/plain": [
              "<Figure size 432x288 with 1 Axes>"
            ]
          },
          "metadata": {
            "tags": [],
            "needs_background": "light"
          }
        }
      ]
    },
    {
      "cell_type": "code",
      "metadata": {
        "id": "pAniUKExMoKZ",
        "colab_type": "code",
        "colab": {
          "base_uri": "https://localhost:8080/",
          "height": 349
        },
        "outputId": "74f47cfe-750c-4f89-91cb-a484d151cdfb"
      },
      "source": [
        "print((df_sorted_sub[\"paid_or_not\"].value_counts()/25.0)*100)\n",
        "fig = sns.distplot(df_sorted_sub[\"paid_or_not\"],kde = False)\n",
        "fig.plot()\n"
      ],
      "execution_count": 88,
      "outputs": [
        {
          "output_type": "stream",
          "text": [
            "0.0    56.0\n",
            "1.0    44.0\n",
            "Name: paid_or_not, dtype: float64\n"
          ],
          "name": "stdout"
        },
        {
          "output_type": "execute_result",
          "data": {
            "text/plain": [
              "[]"
            ]
          },
          "metadata": {
            "tags": []
          },
          "execution_count": 88
        },
        {
          "output_type": "display_data",
          "data": {
            "image/png": "[encoded data removed]",
            "text/plain": [
              "<Figure size 432x288 with 1 Axes>"
            ]
          },
          "metadata": {
            "tags": [],
            "needs_background": "light"
          }
        }
      ]
    },
    {
      "cell_type": "code",
      "metadata": {
        "id": "P0pRsc1vM4Je",
        "colab_type": "code",
        "colab": {
          "base_uri": "https://localhost:8080/",
          "height": 349
        },
        "outputId": "e9c93753-2c28-448c-c731-c0b4a915b294"
      },
      "source": [
        "print((df_sorted_sub[\"levels\"].value_counts()/25.0)*100)\n",
        "fig = sns.distplot(df_sorted_sub[\"levels\"],kde = False)\n",
        "fig.plot()"
      ],
      "execution_count": 89,
      "outputs": [
        {
          "output_type": "stream",
          "text": [
            "0.0    76.0\n",
            "1.0    24.0\n",
            "Name: levels, dtype: float64\n"
          ],
          "name": "stdout"
        },
        {
          "output_type": "execute_result",
          "data": {
            "text/plain": [
              "[]"
            ]
          },
          "metadata": {
            "tags": []
          },
          "execution_count": 89
        },
        {
          "output_type": "display_data",
          "data": {
            "image/png": "[encoded data removed]",
            "text/plain": [
              "<Figure size 432x288 with 1 Axes>"
            ]
          },
          "metadata": {
            "tags": [],
            "needs_background": "light"
          }
        }
      ]
    },
    {
      "cell_type": "markdown",
      "metadata": {
        "id": "DZoaxuAA2-ru",
        "colab_type": "text"
      },
      "source": [
        "*   Intrestingly 80% of the top 25 courses are web development courses while musical instrument courses and business courses are 8% and rest graphic designing ccourses\n",
        "*   Out of them 44% are paid and 56% are unpaid\n",
        "*   76% of the courses are of \"All level\" courses while\n",
        "rest are \"Intermediate level\" courses. No other levels are available"
      ]
    },
    {
      "cell_type": "markdown",
      "metadata": {
        "id": "yiHDiFX-N6Bz",
        "colab_type": "text"
      },
      "source": [
        "# Analyzing top 25 courses with most number of reviews:"
      ]
    },
    {
      "cell_type": "code",
      "metadata": {
        "id": "btQVkqaH56NR",
        "colab_type": "code",
        "colab": {
          "base_uri": "https://localhost:8080/",
          "height": 1000
        },
        "outputId": "a660733e-933f-43d1-e67d-87793aee0df6"
      },
      "source": [
        "df_sorted_rev = df.sort_values(['num_reviews'],ascending=[False])[0:25]\n",
        "fig = sns.barplot(x = df_sorted_rev[\"course_title\"],y = df_sorted_rev[\"num_reviews\"])\n",
        "fig.plot()\n",
        "df_sorted_rev"
      ],
      "execution_count": 90,
      "outputs": [
        {
          "output_type": "execute_result",
          "data": {
            "text/html": [
              "<div>\n",
              "<style scoped>\n",
              "    .dataframe tbody tr th:only-of-type {\n",
              "        vertical-align: middle;\n",
              "    }\n",
              "\n",
              "    .dataframe tbody tr th {\n",
              "        vertical-align: top;\n",
              "    }\n",
              "\n",
              "    .dataframe thead th {\n",
              "        text-align: right;\n",
              "    }\n",
              "</style>\n",
              "<table border=\"1\" class=\"dataframe\">\n",
              "  <thead>\n",
              "    <tr style=\"text-align: right;\">\n",
              "      <th></th>\n",
              "      <th>course_id</th>\n",
              "      <th>course_title</th>\n",
              "      <th>url</th>\n",
              "      <th>price</th>\n",
              "      <th>num_subscribers</th>\n",
              "      <th>num_reviews</th>\n",
              "      <th>num_lectures</th>\n",
              "      <th>content_duration</th>\n",
              "      <th>levels</th>\n",
              "      <th>subjects</th>\n",
              "      <th>paid_or_not</th>\n",
              "      <th>publish_timestamp</th>\n",
              "    </tr>\n",
              "  </thead>\n",
              "  <tbody>\n",
              "    <tr>\n",
              "      <th>3230</th>\n",
              "      <td>625204.0</td>\n",
              "      <td>The Web Developer Bootcamp</td>\n",
              "      <td>https://www.udemy.com/the-web-developer-bootcamp/</td>\n",
              "      <td>200.0</td>\n",
              "      <td>121584.0</td>\n",
              "      <td>27445.0</td>\n",
              "      <td>342.0</td>\n",
              "      <td>43.0</td>\n",
              "      <td>0.0</td>\n",
              "      <td>3.0</td>\n",
              "      <td>1.0</td>\n",
              "      <td>2016.0</td>\n",
              "    </tr>\n",
              "    <tr>\n",
              "      <th>3232</th>\n",
              "      <td>764164.0</td>\n",
              "      <td>The Complete Web Developer Course 2.0</td>\n",
              "      <td>https://www.udemy.com/the-complete-web-develop...</td>\n",
              "      <td>200.0</td>\n",
              "      <td>114512.0</td>\n",
              "      <td>22412.0</td>\n",
              "      <td>304.0</td>\n",
              "      <td>30.5</td>\n",
              "      <td>0.0</td>\n",
              "      <td>3.0</td>\n",
              "      <td>1.0</td>\n",
              "      <td>2016.0</td>\n",
              "    </tr>\n",
              "    <tr>\n",
              "      <th>3204</th>\n",
              "      <td>756150.0</td>\n",
              "      <td>Angular 4 (formerly Angular 2) - The Complete ...</td>\n",
              "      <td>https://www.udemy.com/the-complete-guide-to-an...</td>\n",
              "      <td>190.0</td>\n",
              "      <td>73783.0</td>\n",
              "      <td>19649.0</td>\n",
              "      <td>329.0</td>\n",
              "      <td>22.0</td>\n",
              "      <td>0.0</td>\n",
              "      <td>3.0</td>\n",
              "      <td>1.0</td>\n",
              "      <td>2016.0</td>\n",
              "    </tr>\n",
              "    <tr>\n",
              "      <th>3247</th>\n",
              "      <td>364426.0</td>\n",
              "      <td>JavaScript: Understanding the Weird Parts</td>\n",
              "      <td>https://www.udemy.com/understand-javascript/</td>\n",
              "      <td>175.0</td>\n",
              "      <td>79612.0</td>\n",
              "      <td>16976.0</td>\n",
              "      <td>85.0</td>\n",
              "      <td>11.5</td>\n",
              "      <td>0.0</td>\n",
              "      <td>3.0</td>\n",
              "      <td>1.0</td>\n",
              "      <td>2016.0</td>\n",
              "    </tr>\n",
              "    <tr>\n",
              "      <th>3254</th>\n",
              "      <td>705264.0</td>\n",
              "      <td>Modern React with Redux</td>\n",
              "      <td>https://www.udemy.com/react-redux/</td>\n",
              "      <td>180.0</td>\n",
              "      <td>50815.0</td>\n",
              "      <td>15117.0</td>\n",
              "      <td>150.0</td>\n",
              "      <td>26.5</td>\n",
              "      <td>0.0</td>\n",
              "      <td>3.0</td>\n",
              "      <td>1.0</td>\n",
              "      <td>2013.0</td>\n",
              "    </tr>\n",
              "    <tr>\n",
              "      <th>3246</th>\n",
              "      <td>289230.0</td>\n",
              "      <td>Learn and Understand AngularJS</td>\n",
              "      <td>https://www.udemy.com/learn-angularjs/</td>\n",
              "      <td>175.0</td>\n",
              "      <td>59361.0</td>\n",
              "      <td>11580.0</td>\n",
              "      <td>55.0</td>\n",
              "      <td>7.0</td>\n",
              "      <td>0.0</td>\n",
              "      <td>3.0</td>\n",
              "      <td>1.0</td>\n",
              "      <td>2016.0</td>\n",
              "    </tr>\n",
              "    <tr>\n",
              "      <th>3251</th>\n",
              "      <td>461160.0</td>\n",
              "      <td>Learn and Understand NodeJS</td>\n",
              "      <td>https://www.udemy.com/understand-nodejs/</td>\n",
              "      <td>195.0</td>\n",
              "      <td>58208.0</td>\n",
              "      <td>11123.0</td>\n",
              "      <td>98.0</td>\n",
              "      <td>13.0</td>\n",
              "      <td>0.0</td>\n",
              "      <td>3.0</td>\n",
              "      <td>1.0</td>\n",
              "      <td>2017.0</td>\n",
              "    </tr>\n",
              "    <tr>\n",
              "      <th>2827</th>\n",
              "      <td>41295.0</td>\n",
              "      <td>Learn HTML5 Programming From Scratch</td>\n",
              "      <td>https://www.udemy.com/learn-html5-programming-...</td>\n",
              "      <td>0.0</td>\n",
              "      <td>268923.0</td>\n",
              "      <td>8629.0</td>\n",
              "      <td>45.0</td>\n",
              "      <td>10.5</td>\n",
              "      <td>0.0</td>\n",
              "      <td>3.0</td>\n",
              "      <td>0.0</td>\n",
              "      <td>2015.0</td>\n",
              "    </tr>\n",
              "    <tr>\n",
              "      <th>3228</th>\n",
              "      <td>719002.0</td>\n",
              "      <td>Angular 2 with TypeScript for Beginners: The P...</td>\n",
              "      <td>https://www.udemy.com/angular-2-tutorial-for-b...</td>\n",
              "      <td>150.0</td>\n",
              "      <td>40070.0</td>\n",
              "      <td>8341.0</td>\n",
              "      <td>194.0</td>\n",
              "      <td>9.5</td>\n",
              "      <td>0.0</td>\n",
              "      <td>3.0</td>\n",
              "      <td>1.0</td>\n",
              "      <td>2016.0</td>\n",
              "    </tr>\n",
              "    <tr>\n",
              "      <th>1979</th>\n",
              "      <td>238934.0</td>\n",
              "      <td>Pianoforall - Incredible New Way To Learn Pian...</td>\n",
              "      <td>https://www.udemy.com/pianoforall-incredible-n...</td>\n",
              "      <td>200.0</td>\n",
              "      <td>75499.0</td>\n",
              "      <td>7676.0</td>\n",
              "      <td>362.0</td>\n",
              "      <td>30.0</td>\n",
              "      <td>0.0</td>\n",
              "      <td>1.0</td>\n",
              "      <td>1.0</td>\n",
              "      <td>2016.0</td>\n",
              "    </tr>\n",
              "    <tr>\n",
              "      <th>3249</th>\n",
              "      <td>437398.0</td>\n",
              "      <td>Build Responsive Real World Websites with HTML...</td>\n",
              "      <td>https://www.udemy.com/design-and-develop-a-kil...</td>\n",
              "      <td>195.0</td>\n",
              "      <td>43977.0</td>\n",
              "      <td>7106.0</td>\n",
              "      <td>77.0</td>\n",
              "      <td>12.0</td>\n",
              "      <td>0.0</td>\n",
              "      <td>3.0</td>\n",
              "      <td>1.0</td>\n",
              "      <td>2017.0</td>\n",
              "    </tr>\n",
              "    <tr>\n",
              "      <th>2589</th>\n",
              "      <td>473160.0</td>\n",
              "      <td>Web Design for Web Developers: Build Beautiful...</td>\n",
              "      <td>https://www.udemy.com/web-design-secrets/</td>\n",
              "      <td>0.0</td>\n",
              "      <td>98867.0</td>\n",
              "      <td>6512.0</td>\n",
              "      <td>20.0</td>\n",
              "      <td>3.0</td>\n",
              "      <td>0.0</td>\n",
              "      <td>3.0</td>\n",
              "      <td>0.0</td>\n",
              "      <td>2016.0</td>\n",
              "    </tr>\n",
              "    <tr>\n",
              "      <th>3256</th>\n",
              "      <td>806922.0</td>\n",
              "      <td>The Complete ASP.NET MVC 5 Course</td>\n",
              "      <td>https://www.udemy.com/the-complete-aspnet-mvc-...</td>\n",
              "      <td>190.0</td>\n",
              "      <td>20652.0</td>\n",
              "      <td>6357.0</td>\n",
              "      <td>138.0</td>\n",
              "      <td>7.5</td>\n",
              "      <td>0.0</td>\n",
              "      <td>3.0</td>\n",
              "      <td>1.0</td>\n",
              "      <td>2012.0</td>\n",
              "    </tr>\n",
              "    <tr>\n",
              "      <th>2783</th>\n",
              "      <td>173548.0</td>\n",
              "      <td>Build Your First Website in 1 Week with HTML5 ...</td>\n",
              "      <td>https://www.udemy.com/build-your-first-website...</td>\n",
              "      <td>0.0</td>\n",
              "      <td>120291.0</td>\n",
              "      <td>5924.0</td>\n",
              "      <td>30.0</td>\n",
              "      <td>3.0</td>\n",
              "      <td>1.0</td>\n",
              "      <td>3.0</td>\n",
              "      <td>0.0</td>\n",
              "      <td>2015.0</td>\n",
              "    </tr>\n",
              "    <tr>\n",
              "      <th>3325</th>\n",
              "      <td>405926.0</td>\n",
              "      <td>HTML and CSS for Beginners - Build a Website &amp;...</td>\n",
              "      <td>https://www.udemy.com/html-and-css-for-beginne...</td>\n",
              "      <td>0.0</td>\n",
              "      <td>70773.0</td>\n",
              "      <td>5660.0</td>\n",
              "      <td>50.0</td>\n",
              "      <td>6.0</td>\n",
              "      <td>0.0</td>\n",
              "      <td>3.0</td>\n",
              "      <td>0.0</td>\n",
              "      <td>2015.0</td>\n",
              "    </tr>\n",
              "    <tr>\n",
              "      <th>3385</th>\n",
              "      <td>707962.0</td>\n",
              "      <td>Javascript Essentials</td>\n",
              "      <td>https://www.udemy.com/javascript-essentials/</td>\n",
              "      <td>0.0</td>\n",
              "      <td>47062.0</td>\n",
              "      <td>5590.0</td>\n",
              "      <td>41.0</td>\n",
              "      <td>8.5</td>\n",
              "      <td>1.0</td>\n",
              "      <td>3.0</td>\n",
              "      <td>0.0</td>\n",
              "      <td>2017.0</td>\n",
              "    </tr>\n",
              "    <tr>\n",
              "      <th>3224</th>\n",
              "      <td>995016.0</td>\n",
              "      <td>Vue JS 2 - The Complete Guide (incl. Vue Route...</td>\n",
              "      <td>https://www.udemy.com/vuejs-2-the-complete-guide/</td>\n",
              "      <td>190.0</td>\n",
              "      <td>17671.0</td>\n",
              "      <td>4675.0</td>\n",
              "      <td>329.0</td>\n",
              "      <td>18.0</td>\n",
              "      <td>0.0</td>\n",
              "      <td>3.0</td>\n",
              "      <td>1.0</td>\n",
              "      <td>2015.0</td>\n",
              "    </tr>\n",
              "    <tr>\n",
              "      <th>3289</th>\n",
              "      <td>130064.0</td>\n",
              "      <td>Practical PHP: Master the Basics and Code Dyna...</td>\n",
              "      <td>https://www.udemy.com/code-dynamic-websites/</td>\n",
              "      <td>0.0</td>\n",
              "      <td>83737.0</td>\n",
              "      <td>4598.0</td>\n",
              "      <td>45.0</td>\n",
              "      <td>6.5</td>\n",
              "      <td>0.0</td>\n",
              "      <td>3.0</td>\n",
              "      <td>0.0</td>\n",
              "      <td>2016.0</td>\n",
              "    </tr>\n",
              "    <tr>\n",
              "      <th>3233</th>\n",
              "      <td>446134.0</td>\n",
              "      <td>Ultimate Web Designer &amp; Developer Course: Buil...</td>\n",
              "      <td>https://www.udemy.com/web-developer-course/</td>\n",
              "      <td>200.0</td>\n",
              "      <td>33788.0</td>\n",
              "      <td>4434.0</td>\n",
              "      <td>246.0</td>\n",
              "      <td>32.5</td>\n",
              "      <td>0.0</td>\n",
              "      <td>3.0</td>\n",
              "      <td>1.0</td>\n",
              "      <td>2015.0</td>\n",
              "    </tr>\n",
              "    <tr>\n",
              "      <th>143</th>\n",
              "      <td>48841.0</td>\n",
              "      <td>Accounting in 60 Minutes - A Brief Introduction</td>\n",
              "      <td>https://www.udemy.com/accounting-in-60-minutes...</td>\n",
              "      <td>0.0</td>\n",
              "      <td>56659.0</td>\n",
              "      <td>4397.0</td>\n",
              "      <td>16.0</td>\n",
              "      <td>1.5</td>\n",
              "      <td>1.0</td>\n",
              "      <td>0.0</td>\n",
              "      <td>0.0</td>\n",
              "      <td>2013.0</td>\n",
              "    </tr>\n",
              "    <tr>\n",
              "      <th>3226</th>\n",
              "      <td>851712.0</td>\n",
              "      <td>The Complete JavaScript Course: Build a Real-W...</td>\n",
              "      <td>https://www.udemy.com/the-complete-javascript-...</td>\n",
              "      <td>195.0</td>\n",
              "      <td>27801.0</td>\n",
              "      <td>4340.0</td>\n",
              "      <td>113.0</td>\n",
              "      <td>17.5</td>\n",
              "      <td>0.0</td>\n",
              "      <td>3.0</td>\n",
              "      <td>1.0</td>\n",
              "      <td>2016.0</td>\n",
              "    </tr>\n",
              "    <tr>\n",
              "      <th>3206</th>\n",
              "      <td>405282.0</td>\n",
              "      <td>PHP for Beginners -Become a PHP Master - Proje...</td>\n",
              "      <td>https://www.udemy.com/php-for-complete-beginne...</td>\n",
              "      <td>200.0</td>\n",
              "      <td>28880.0</td>\n",
              "      <td>4316.0</td>\n",
              "      <td>286.0</td>\n",
              "      <td>30.5</td>\n",
              "      <td>0.0</td>\n",
              "      <td>3.0</td>\n",
              "      <td>1.0</td>\n",
              "      <td>2015.0</td>\n",
              "    </tr>\n",
              "    <tr>\n",
              "      <th>2592</th>\n",
              "      <td>314462.0</td>\n",
              "      <td>Quickstart AngularJS</td>\n",
              "      <td>https://www.udemy.com/quickstart-angularjs/</td>\n",
              "      <td>0.0</td>\n",
              "      <td>64128.0</td>\n",
              "      <td>4047.0</td>\n",
              "      <td>17.0</td>\n",
              "      <td>1.5</td>\n",
              "      <td>1.0</td>\n",
              "      <td>3.0</td>\n",
              "      <td>0.0</td>\n",
              "      <td>2016.0</td>\n",
              "    </tr>\n",
              "    <tr>\n",
              "      <th>3208</th>\n",
              "      <td>519442.0</td>\n",
              "      <td>The Complete Ruby on Rails Developer Course</td>\n",
              "      <td>https://www.udemy.com/the-complete-ruby-on-rai...</td>\n",
              "      <td>195.0</td>\n",
              "      <td>33677.0</td>\n",
              "      <td>3809.0</td>\n",
              "      <td>283.0</td>\n",
              "      <td>31.5</td>\n",
              "      <td>0.0</td>\n",
              "      <td>3.0</td>\n",
              "      <td>1.0</td>\n",
              "      <td>2016.0</td>\n",
              "    </tr>\n",
              "    <tr>\n",
              "      <th>3253</th>\n",
              "      <td>781532.0</td>\n",
              "      <td>Advanced React and Redux</td>\n",
              "      <td>https://www.udemy.com/react-redux-tutorial/</td>\n",
              "      <td>140.0</td>\n",
              "      <td>21998.0</td>\n",
              "      <td>3326.0</td>\n",
              "      <td>119.0</td>\n",
              "      <td>12.0</td>\n",
              "      <td>2.0</td>\n",
              "      <td>3.0</td>\n",
              "      <td>1.0</td>\n",
              "      <td>2015.0</td>\n",
              "    </tr>\n",
              "  </tbody>\n",
              "</table>\n",
              "</div>"
            ],
            "text/plain": [
              "      course_id  ... publish_timestamp\n",
              "3230   625204.0  ...            2016.0\n",
              "3232   764164.0  ...            2016.0\n",
              "3204   756150.0  ...            2016.0\n",
              "3247   364426.0  ...            2016.0\n",
              "3254   705264.0  ...            2013.0\n",
              "3246   289230.0  ...            2016.0\n",
              "3251   461160.0  ...            2017.0\n",
              "2827    41295.0  ...            2015.0\n",
              "3228   719002.0  ...            2016.0\n",
              "1979   238934.0  ...            2016.0\n",
              "3249   437398.0  ...            2017.0\n",
              "2589   473160.0  ...            2016.0\n",
              "3256   806922.0  ...            2012.0\n",
              "2783   173548.0  ...            2015.0\n",
              "3325   405926.0  ...            2015.0\n",
              "3385   707962.0  ...            2017.0\n",
              "3224   995016.0  ...            2015.0\n",
              "3289   130064.0  ...            2016.0\n",
              "3233   446134.0  ...            2015.0\n",
              "143     48841.0  ...            2013.0\n",
              "3226   851712.0  ...            2016.0\n",
              "3206   405282.0  ...            2015.0\n",
              "2592   314462.0  ...            2016.0\n",
              "3208   519442.0  ...            2016.0\n",
              "3253   781532.0  ...            2015.0\n",
              "\n",
              "[25 rows x 12 columns]"
            ]
          },
          "metadata": {
            "tags": []
          },
          "execution_count": 90
        },
        {
          "output_type": "display_data",
          "data": {
            "image/png": "[encoded data removed]",
            "text/plain": [
              "<Figure size 432x288 with 1 Axes>"
            ]
          },
          "metadata": {
            "tags": [],
            "needs_background": "light"
          }
        }
      ]
    },
    {
      "cell_type": "code",
      "metadata": {
        "id": "5F5IYBlR7zdg",
        "colab_type": "code",
        "colab": {
          "base_uri": "https://localhost:8080/",
          "height": 366
        },
        "outputId": "7df87612-6922-4b07-daaf-5975aacf9204"
      },
      "source": [
        "print((df_sorted_rev[\"subjects\"].value_counts()/25.0)*100)\n",
        "fig = sns.distplot(df_sorted_rev[\"subjects\"],kde = False)\n",
        "fig.plot()"
      ],
      "execution_count": 91,
      "outputs": [
        {
          "output_type": "stream",
          "text": [
            "3.0    92.0\n",
            "0.0     4.0\n",
            "1.0     4.0\n",
            "Name: subjects, dtype: float64\n"
          ],
          "name": "stdout"
        },
        {
          "output_type": "execute_result",
          "data": {
            "text/plain": [
              "[]"
            ]
          },
          "metadata": {
            "tags": []
          },
          "execution_count": 91
        },
        {
          "output_type": "display_data",
          "data": {
            "image/png": "[encoded data removed]",
            "text/plain": [
              "<Figure size 432x288 with 1 Axes>"
            ]
          },
          "metadata": {
            "tags": [],
            "needs_background": "light"
          }
        }
      ]
    },
    {
      "cell_type": "code",
      "metadata": {
        "id": "1Vc26J1YNUyF",
        "colab_type": "code",
        "colab": {
          "base_uri": "https://localhost:8080/",
          "height": 349
        },
        "outputId": "8e313bf8-dfff-4bc1-d3cf-dc68d54bab17"
      },
      "source": [
        "print((df_sorted_rev[\"paid_or_not\"].value_counts()/25.0)*100)\n",
        "fig = sns.distplot(df_sorted_rev[\"paid_or_not\"],kde = False)\n",
        "fig.plot()"
      ],
      "execution_count": 92,
      "outputs": [
        {
          "output_type": "stream",
          "text": [
            "1.0    68.0\n",
            "0.0    32.0\n",
            "Name: paid_or_not, dtype: float64\n"
          ],
          "name": "stdout"
        },
        {
          "output_type": "execute_result",
          "data": {
            "text/plain": [
              "[]"
            ]
          },
          "metadata": {
            "tags": []
          },
          "execution_count": 92
        },
        {
          "output_type": "display_data",
          "data": {
            "image/png": "[encoded data removed]",
            "text/plain": [
              "<Figure size 432x288 with 1 Axes>"
            ]
          },
          "metadata": {
            "tags": [],
            "needs_background": "light"
          }
        }
      ]
    },
    {
      "cell_type": "code",
      "metadata": {
        "id": "nzvLJyaJNfr9",
        "colab_type": "code",
        "colab": {
          "base_uri": "https://localhost:8080/",
          "height": 366
        },
        "outputId": "6736cd24-a06e-49f5-c158-44424f50c4fe"
      },
      "source": [
        "print((df_sorted_rev[\"levels\"].value_counts()/25.0)*100)\n",
        "fig = sns.distplot(df_sorted_rev[\"levels\"],kde = False)\n",
        "fig.plot()"
      ],
      "execution_count": 93,
      "outputs": [
        {
          "output_type": "stream",
          "text": [
            "0.0    80.0\n",
            "1.0    16.0\n",
            "2.0     4.0\n",
            "Name: levels, dtype: float64\n"
          ],
          "name": "stdout"
        },
        {
          "output_type": "execute_result",
          "data": {
            "text/plain": [
              "[]"
            ]
          },
          "metadata": {
            "tags": []
          },
          "execution_count": 93
        },
        {
          "output_type": "display_data",
          "data": {
            "image/png": "[encoded data removed]",
            "text/plain": [
              "<Figure size 432x288 with 1 Axes>"
            ]
          },
          "metadata": {
            "tags": [],
            "needs_background": "light"
          }
        }
      ]
    },
    {
      "cell_type": "markdown",
      "metadata": {
        "id": "TG0usmsu5LwP",
        "colab_type": "text"
      },
      "source": [
        "*   Intrestingly 92% of the top 25 courses with most reviews are web development courses while musical instrument courses and business courses are 4% each, no musical instrument course is in the list\n",
        "*   Out of them 68% are paid and 32% are unpaid\n",
        "*   80% of the courses are of \"All level\" courses while\n",
        "16% \"Intermediate level\" courses and rest 4% are \"Begineer level\""
      ]
    },
    {
      "cell_type": "markdown",
      "metadata": {
        "id": "vYb7lU25iD18",
        "colab_type": "text"
      },
      "source": [
        "# Analysis of courses over years:"
      ]
    },
    {
      "cell_type": "code",
      "metadata": {
        "id": "lEawxCnpg-2I",
        "colab_type": "code",
        "colab": {
          "base_uri": "https://localhost:8080/",
          "height": 297
        },
        "outputId": "864c4df4-a6be-449c-f328-d11276571eca"
      },
      "source": [
        "sns.countplot(x = \"publish_timestamp\",hue = \"subjects\",data = df)"
      ],
      "execution_count": 106,
      "outputs": [
        {
          "output_type": "execute_result",
          "data": {
            "text/plain": [
              "<matplotlib.axes._subplots.AxesSubplot at 0x7f6ae35e2908>"
            ]
          },
          "metadata": {
            "tags": []
          },
          "execution_count": 106
        },
        {
          "output_type": "display_data",
          "data": {
            "image/png": "[encoded data removed]",
            "text/plain": [
              "<Figure size 432x288 with 1 Axes>"
            ]
          },
          "metadata": {
            "tags": [],
            "needs_background": "light"
          }
        }
      ]
    },
    {
      "cell_type": "code",
      "metadata": {
        "id": "hZoNOpIKlj4Y",
        "colab_type": "code",
        "colab": {
          "base_uri": "https://localhost:8080/",
          "height": 297
        },
        "outputId": "4a8b33bc-c348-4e17-ed8f-5f48454fb28d"
      },
      "source": [
        "sns.barplot(x = df[\"publish_timestamp\"],y = df[\"num_subscribers\"],hue = df[\"subjects\"])"
      ],
      "execution_count": 107,
      "outputs": [
        {
          "output_type": "execute_result",
          "data": {
            "text/plain": [
              "<matplotlib.axes._subplots.AxesSubplot at 0x7f6ae6315f28>"
            ]
          },
          "metadata": {
            "tags": []
          },
          "execution_count": 107
        },
        {
          "output_type": "display_data",
          "data": {
            "image/png": "[encoded data removed]",
            "text/plain": [
              "<Figure size 432x288 with 1 Axes>"
            ]
          },
          "metadata": {
            "tags": [],
            "needs_background": "light"
          }
        }
      ]
    },
    {
      "cell_type": "markdown",
      "metadata": {
        "id": "1eKf26dEodx5",
        "colab_type": "text"
      },
      "source": [
        "*  Number of courses have increased quite heavily from 2011 to 2016, while we saw decrement in the number of courses in 2017\n",
        "\n",
        "*  Number of subscribers of business courses have increased from 2012 to 2013 and decreasing since while web development subscribers have increased from 2011 to 2012 and maintained its popularity since then. Music and design courses do not have much gain or loss in subscribers since 2012\n",
        "\n"
      ]
    },
    {
      "cell_type": "markdown",
      "metadata": {
        "id": "nCSJw3P9SYB0",
        "colab_type": "text"
      },
      "source": [
        "#  Correlating data with external sources"
      ]
    },
    {
      "cell_type": "code",
      "metadata": {
        "id": "nY_tqaxyNiuM",
        "colab_type": "code",
        "colab": {
          "base_uri": "https://localhost:8080/",
          "height": 1000
        },
        "outputId": "52420ab5-478e-4113-b44c-52f50b1be5cb"
      },
      "source": [
        "df_corr = pd.read_csv(\"/content/LinkedInTopSkillscsv.csv\")\n",
        "df_corr"
      ],
      "execution_count": 109,
      "outputs": [
        {
          "output_type": "execute_result",
          "data": {
            "text/html": [
              "<div>\n",
              "<style scoped>\n",
              "    .dataframe tbody tr th:only-of-type {\n",
              "        vertical-align: middle;\n",
              "    }\n",
              "\n",
              "    .dataframe tbody tr th {\n",
              "        vertical-align: top;\n",
              "    }\n",
              "\n",
              "    .dataframe thead th {\n",
              "        text-align: right;\n",
              "    }\n",
              "</style>\n",
              "<table border=\"1\" class=\"dataframe\">\n",
              "  <thead>\n",
              "    <tr style=\"text-align: right;\">\n",
              "      <th></th>\n",
              "      <th>Year Published</th>\n",
              "      <th>Top Skills Year</th>\n",
              "      <th>Rank</th>\n",
              "      <th>Skill</th>\n",
              "      <th>Region</th>\n",
              "      <th>Comparable to previous year?</th>\n",
              "      <th>URL</th>\n",
              "    </tr>\n",
              "  </thead>\n",
              "  <tbody>\n",
              "    <tr>\n",
              "      <th>0</th>\n",
              "      <td>2018.0</td>\n",
              "      <td>2017</td>\n",
              "      <td>1.0</td>\n",
              "      <td>Cloud and Distributed Computing</td>\n",
              "      <td>US</td>\n",
              "      <td>Yes</td>\n",
              "      <td>https://blog.linkedin.com/2018/january/11/link...</td>\n",
              "    </tr>\n",
              "    <tr>\n",
              "      <th>1</th>\n",
              "      <td>2018.0</td>\n",
              "      <td>2017</td>\n",
              "      <td>2.0</td>\n",
              "      <td>Statistical Analysis and Data Mining</td>\n",
              "      <td>US</td>\n",
              "      <td>Yes</td>\n",
              "      <td>https://blog.linkedin.com/2018/january/11/link...</td>\n",
              "    </tr>\n",
              "    <tr>\n",
              "      <th>2</th>\n",
              "      <td>2018.0</td>\n",
              "      <td>2017</td>\n",
              "      <td>3.0</td>\n",
              "      <td>Middleware and Integration Software</td>\n",
              "      <td>US</td>\n",
              "      <td>Yes</td>\n",
              "      <td>https://blog.linkedin.com/2018/january/11/link...</td>\n",
              "    </tr>\n",
              "    <tr>\n",
              "      <th>3</th>\n",
              "      <td>2018.0</td>\n",
              "      <td>2017</td>\n",
              "      <td>4.0</td>\n",
              "      <td>Web Architecture and Development Framework</td>\n",
              "      <td>US</td>\n",
              "      <td>Yes</td>\n",
              "      <td>https://blog.linkedin.com/2018/january/11/link...</td>\n",
              "    </tr>\n",
              "    <tr>\n",
              "      <th>4</th>\n",
              "      <td>2018.0</td>\n",
              "      <td>2017</td>\n",
              "      <td>5.0</td>\n",
              "      <td>User Interface Design</td>\n",
              "      <td>US</td>\n",
              "      <td>Yes</td>\n",
              "      <td>https://blog.linkedin.com/2018/january/11/link...</td>\n",
              "    </tr>\n",
              "    <tr>\n",
              "      <th>5</th>\n",
              "      <td>2018.0</td>\n",
              "      <td>2017</td>\n",
              "      <td>6.0</td>\n",
              "      <td>Software Revision Control Systems</td>\n",
              "      <td>US</td>\n",
              "      <td>Yes</td>\n",
              "      <td>https://blog.linkedin.com/2018/january/11/link...</td>\n",
              "    </tr>\n",
              "    <tr>\n",
              "      <th>6</th>\n",
              "      <td>2018.0</td>\n",
              "      <td>2017</td>\n",
              "      <td>7.0</td>\n",
              "      <td>Data Presentation</td>\n",
              "      <td>US</td>\n",
              "      <td>Yes</td>\n",
              "      <td>https://blog.linkedin.com/2018/january/11/link...</td>\n",
              "    </tr>\n",
              "    <tr>\n",
              "      <th>7</th>\n",
              "      <td>2018.0</td>\n",
              "      <td>2017</td>\n",
              "      <td>8.0</td>\n",
              "      <td>SEO/SEM Marketing</td>\n",
              "      <td>US</td>\n",
              "      <td>Yes</td>\n",
              "      <td>https://blog.linkedin.com/2018/january/11/link...</td>\n",
              "    </tr>\n",
              "    <tr>\n",
              "      <th>8</th>\n",
              "      <td>2018.0</td>\n",
              "      <td>2017</td>\n",
              "      <td>9.0</td>\n",
              "      <td>Mobile Development</td>\n",
              "      <td>US</td>\n",
              "      <td>Yes</td>\n",
              "      <td>https://blog.linkedin.com/2018/january/11/link...</td>\n",
              "    </tr>\n",
              "    <tr>\n",
              "      <th>9</th>\n",
              "      <td>2018.0</td>\n",
              "      <td>2017</td>\n",
              "      <td>10.0</td>\n",
              "      <td>Network and Information Security</td>\n",
              "      <td>US</td>\n",
              "      <td>Yes</td>\n",
              "      <td>https://blog.linkedin.com/2018/january/11/link...</td>\n",
              "    </tr>\n",
              "    <tr>\n",
              "      <th>10</th>\n",
              "      <td>2017.0</td>\n",
              "      <td>2016</td>\n",
              "      <td>1.0</td>\n",
              "      <td>Cloud and Distributed Computing</td>\n",
              "      <td>Global</td>\n",
              "      <td>Yes</td>\n",
              "      <td>https://blog.linkedin.com/2016/10/20/top-skill...</td>\n",
              "    </tr>\n",
              "    <tr>\n",
              "      <th>11</th>\n",
              "      <td>2017.0</td>\n",
              "      <td>2016</td>\n",
              "      <td>2.0</td>\n",
              "      <td>Statistical Analysis and Data Mining</td>\n",
              "      <td>Global</td>\n",
              "      <td>Yes</td>\n",
              "      <td>https://blog.linkedin.com/2016/10/20/top-skill...</td>\n",
              "    </tr>\n",
              "    <tr>\n",
              "      <th>12</th>\n",
              "      <td>2017.0</td>\n",
              "      <td>2016</td>\n",
              "      <td>3.0</td>\n",
              "      <td>Web Architecture and Development Framework</td>\n",
              "      <td>Global</td>\n",
              "      <td>Yes</td>\n",
              "      <td>https://blog.linkedin.com/2016/10/20/top-skill...</td>\n",
              "    </tr>\n",
              "    <tr>\n",
              "      <th>13</th>\n",
              "      <td>2017.0</td>\n",
              "      <td>2016</td>\n",
              "      <td>4.0</td>\n",
              "      <td>Middleware and Integration Software</td>\n",
              "      <td>Global</td>\n",
              "      <td>Yes</td>\n",
              "      <td>https://blog.linkedin.com/2016/10/20/top-skill...</td>\n",
              "    </tr>\n",
              "    <tr>\n",
              "      <th>14</th>\n",
              "      <td>2017.0</td>\n",
              "      <td>2016</td>\n",
              "      <td>5.0</td>\n",
              "      <td>User Interface Design</td>\n",
              "      <td>Global</td>\n",
              "      <td>Yes</td>\n",
              "      <td>https://blog.linkedin.com/2016/10/20/top-skill...</td>\n",
              "    </tr>\n",
              "    <tr>\n",
              "      <th>15</th>\n",
              "      <td>2017.0</td>\n",
              "      <td>2016</td>\n",
              "      <td>6.0</td>\n",
              "      <td>Network and Information Security</td>\n",
              "      <td>Global</td>\n",
              "      <td>Yes</td>\n",
              "      <td>https://blog.linkedin.com/2016/10/20/top-skill...</td>\n",
              "    </tr>\n",
              "    <tr>\n",
              "      <th>16</th>\n",
              "      <td>2017.0</td>\n",
              "      <td>2016</td>\n",
              "      <td>7.0</td>\n",
              "      <td>Mobile Development</td>\n",
              "      <td>Global</td>\n",
              "      <td>Yes</td>\n",
              "      <td>https://blog.linkedin.com/2016/10/20/top-skill...</td>\n",
              "    </tr>\n",
              "    <tr>\n",
              "      <th>17</th>\n",
              "      <td>2017.0</td>\n",
              "      <td>2016</td>\n",
              "      <td>8.0</td>\n",
              "      <td>Data Presentation</td>\n",
              "      <td>Global</td>\n",
              "      <td>Yes</td>\n",
              "      <td>https://blog.linkedin.com/2016/10/20/top-skill...</td>\n",
              "    </tr>\n",
              "    <tr>\n",
              "      <th>18</th>\n",
              "      <td>2017.0</td>\n",
              "      <td>2016</td>\n",
              "      <td>9.0</td>\n",
              "      <td>SEO/SEM Marketing</td>\n",
              "      <td>Global</td>\n",
              "      <td>Yes</td>\n",
              "      <td>https://blog.linkedin.com/2016/10/20/top-skill...</td>\n",
              "    </tr>\n",
              "    <tr>\n",
              "      <th>19</th>\n",
              "      <td>2017.0</td>\n",
              "      <td>2016</td>\n",
              "      <td>10.0</td>\n",
              "      <td>Storage Systems and Management</td>\n",
              "      <td>Global</td>\n",
              "      <td>Yes</td>\n",
              "      <td>https://blog.linkedin.com/2016/10/20/top-skill...</td>\n",
              "    </tr>\n",
              "    <tr>\n",
              "      <th>20</th>\n",
              "      <td>2016.0</td>\n",
              "      <td>2015</td>\n",
              "      <td>1.0</td>\n",
              "      <td>Cloud and Distributed Computing</td>\n",
              "      <td>Global</td>\n",
              "      <td>Yes</td>\n",
              "      <td>https://blog.linkedin.com/2016/01/12/the-25-sk...</td>\n",
              "    </tr>\n",
              "    <tr>\n",
              "      <th>21</th>\n",
              "      <td>2016.0</td>\n",
              "      <td>2015</td>\n",
              "      <td>2.0</td>\n",
              "      <td>Statistical Analysis and Data Mining</td>\n",
              "      <td>Global</td>\n",
              "      <td>Yes</td>\n",
              "      <td>https://blog.linkedin.com/2016/01/12/the-25-sk...</td>\n",
              "    </tr>\n",
              "    <tr>\n",
              "      <th>22</th>\n",
              "      <td>2016.0</td>\n",
              "      <td>2015</td>\n",
              "      <td>3.0</td>\n",
              "      <td>Marketing Campaign Management</td>\n",
              "      <td>Global</td>\n",
              "      <td>Yes</td>\n",
              "      <td>https://blog.linkedin.com/2016/01/12/the-25-sk...</td>\n",
              "    </tr>\n",
              "    <tr>\n",
              "      <th>23</th>\n",
              "      <td>2016.0</td>\n",
              "      <td>2015</td>\n",
              "      <td>4.0</td>\n",
              "      <td>SEO/SEM Marketing</td>\n",
              "      <td>Global</td>\n",
              "      <td>Yes</td>\n",
              "      <td>https://blog.linkedin.com/2016/01/12/the-25-sk...</td>\n",
              "    </tr>\n",
              "    <tr>\n",
              "      <th>24</th>\n",
              "      <td>2016.0</td>\n",
              "      <td>2015</td>\n",
              "      <td>5.0</td>\n",
              "      <td>Middleware and Integration Software</td>\n",
              "      <td>Global</td>\n",
              "      <td>Yes</td>\n",
              "      <td>https://blog.linkedin.com/2016/01/12/the-25-sk...</td>\n",
              "    </tr>\n",
              "    <tr>\n",
              "      <th>25</th>\n",
              "      <td>2016.0</td>\n",
              "      <td>2015</td>\n",
              "      <td>6.0</td>\n",
              "      <td>Mobile Development</td>\n",
              "      <td>Global</td>\n",
              "      <td>Yes</td>\n",
              "      <td>https://blog.linkedin.com/2016/01/12/the-25-sk...</td>\n",
              "    </tr>\n",
              "    <tr>\n",
              "      <th>26</th>\n",
              "      <td>2016.0</td>\n",
              "      <td>2015</td>\n",
              "      <td>7.0</td>\n",
              "      <td>Network and Information Security</td>\n",
              "      <td>Global</td>\n",
              "      <td>Yes</td>\n",
              "      <td>https://blog.linkedin.com/2016/01/12/the-25-sk...</td>\n",
              "    </tr>\n",
              "    <tr>\n",
              "      <th>27</th>\n",
              "      <td>2016.0</td>\n",
              "      <td>2015</td>\n",
              "      <td>8.0</td>\n",
              "      <td>Storage Systems and Management</td>\n",
              "      <td>Global</td>\n",
              "      <td>Yes</td>\n",
              "      <td>https://blog.linkedin.com/2016/01/12/the-25-sk...</td>\n",
              "    </tr>\n",
              "    <tr>\n",
              "      <th>28</th>\n",
              "      <td>2016.0</td>\n",
              "      <td>2015</td>\n",
              "      <td>9.0</td>\n",
              "      <td>Web Architecture and Development Framework</td>\n",
              "      <td>Global</td>\n",
              "      <td>Yes</td>\n",
              "      <td>https://blog.linkedin.com/2016/01/12/the-25-sk...</td>\n",
              "    </tr>\n",
              "    <tr>\n",
              "      <th>29</th>\n",
              "      <td>2016.0</td>\n",
              "      <td>2015</td>\n",
              "      <td>10.0</td>\n",
              "      <td>User Interface Design</td>\n",
              "      <td>Global</td>\n",
              "      <td>Yes</td>\n",
              "      <td>https://blog.linkedin.com/2016/01/12/the-25-sk...</td>\n",
              "    </tr>\n",
              "    <tr>\n",
              "      <th>30</th>\n",
              "      <td>2015.0</td>\n",
              "      <td>2014</td>\n",
              "      <td>1.0</td>\n",
              "      <td>Statistical Analysis and Data Mining</td>\n",
              "      <td>Global</td>\n",
              "      <td>No</td>\n",
              "      <td>https://blog.linkedin.com/2014/12/17/the-25-ho...</td>\n",
              "    </tr>\n",
              "    <tr>\n",
              "      <th>31</th>\n",
              "      <td>2015.0</td>\n",
              "      <td>2014</td>\n",
              "      <td>2.0</td>\n",
              "      <td>Middleware and Integration Software</td>\n",
              "      <td>Global</td>\n",
              "      <td>No</td>\n",
              "      <td>https://blog.linkedin.com/2014/12/17/the-25-ho...</td>\n",
              "    </tr>\n",
              "    <tr>\n",
              "      <th>32</th>\n",
              "      <td>2015.0</td>\n",
              "      <td>2014</td>\n",
              "      <td>3.0</td>\n",
              "      <td>Storage Systems and Management</td>\n",
              "      <td>Global</td>\n",
              "      <td>No</td>\n",
              "      <td>https://blog.linkedin.com/2014/12/17/the-25-ho...</td>\n",
              "    </tr>\n",
              "    <tr>\n",
              "      <th>33</th>\n",
              "      <td>2015.0</td>\n",
              "      <td>2014</td>\n",
              "      <td>4.0</td>\n",
              "      <td>Network and Information Security</td>\n",
              "      <td>Global</td>\n",
              "      <td>No</td>\n",
              "      <td>https://blog.linkedin.com/2014/12/17/the-25-ho...</td>\n",
              "    </tr>\n",
              "    <tr>\n",
              "      <th>34</th>\n",
              "      <td>2015.0</td>\n",
              "      <td>2014</td>\n",
              "      <td>5.0</td>\n",
              "      <td>SEO/SEM Marketing</td>\n",
              "      <td>Global</td>\n",
              "      <td>No</td>\n",
              "      <td>https://blog.linkedin.com/2014/12/17/the-25-ho...</td>\n",
              "    </tr>\n",
              "    <tr>\n",
              "      <th>35</th>\n",
              "      <td>2015.0</td>\n",
              "      <td>2014</td>\n",
              "      <td>6.0</td>\n",
              "      <td>Business Intelligence</td>\n",
              "      <td>Global</td>\n",
              "      <td>No</td>\n",
              "      <td>https://blog.linkedin.com/2014/12/17/the-25-ho...</td>\n",
              "    </tr>\n",
              "    <tr>\n",
              "      <th>36</th>\n",
              "      <td>2015.0</td>\n",
              "      <td>2014</td>\n",
              "      <td>7.0</td>\n",
              "      <td>Mobile Development</td>\n",
              "      <td>Global</td>\n",
              "      <td>No</td>\n",
              "      <td>https://blog.linkedin.com/2014/12/17/the-25-ho...</td>\n",
              "    </tr>\n",
              "    <tr>\n",
              "      <th>37</th>\n",
              "      <td>2015.0</td>\n",
              "      <td>2014</td>\n",
              "      <td>8.0</td>\n",
              "      <td>Web Architecture and Development Framework</td>\n",
              "      <td>Global</td>\n",
              "      <td>No</td>\n",
              "      <td>https://blog.linkedin.com/2014/12/17/the-25-ho...</td>\n",
              "    </tr>\n",
              "    <tr>\n",
              "      <th>38</th>\n",
              "      <td>2015.0</td>\n",
              "      <td>2014</td>\n",
              "      <td>9.0</td>\n",
              "      <td>Algorithm Design</td>\n",
              "      <td>Global</td>\n",
              "      <td>No</td>\n",
              "      <td>https://blog.linkedin.com/2014/12/17/the-25-ho...</td>\n",
              "    </tr>\n",
              "    <tr>\n",
              "      <th>39</th>\n",
              "      <td>2015.0</td>\n",
              "      <td>2014</td>\n",
              "      <td>10.0</td>\n",
              "      <td>Perl/Python/Ruby</td>\n",
              "      <td>Global</td>\n",
              "      <td>No</td>\n",
              "      <td>https://blog.linkedin.com/2014/12/17/the-25-ho...</td>\n",
              "    </tr>\n",
              "    <tr>\n",
              "      <th>40</th>\n",
              "      <td>2014.0</td>\n",
              "      <td>2013</td>\n",
              "      <td>1.0</td>\n",
              "      <td>Social Media Marketing</td>\n",
              "      <td>NaN</td>\n",
              "      <td>NaN</td>\n",
              "      <td>https://blog.linkedin.com/2013/12/18/the-25-ho...</td>\n",
              "    </tr>\n",
              "    <tr>\n",
              "      <th>41</th>\n",
              "      <td>2014.0</td>\n",
              "      <td>2013</td>\n",
              "      <td>2.0</td>\n",
              "      <td>Mobile Development</td>\n",
              "      <td>NaN</td>\n",
              "      <td>NaN</td>\n",
              "      <td>https://blog.linkedin.com/2013/12/18/the-25-ho...</td>\n",
              "    </tr>\n",
              "    <tr>\n",
              "      <th>42</th>\n",
              "      <td>2014.0</td>\n",
              "      <td>2013</td>\n",
              "      <td>3.0</td>\n",
              "      <td>Cloud and Distributed Computing</td>\n",
              "      <td>NaN</td>\n",
              "      <td>NaN</td>\n",
              "      <td>https://blog.linkedin.com/2013/12/18/the-25-ho...</td>\n",
              "    </tr>\n",
              "    <tr>\n",
              "      <th>43</th>\n",
              "      <td>2014.0</td>\n",
              "      <td>2013</td>\n",
              "      <td>4.0</td>\n",
              "      <td>Perl/Python/Ruby</td>\n",
              "      <td>NaN</td>\n",
              "      <td>NaN</td>\n",
              "      <td>https://blog.linkedin.com/2013/12/18/the-25-ho...</td>\n",
              "    </tr>\n",
              "    <tr>\n",
              "      <th>44</th>\n",
              "      <td>2014.0</td>\n",
              "      <td>2013</td>\n",
              "      <td>5.0</td>\n",
              "      <td>Statistical Analysis and Data Mining</td>\n",
              "      <td>NaN</td>\n",
              "      <td>NaN</td>\n",
              "      <td>https://blog.linkedin.com/2013/12/18/the-25-ho...</td>\n",
              "    </tr>\n",
              "    <tr>\n",
              "      <th>45</th>\n",
              "      <td>2014.0</td>\n",
              "      <td>2013</td>\n",
              "      <td>6.0</td>\n",
              "      <td>User Interface Design</td>\n",
              "      <td>NaN</td>\n",
              "      <td>NaN</td>\n",
              "      <td>https://blog.linkedin.com/2013/12/18/the-25-ho...</td>\n",
              "    </tr>\n",
              "    <tr>\n",
              "      <th>46</th>\n",
              "      <td>2014.0</td>\n",
              "      <td>2013</td>\n",
              "      <td>7.0</td>\n",
              "      <td>Digital and Online Marketing</td>\n",
              "      <td>NaN</td>\n",
              "      <td>NaN</td>\n",
              "      <td>https://blog.linkedin.com/2013/12/18/the-25-ho...</td>\n",
              "    </tr>\n",
              "    <tr>\n",
              "      <th>47</th>\n",
              "      <td>2014.0</td>\n",
              "      <td>2013</td>\n",
              "      <td>8.0</td>\n",
              "      <td>Recruiting</td>\n",
              "      <td>NaN</td>\n",
              "      <td>NaN</td>\n",
              "      <td>https://blog.linkedin.com/2013/12/18/the-25-ho...</td>\n",
              "    </tr>\n",
              "    <tr>\n",
              "      <th>48</th>\n",
              "      <td>2014.0</td>\n",
              "      <td>2013</td>\n",
              "      <td>9.0</td>\n",
              "      <td>Business Development/Relationship Management</td>\n",
              "      <td>NaN</td>\n",
              "      <td>NaN</td>\n",
              "      <td>https://blog.linkedin.com/2013/12/18/the-25-ho...</td>\n",
              "    </tr>\n",
              "    <tr>\n",
              "      <th>49</th>\n",
              "      <td>2014.0</td>\n",
              "      <td>2013</td>\n",
              "      <td>10.0</td>\n",
              "      <td>Retail Payment and Information Systems</td>\n",
              "      <td>NaN</td>\n",
              "      <td>NaN</td>\n",
              "      <td>https://blog.linkedin.com/2013/12/18/the-25-ho...</td>\n",
              "    </tr>\n",
              "    <tr>\n",
              "      <th>50</th>\n",
              "      <td>NaN</td>\n",
              "      <td>p</td>\n",
              "      <td>NaN</td>\n",
              "      <td>NaN</td>\n",
              "      <td>NaN</td>\n",
              "      <td>NaN</td>\n",
              "      <td>NaN</td>\n",
              "    </tr>\n",
              "  </tbody>\n",
              "</table>\n",
              "</div>"
            ],
            "text/plain": [
              "    Year Published  ...                                                URL\n",
              "0           2018.0  ...  https://blog.linkedin.com/2018/january/11/link...\n",
              "1           2018.0  ...  https://blog.linkedin.com/2018/january/11/link...\n",
              "2           2018.0  ...  https://blog.linkedin.com/2018/january/11/link...\n",
              "3           2018.0  ...  https://blog.linkedin.com/2018/january/11/link...\n",
              "4           2018.0  ...  https://blog.linkedin.com/2018/january/11/link...\n",
              "5           2018.0  ...  https://blog.linkedin.com/2018/january/11/link...\n",
              "6           2018.0  ...  https://blog.linkedin.com/2018/january/11/link...\n",
              "7           2018.0  ...  https://blog.linkedin.com/2018/january/11/link...\n",
              "8           2018.0  ...  https://blog.linkedin.com/2018/january/11/link...\n",
              "9           2018.0  ...  https://blog.linkedin.com/2018/january/11/link...\n",
              "10          2017.0  ...  https://blog.linkedin.com/2016/10/20/top-skill...\n",
              "11          2017.0  ...  https://blog.linkedin.com/2016/10/20/top-skill...\n",
              "12          2017.0  ...  https://blog.linkedin.com/2016/10/20/top-skill...\n",
              "13          2017.0  ...  https://blog.linkedin.com/2016/10/20/top-skill...\n",
              "14          2017.0  ...  https://blog.linkedin.com/2016/10/20/top-skill...\n",
              "15          2017.0  ...  https://blog.linkedin.com/2016/10/20/top-skill...\n",
              "16          2017.0  ...  https://blog.linkedin.com/2016/10/20/top-skill...\n",
              "17          2017.0  ...  https://blog.linkedin.com/2016/10/20/top-skill...\n",
              "18          2017.0  ...  https://blog.linkedin.com/2016/10/20/top-skill...\n",
              "19          2017.0  ...  https://blog.linkedin.com/2016/10/20/top-skill...\n",
              "20          2016.0  ...  https://blog.linkedin.com/2016/01/12/the-25-sk...\n",
              "21          2016.0  ...  https://blog.linkedin.com/2016/01/12/the-25-sk...\n",
              "22          2016.0  ...  https://blog.linkedin.com/2016/01/12/the-25-sk...\n",
              "23          2016.0  ...  https://blog.linkedin.com/2016/01/12/the-25-sk...\n",
              "24          2016.0  ...  https://blog.linkedin.com/2016/01/12/the-25-sk...\n",
              "25          2016.0  ...  https://blog.linkedin.com/2016/01/12/the-25-sk...\n",
              "26          2016.0  ...  https://blog.linkedin.com/2016/01/12/the-25-sk...\n",
              "27          2016.0  ...  https://blog.linkedin.com/2016/01/12/the-25-sk...\n",
              "28          2016.0  ...  https://blog.linkedin.com/2016/01/12/the-25-sk...\n",
              "29          2016.0  ...  https://blog.linkedin.com/2016/01/12/the-25-sk...\n",
              "30          2015.0  ...  https://blog.linkedin.com/2014/12/17/the-25-ho...\n",
              "31          2015.0  ...  https://blog.linkedin.com/2014/12/17/the-25-ho...\n",
              "32          2015.0  ...  https://blog.linkedin.com/2014/12/17/the-25-ho...\n",
              "33          2015.0  ...  https://blog.linkedin.com/2014/12/17/the-25-ho...\n",
              "34          2015.0  ...  https://blog.linkedin.com/2014/12/17/the-25-ho...\n",
              "35          2015.0  ...  https://blog.linkedin.com/2014/12/17/the-25-ho...\n",
              "36          2015.0  ...  https://blog.linkedin.com/2014/12/17/the-25-ho...\n",
              "37          2015.0  ...  https://blog.linkedin.com/2014/12/17/the-25-ho...\n",
              "38          2015.0  ...  https://blog.linkedin.com/2014/12/17/the-25-ho...\n",
              "39          2015.0  ...  https://blog.linkedin.com/2014/12/17/the-25-ho...\n",
              "40          2014.0  ...  https://blog.linkedin.com/2013/12/18/the-25-ho...\n",
              "41          2014.0  ...  https://blog.linkedin.com/2013/12/18/the-25-ho...\n",
              "42          2014.0  ...  https://blog.linkedin.com/2013/12/18/the-25-ho...\n",
              "43          2014.0  ...  https://blog.linkedin.com/2013/12/18/the-25-ho...\n",
              "44          2014.0  ...  https://blog.linkedin.com/2013/12/18/the-25-ho...\n",
              "45          2014.0  ...  https://blog.linkedin.com/2013/12/18/the-25-ho...\n",
              "46          2014.0  ...  https://blog.linkedin.com/2013/12/18/the-25-ho...\n",
              "47          2014.0  ...  https://blog.linkedin.com/2013/12/18/the-25-ho...\n",
              "48          2014.0  ...  https://blog.linkedin.com/2013/12/18/the-25-ho...\n",
              "49          2014.0  ...  https://blog.linkedin.com/2013/12/18/the-25-ho...\n",
              "50             NaN  ...                                                NaN\n",
              "\n",
              "[51 rows x 7 columns]"
            ]
          },
          "metadata": {
            "tags": []
          },
          "execution_count": 109
        }
      ]
    },
    {
      "cell_type": "markdown",
      "metadata": {
        "id": "nebnaHHP6i4h",
        "colab_type": "text"
      },
      "source": [
        "*   It is evident from the data that Web Architecture and Development Framework\tis becoming more and more popular in the recent years according to the top skills dataset by LinkedIn. While it overpasses Business Intelligence and SEO/SEM Marketing after 2015,\n",
        "User Interface Design\tis gaining more and more popularity. Web Architecture and Development Framework was listed at fourth in the top skills of 2018.\n",
        "This is similar to the data we have seen from udemy which infers that web development courses are more popular than any other courses evidenced from their high frequency, more subscribers, and more reviews.\n",
        "\n",
        "\n"
      ]
    },
    {
      "cell_type": "code",
      "metadata": {
        "id": "d2A1ZJORR-0A",
        "colab_type": "code",
        "colab": {}
      },
      "source": [
        ""
      ],
      "execution_count": null,
      "outputs": []
    }
  ]
}