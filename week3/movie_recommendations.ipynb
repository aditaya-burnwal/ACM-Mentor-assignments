{
  "nbformat": 4,
  "nbformat_minor": 0,
  "metadata": {
    "colab": {
      "name": "Untitled20.ipynb",
      "provenance": [],
      "authorship_tag": "ABX9TyMVzEL5JxWk0aJBQANdtUA3",
      "include_colab_link": true
    },
    "kernelspec": {
      "name": "python3",
      "display_name": "Python 3"
    }
  },
  "cells": [
    {
      "cell_type": "markdown",
      "metadata": {
        "id": "view-in-github",
        "colab_type": "text"
      },
      "source": [
        "<a href=\"https://colab.research.google.com/github/vaibhatt/ACM-Mentor-assignments/blob/master/week3/movie_recommendations.ipynb\" target=\"_parent\"><img src=\"https://colab.research.google.com/assets/colab-badge.svg\" alt=\"Open In Colab\"/></a>"
      ]
    },
    {
      "cell_type": "code",
      "metadata": {
        "id": "3kd3KuyB47i_",
        "colab_type": "code",
        "colab": {
          "base_uri": "https://localhost:8080/",
          "height": 72
        },
        "outputId": "b268e234-4180-4d7e-f0b6-4b9a99ce4f13"
      },
      "source": [
        "import numpy as np\n",
        "import pandas as pd\n",
        "import matplotlib.pyplot as plt\n",
        "%matplotlib inline\n",
        "import seaborn as sns\n",
        "from scipy.sparse import csr_matrix"
      ],
      "execution_count": 2,
      "outputs": [
        {
          "output_type": "stream",
          "text": [
            "/usr/local/lib/python3.6/dist-packages/statsmodels/tools/_testing.py:19: FutureWarning: pandas.util.testing is deprecated. Use the functions in the public API at pandas.testing instead.\n",
            "  import pandas.util.testing as tm\n"
          ],
          "name": "stderr"
        }
      ]
    },
    {
      "cell_type": "code",
      "metadata": {
        "id": "GfZDordi5Emi",
        "colab_type": "code",
        "colab": {
          "base_uri": "https://localhost:8080/",
          "height": 364
        },
        "outputId": "57865f06-e4aa-404c-aee2-300c105324a9"
      },
      "source": [
        "!wget http://files.grouplens.org/datasets/movielens/ml-latest.zip\n",
        "!unzip ml-latest.zip"
      ],
      "execution_count": 5,
      "outputs": [
        {
          "output_type": "stream",
          "text": [
            "--2020-07-31 08:03:28--  http://files.grouplens.org/datasets/movielens/ml-latest.zip\n",
            "Resolving files.grouplens.org (files.grouplens.org)... 128.101.65.152\n",
            "Connecting to files.grouplens.org (files.grouplens.org)|128.101.65.152|:80... connected.\n",
            "HTTP request sent, awaiting response... 200 OK\n",
            "Length: 277113433 (264M) [application/zip]\n",
            "Saving to: ‘ml-latest.zip’\n",
            "\n",
            "ml-latest.zip       100%[===================>] 264.28M  26.2MB/s    in 11s     \n",
            "\n",
            "2020-07-31 08:03:40 (24.5 MB/s) - ‘ml-latest.zip’ saved [277113433/277113433]\n",
            "\n",
            "Archive:  ml-latest.zip\n",
            "   creating: ml-latest/\n",
            "  inflating: ml-latest/links.csv     \n",
            "  inflating: ml-latest/tags.csv      \n",
            "  inflating: ml-latest/genome-tags.csv  \n",
            "  inflating: ml-latest/ratings.csv   \n",
            "  inflating: ml-latest/README.txt    \n",
            "  inflating: ml-latest/genome-scores.csv  \n",
            "  inflating: ml-latest/movies.csv    \n"
          ],
          "name": "stdout"
        }
      ]
    },
    {
      "cell_type": "code",
      "metadata": {
        "id": "AyeuJatU5RU2",
        "colab_type": "code",
        "colab": {}
      },
      "source": [
        "ratings_df = pd.read_csv(\"/content/ml-latest/ratings.csv\")\n",
        "movies_df = pd.read_csv(\"/content/ml-latest/movies.csv\")"
      ],
      "execution_count": 9,
      "outputs": []
    },
    {
      "cell_type": "code",
      "metadata": {
        "id": "2cHvPfQL5UY3",
        "colab_type": "code",
        "colab": {}
      },
      "source": [
        "def process_df(movies_df,ratings_df,thresh = 10000):\n",
        "  df = movies_df.merge(ratings_df,on=\"movieId\")\n",
        "  df = df.merge(pd.DataFrame(df.groupby('title')[\"rating\"].mean()).rename(columns = {\"rating\":\"mean_rating\"}),on = \"title\")\n",
        "  df = df.merge(pd.DataFrame(df.groupby(\"title\")[\"userId\"].count()).rename(columns = {\"userId\":\"rate_count\"}),on = \"title\")\n",
        "  df_ratesorted = df[df.rate_count > thresh]\n",
        "  return df_ratesorted\n",
        "  \n"
      ],
      "execution_count": 11,
      "outputs": []
    },
    {
      "cell_type": "code",
      "metadata": {
        "id": "VUAYXyel6eGU",
        "colab_type": "code",
        "colab": {
          "base_uri": "https://localhost:8080/",
          "height": 782
        },
        "outputId": "abec7fb6-ec9e-4883-a5b9-abd2403a433b"
      },
      "source": [
        "df = process_df(movies_df,ratings_df)\n",
        "df"
      ],
      "execution_count": 12,
      "outputs": [
        {
          "output_type": "execute_result",
          "data": {
            "text/html": [
              "<div>\n",
              "<style scoped>\n",
              "    .dataframe tbody tr th:only-of-type {\n",
              "        vertical-align: middle;\n",
              "    }\n",
              "\n",
              "    .dataframe tbody tr th {\n",
              "        vertical-align: top;\n",
              "    }\n",
              "\n",
              "    .dataframe thead th {\n",
              "        text-align: right;\n",
              "    }\n",
              "</style>\n",
              "<table border=\"1\" class=\"dataframe\">\n",
              "  <thead>\n",
              "    <tr style=\"text-align: right;\">\n",
              "      <th></th>\n",
              "      <th>movieId</th>\n",
              "      <th>title</th>\n",
              "      <th>genres</th>\n",
              "      <th>userId</th>\n",
              "      <th>rating</th>\n",
              "      <th>timestamp</th>\n",
              "      <th>mean_rating</th>\n",
              "      <th>rate_count</th>\n",
              "    </tr>\n",
              "  </thead>\n",
              "  <tbody>\n",
              "    <tr>\n",
              "      <th>0</th>\n",
              "      <td>1</td>\n",
              "      <td>Toy Story (1995)</td>\n",
              "      <td>Adventure|Animation|Children|Comedy|Fantasy</td>\n",
              "      <td>4</td>\n",
              "      <td>4.0</td>\n",
              "      <td>1113765937</td>\n",
              "      <td>3.886649</td>\n",
              "      <td>68469</td>\n",
              "    </tr>\n",
              "    <tr>\n",
              "      <th>1</th>\n",
              "      <td>1</td>\n",
              "      <td>Toy Story (1995)</td>\n",
              "      <td>Adventure|Animation|Children|Comedy|Fantasy</td>\n",
              "      <td>10</td>\n",
              "      <td>5.0</td>\n",
              "      <td>948885850</td>\n",
              "      <td>3.886649</td>\n",
              "      <td>68469</td>\n",
              "    </tr>\n",
              "    <tr>\n",
              "      <th>2</th>\n",
              "      <td>1</td>\n",
              "      <td>Toy Story (1995)</td>\n",
              "      <td>Adventure|Animation|Children|Comedy|Fantasy</td>\n",
              "      <td>14</td>\n",
              "      <td>4.5</td>\n",
              "      <td>1442169375</td>\n",
              "      <td>3.886649</td>\n",
              "      <td>68469</td>\n",
              "    </tr>\n",
              "    <tr>\n",
              "      <th>3</th>\n",
              "      <td>1</td>\n",
              "      <td>Toy Story (1995)</td>\n",
              "      <td>Adventure|Animation|Children|Comedy|Fantasy</td>\n",
              "      <td>15</td>\n",
              "      <td>4.0</td>\n",
              "      <td>1370810063</td>\n",
              "      <td>3.886649</td>\n",
              "      <td>68469</td>\n",
              "    </tr>\n",
              "    <tr>\n",
              "      <th>4</th>\n",
              "      <td>1</td>\n",
              "      <td>Toy Story (1995)</td>\n",
              "      <td>Adventure|Animation|Children|Comedy|Fantasy</td>\n",
              "      <td>22</td>\n",
              "      <td>4.0</td>\n",
              "      <td>1237622631</td>\n",
              "      <td>3.886649</td>\n",
              "      <td>68469</td>\n",
              "    </tr>\n",
              "    <tr>\n",
              "      <th>...</th>\n",
              "      <td>...</td>\n",
              "      <td>...</td>\n",
              "      <td>...</td>\n",
              "      <td>...</td>\n",
              "      <td>...</td>\n",
              "      <td>...</td>\n",
              "      <td>...</td>\n",
              "      <td>...</td>\n",
              "    </tr>\n",
              "    <tr>\n",
              "      <th>27254378</th>\n",
              "      <td>134853</td>\n",
              "      <td>Inside Out (2015)</td>\n",
              "      <td>Adventure|Animation|Children|Comedy|Drama|Fantasy</td>\n",
              "      <td>283125</td>\n",
              "      <td>5.0</td>\n",
              "      <td>1477786484</td>\n",
              "      <td>3.960429</td>\n",
              "      <td>13659</td>\n",
              "    </tr>\n",
              "    <tr>\n",
              "      <th>27254379</th>\n",
              "      <td>134853</td>\n",
              "      <td>Inside Out (2015)</td>\n",
              "      <td>Adventure|Animation|Children|Comedy|Drama|Fantasy</td>\n",
              "      <td>283163</td>\n",
              "      <td>5.0</td>\n",
              "      <td>1492645084</td>\n",
              "      <td>3.960429</td>\n",
              "      <td>13659</td>\n",
              "    </tr>\n",
              "    <tr>\n",
              "      <th>27254380</th>\n",
              "      <td>134853</td>\n",
              "      <td>Inside Out (2015)</td>\n",
              "      <td>Adventure|Animation|Children|Comedy|Drama|Fantasy</td>\n",
              "      <td>283173</td>\n",
              "      <td>3.0</td>\n",
              "      <td>1487522775</td>\n",
              "      <td>3.960429</td>\n",
              "      <td>13659</td>\n",
              "    </tr>\n",
              "    <tr>\n",
              "      <th>27254381</th>\n",
              "      <td>134853</td>\n",
              "      <td>Inside Out (2015)</td>\n",
              "      <td>Adventure|Animation|Children|Comedy|Drama|Fantasy</td>\n",
              "      <td>283183</td>\n",
              "      <td>3.5</td>\n",
              "      <td>1509584521</td>\n",
              "      <td>3.960429</td>\n",
              "      <td>13659</td>\n",
              "    </tr>\n",
              "    <tr>\n",
              "      <th>27254382</th>\n",
              "      <td>134853</td>\n",
              "      <td>Inside Out (2015)</td>\n",
              "      <td>Adventure|Animation|Children|Comedy|Drama|Fantasy</td>\n",
              "      <td>283184</td>\n",
              "      <td>5.0</td>\n",
              "      <td>1475990158</td>\n",
              "      <td>3.960429</td>\n",
              "      <td>13659</td>\n",
              "    </tr>\n",
              "  </tbody>\n",
              "</table>\n",
              "<p>14399683 rows × 8 columns</p>\n",
              "</div>"
            ],
            "text/plain": [
              "          movieId              title  ... mean_rating  rate_count\n",
              "0               1   Toy Story (1995)  ...    3.886649       68469\n",
              "1               1   Toy Story (1995)  ...    3.886649       68469\n",
              "2               1   Toy Story (1995)  ...    3.886649       68469\n",
              "3               1   Toy Story (1995)  ...    3.886649       68469\n",
              "4               1   Toy Story (1995)  ...    3.886649       68469\n",
              "...           ...                ...  ...         ...         ...\n",
              "27254378   134853  Inside Out (2015)  ...    3.960429       13659\n",
              "27254379   134853  Inside Out (2015)  ...    3.960429       13659\n",
              "27254380   134853  Inside Out (2015)  ...    3.960429       13659\n",
              "27254381   134853  Inside Out (2015)  ...    3.960429       13659\n",
              "27254382   134853  Inside Out (2015)  ...    3.960429       13659\n",
              "\n",
              "[14399683 rows x 8 columns]"
            ]
          },
          "metadata": {
            "tags": []
          },
          "execution_count": 12
        }
      ]
    },
    {
      "cell_type": "code",
      "metadata": {
        "id": "xFX3nE1P64Fv",
        "colab_type": "code",
        "colab": {}
      },
      "source": [
        ""
      ],
      "execution_count": null,
      "outputs": []
    }
  ]
}